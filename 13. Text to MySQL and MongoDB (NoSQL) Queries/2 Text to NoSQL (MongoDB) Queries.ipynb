{
 "cells": [
  {
   "cell_type": "markdown",
   "metadata": {},
   "source": [
    "## Text to NoSQL (MongoDB) Queries"
   ]
  },
  {
   "cell_type": "markdown",
   "metadata": {},
   "source": [
    "- Building Q&A systems of SQL databases requires executing model-generated SQL queries\n",
    "- Make sure your database have only Read-Only access to prevent any data loss"
   ]
  },
  {
   "cell_type": "code",
   "execution_count": 1,
   "metadata": {},
   "outputs": [
    {
     "data": {
      "text/plain": [
       "True"
      ]
     },
     "execution_count": 1,
     "metadata": {},
     "output_type": "execute_result"
    }
   ],
   "source": [
    "from dotenv import load_dotenv\n",
    "import os\n",
    "\n",
    "os.environ['KMP_DUPLICATE_LIB_OK'] = 'True'\n",
    "\n",
    "load_dotenv()"
   ]
  },
  {
   "cell_type": "code",
   "execution_count": 2,
   "metadata": {},
   "outputs": [
    {
     "data": {
      "text/plain": [
       "AIMessage(content='How can I assist you today?', additional_kwargs={}, response_metadata={'model': 'llama3.2:3b', 'created_at': '2024-11-01T09:04:10.7783177Z', 'message': {'role': 'assistant', 'content': ''}, 'done_reason': 'stop', 'done': True, 'total_duration': 1864811800, 'load_duration': 1683035900, 'prompt_eval_count': 26, 'prompt_eval_duration': 49020000, 'eval_count': 8, 'eval_duration': 130476000}, id='run-e7284580-af63-4022-9fbc-ab1616485511-0', usage_metadata={'input_tokens': 26, 'output_tokens': 8, 'total_tokens': 34})"
      ]
     },
     "execution_count": 2,
     "metadata": {},
     "output_type": "execute_result"
    }
   ],
   "source": [
    "from langchain_ollama import ChatOllama \n",
    "from langchain_core.output_parsers import StrOutputParser\n",
    "from langchain_core.runnables import RunnablePassthrough \n",
    "from langchain_core.prompts import ChatPromptTemplate\n",
    "\n",
    "from langchain_core.tools import tool\n",
    "\n",
    "\n",
    "llm = ChatOllama(model='llama3.2:3b', base_url='http://localhost:11434')\n",
    "llm.invoke('hi')"
   ]
  },
  {
   "cell_type": "code",
   "execution_count": 3,
   "metadata": {},
   "outputs": [
    {
     "name": "stdout",
     "output_type": "stream",
     "text": [
      "sqlite\n",
      "['Album', 'Artist', 'Customer', 'Employee', 'Genre', 'Invoice', 'InvoiceLine', 'MediaType', 'Playlist', 'PlaylistTrack', 'Track']\n"
     ]
    },
    {
     "data": {
      "text/plain": [
       "\"[(1, 'AC/DC'), (2, 'Accept'), (3, 'Aerosmith'), (4, 'Alanis Morissette'), (5, 'Alice In Chains'), (6, 'Antônio Carlos Jobim'), (7, 'Apocalyptica'), (8, 'Audioslave'), (9, 'BackBeat'), (10, 'Billy Cobham')]\""
      ]
     },
     "execution_count": 3,
     "metadata": {},
     "output_type": "execute_result"
    }
   ],
   "source": [
    "from langchain_community.utilities import SQLDatabase\n",
    "\n",
    "db = SQLDatabase.from_uri(\"sqlite:///Chinook.db\")\n",
    "print(db.dialect)\n",
    "print(db.get_usable_table_names())\n",
    "db.run(\"SELECT * FROM Artist LIMIT 10;\")"
   ]
  },
  {
   "cell_type": "markdown",
   "metadata": {},
   "source": [
    "### Chains"
   ]
  },
  {
   "cell_type": "markdown",
   "metadata": {},
   "source": [
    "- convert the question into a SQL query;\n",
    "- execute the query;\n",
    "- use the result to answer the original question."
   ]
  },
  {
   "cell_type": "code",
   "execution_count": 3,
   "metadata": {},
   "outputs": [
    {
     "data": {
      "text/plain": [
       "ChatPromptTemplate(input_variables=['collection_info', 'input'], input_types={}, partial_variables={}, messages=[HumanMessagePromptTemplate(prompt=PromptTemplate(input_variables=['collection_info', 'input'], input_types={}, partial_variables={}, template=\"\\nYou are a MongoDB expert. Given an input question, create a syntactically correct MongoDB query to run using MongoDB's aggregation framework or find() method, as appropriate. Then, look at the results of the query and return the answer to the input question.\\n\\nUnless the user specifies in the question a specific number of examples to obtain, limit the query to at most 5 results using the limit() function. You can order the results using sort() to return the most relevant or recent data in the database.\\n\\nNever query for all fields in a document. Only include the fields needed to answer the question in the projection. Use the exact field names as they appear in the collection to avoid errors. Be cautious not to reference fields that do not exist in the collection. If the question involves today's date, use new Date() to represent the current date.\\n\\nUse the following format:\\n\\nQuestion: Question here\\nMongoDBQuery: MongoDB Query to run\\nMongoDBResult: Result of the MongoDBQuery\\nAnswer: Final answer here\\n\\nOnly use the following collections:\\n{collection_info}\\n\\nQuestion: {input}\\n\"), additional_kwargs={})])"
      ]
     },
     "execution_count": 3,
     "metadata": {},
     "output_type": "execute_result"
    }
   ],
   "source": [
    "prompt = \"\"\"\n",
    "You are a MongoDB expert. Given an input question, create a syntactically correct MongoDB query to run using MongoDB's aggregation framework or find() method, as appropriate. Then, look at the results of the query and return the answer to the input question.\n",
    "\n",
    "Unless the user specifies in the question a specific number of examples to obtain, limit the query to at most 5 results using the limit() function. You can order the results using sort() to return the most relevant or recent data in the database.\n",
    "\n",
    "Never query for all fields in a document. Only include the fields needed to answer the question in the projection. Use the exact field names as they appear in the collection to avoid errors. Be cautious not to reference fields that do not exist in the collection. If the question involves today's date, use new Date() to represent the current date.\n",
    "\n",
    "Use the following format:\n",
    "\n",
    "Question: Question here\n",
    "MongoDBQuery: MongoDB Query to run\n",
    "MongoDBResult: Result of the MongoDBQuery\n",
    "Answer: Final answer here\n",
    "\n",
    "Only use the following collections:\n",
    "{collection_info}\n",
    "\n",
    "Question: {input}\n",
    "\"\"\"\n",
    "\n",
    "template = ChatPromptTemplate.from_template(prompt)\n",
    "template\n"
   ]
  },
  {
   "cell_type": "code",
   "execution_count": 5,
   "metadata": {},
   "outputs": [
    {
     "name": "stdout",
     "output_type": "stream",
     "text": [
      "SELECT COUNT(DISTINCT \"CustomerId\") FROM Customer\n"
     ]
    }
   ],
   "source": [
    "# llm\n",
    "question = \"How many customer are there\"\n",
    "response = chain.invoke({\"question\": question})\n",
    "print(response)"
   ]
  },
  {
   "cell_type": "markdown",
   "metadata": {},
   "source": [
    "### Extract Correct Query from LLM"
   ]
  },
  {
   "cell_type": "code",
   "execution_count": 6,
   "metadata": {},
   "outputs": [],
   "source": [
    "from scripts.llm import ask_llm\n",
    "from langchain_core.runnables import chain\n"
   ]
  },
  {
   "cell_type": "code",
   "execution_count": 7,
   "metadata": {},
   "outputs": [],
   "source": [
    "@chain\n",
    "def get_correct_sql_query(input):\n",
    "    context = input['context']\n",
    "    question = input['question']\n",
    "    intruction = \"\"\"\n",
    "        Use above context to fetch the correct SQL query for following question\n",
    "        {}\n",
    "\n",
    "        Do not enclose query in ```sql and do not write preamble and explanation.\n",
    "        You MUST return only single SQL query.\n",
    "    \"\"\".format(question)\n",
    "\n",
    "    response = ask_llm(context=context, question=intruction)\n",
    "\n",
    "    return response"
   ]
  },
  {
   "cell_type": "code",
   "execution_count": 8,
   "metadata": {},
   "outputs": [
    {
     "data": {
      "text/plain": [
       "'SELECT COUNT(DISTINCT \"CustomerId\") FROM Customer'"
      ]
     },
     "execution_count": 8,
     "metadata": {},
     "output_type": "execute_result"
    }
   ],
   "source": [
    "get_correct_sql_query.invoke({'context':response, 'question':question})"
   ]
  },
  {
   "cell_type": "markdown",
   "metadata": {},
   "source": [
    "### Final SQL Query Chain "
   ]
  },
  {
   "cell_type": "code",
   "execution_count": 9,
   "metadata": {},
   "outputs": [
    {
     "data": {
      "text/plain": [
       "'[(59,)]'"
      ]
     },
     "execution_count": 9,
     "metadata": {},
     "output_type": "execute_result"
    }
   ],
   "source": [
    "from langchain_community.tools.sql_database.tool import QuerySQLDataBaseTool\n",
    "from langchain_core.runnables import RunnableLambda\n",
    "\n",
    "execute_query = QuerySQLDataBaseTool(db=db)\n",
    "write_query = create_sql_query_chain(llm, db)\n",
    "\n",
    "chain = (\n",
    "        {'context': write_query, 'question': RunnablePassthrough()}\n",
    "        |get_correct_sql_query\n",
    "        | execute_query\n",
    "        )\n",
    "\n",
    "chain.invoke({\"question\": \"How many customers are there\"})"
   ]
  },
  {
   "cell_type": "markdown",
   "metadata": {},
   "source": [
    "### MySQL Query Execution with Agents"
   ]
  },
  {
   "cell_type": "markdown",
   "metadata": {},
   "source": [
    "- It can answer questions based on the databases' schema as well as on the databases' content (like describing a specific table).\n",
    "- It can recover from errors by running a generated query, catching the traceback and regenerating it correctly.\n",
    "- It can query the database as many times as needed to answer the user question.\n",
    "- It will save tokens by only retrieving the schema from relevant tables.\n"
   ]
  },
  {
   "cell_type": "code",
   "execution_count": 10,
   "metadata": {},
   "outputs": [],
   "source": [
    "# %pip install --upgrade --quiet langgraph\n"
   ]
  },
  {
   "cell_type": "code",
   "execution_count": 11,
   "metadata": {},
   "outputs": [
    {
     "data": {
      "text/plain": [
       "[QuerySQLDataBaseTool(description=\"Input to this tool is a detailed and correct SQL query, output is a result from the database. If the query is not correct, an error message will be returned. If an error is returned, rewrite the query, check the query, and try again. If you encounter an issue with Unknown column 'xxxx' in 'field list', use sql_db_schema to query the correct table fields.\", db=<langchain_community.utilities.sql_database.SQLDatabase object at 0x000001B2FF80FA10>),\n",
       " InfoSQLDatabaseTool(description='Input to this tool is a comma-separated list of tables, output is the schema and sample rows for those tables. Be sure that the tables actually exist by calling sql_db_list_tables first! Example Input: table1, table2, table3', db=<langchain_community.utilities.sql_database.SQLDatabase object at 0x000001B2FF80FA10>),\n",
       " ListSQLDatabaseTool(db=<langchain_community.utilities.sql_database.SQLDatabase object at 0x000001B2FF80FA10>),\n",
       " QuerySQLCheckerTool(description='Use this tool to double check if your query is correct before executing it. Always use this tool before executing a query with sql_db_query!', db=<langchain_community.utilities.sql_database.SQLDatabase object at 0x000001B2FF80FA10>, llm=ChatOllama(model='llama3.2:3b', base_url='http://localhost:11434'), llm_chain=LLMChain(verbose=False, prompt=PromptTemplate(input_variables=['dialect', 'query'], input_types={}, partial_variables={}, template='\\n{query}\\nDouble check the {dialect} query above for common mistakes, including:\\n- Using NOT IN with NULL values\\n- Using UNION when UNION ALL should have been used\\n- Using BETWEEN for exclusive ranges\\n- Data type mismatch in predicates\\n- Properly quoting identifiers\\n- Using the correct number of arguments for functions\\n- Casting to the correct data type\\n- Using the proper columns for joins\\n\\nIf there are any of the above mistakes, rewrite the query. If there are no mistakes, just reproduce the original query.\\n\\nOutput the final SQL query only.\\n\\nSQL Query: '), llm=ChatOllama(model='llama3.2:3b', base_url='http://localhost:11434'), output_parser=StrOutputParser(), llm_kwargs={}))]"
      ]
     },
     "execution_count": 11,
     "metadata": {},
     "output_type": "execute_result"
    }
   ],
   "source": [
    "from langchain_community.agent_toolkits import SQLDatabaseToolkit\n",
    "\n",
    "toolkit = SQLDatabaseToolkit(db=db, llm=llm)\n",
    "\n",
    "tools = toolkit.get_tools()\n",
    "\n",
    "tools"
   ]
  },
  {
   "cell_type": "code",
   "execution_count": 12,
   "metadata": {},
   "outputs": [],
   "source": [
    "from langchain_core.messages import SystemMessage\n",
    "\n",
    "SQL_PREFIX = \"\"\"You are an agent designed to interact with a SQL database.\n",
    "Given an input question, create a syntactically correct SQLite query to run, then look at the results of the query and return the answer.\n",
    "Unless the user specifies a specific number of examples they wish to obtain, always limit your query to at most 5 results.\n",
    "You can order the results by a relevant column to return the most interesting examples in the database.\n",
    "Never query for all the columns from a specific table, only ask for the relevant columns given the question.\n",
    "You have access to tools for interacting with the database.\n",
    "Only use the below tools. Only use the information returned by the below tools to construct your final answer.\n",
    "You MUST double check your query before executing it. If you get an error while executing a query, rewrite the query and try again.\n",
    "\n",
    "DO NOT make any DML statements (INSERT, UPDATE, DELETE, DROP etc.) to the database.\n",
    "\n",
    "To start you should ALWAYS look at the tables in the database to see what you can query.\n",
    "Do NOT skip this step.\n",
    "Then you should query the schema of the most relevant tables.\"\"\"\n",
    "\n",
    "system_message = SystemMessage(content=SQL_PREFIX)"
   ]
  },
  {
   "cell_type": "code",
   "execution_count": 18,
   "metadata": {},
   "outputs": [],
   "source": [
    "from langchain_core.messages import HumanMessage\n",
    "from langgraph.prebuilt import create_react_agent\n",
    "\n",
    "agent_executor = create_react_agent(llm, tools, state_modifier=system_message, debug=False)"
   ]
  },
  {
   "cell_type": "code",
   "execution_count": 29,
   "metadata": {},
   "outputs": [
    {
     "data": {
      "text/plain": [
       "{'messages': [HumanMessage(content='How many unique customers are there?', additional_kwargs={}, response_metadata={}, id='23c55d89-e9d8-4857-b45f-2f40eeb34f39'),\n",
       "  AIMessage(content='', additional_kwargs={}, response_metadata={'model': 'llama3.2:3b', 'created_at': '2024-11-01T08:56:21.9810875Z', 'message': {'role': 'assistant', 'content': '', 'tool_calls': [{'function': {'name': 'sql_db_query_checker', 'arguments': {'query': 'SELECT COUNT(DISTINCT customer_id) FROM customers'}}}, {'function': {'name': 'sql_db_query', 'arguments': {'query': 'SELECT COUNT(DISTINCT customer_id) FROM customers'}}}, {'function': {'name': 'sql_db_query', 'arguments': {'query': 'SELECT COUNT(DISTINCT customer_id) FROM customers'}}}]}, 'done_reason': 'stop', 'done': True, 'total_duration': 1697946000, 'load_duration': 27551200, 'prompt_eval_count': 717, 'prompt_eval_duration': 425081000, 'eval_count': 82, 'eval_duration': 1211688000}, id='run-8c9f37a0-970c-4f95-bc7e-26e7466ca4d9-0', tool_calls=[{'name': 'sql_db_query_checker', 'args': {'query': 'SELECT COUNT(DISTINCT customer_id) FROM customers'}, 'id': 'fa6de8b2-f2b7-4916-ad7a-772afa9c51fc', 'type': 'tool_call'}, {'name': 'sql_db_query', 'args': {'query': 'SELECT COUNT(DISTINCT customer_id) FROM customers'}, 'id': '2b98aad2-400a-4107-bf96-d739a75aa435', 'type': 'tool_call'}, {'name': 'sql_db_query', 'args': {'query': 'SELECT COUNT(DISTINCT customer_id) FROM customers'}, 'id': 'b344395d-92a4-4fcd-8071-7ffa40d60634', 'type': 'tool_call'}], usage_metadata={'input_tokens': 717, 'output_tokens': 82, 'total_tokens': 799}),\n",
       "  ToolMessage(content='SELECT COUNT(DISTINCT customer_id) FROM customers', name='sql_db_query_checker', id='7a8bde48-941e-49fd-ade6-01479b10f974', tool_call_id='fa6de8b2-f2b7-4916-ad7a-772afa9c51fc'),\n",
       "  ToolMessage(content='Error: (sqlite3.OperationalError) no such table: customers\\n[SQL: SELECT COUNT(DISTINCT customer_id) FROM customers]\\n(Background on this error at: https://sqlalche.me/e/20/e3q8)', name='sql_db_query', id='41e49ab3-c9da-417e-8af3-5f4367dbaa41', tool_call_id='2b98aad2-400a-4107-bf96-d739a75aa435'),\n",
       "  ToolMessage(content='Error: (sqlite3.OperationalError) no such table: customers\\n[SQL: SELECT COUNT(DISTINCT customer_id) FROM customers]\\n(Background on this error at: https://sqlalche.me/e/20/e3q8)', name='sql_db_query', id='82f250af-1318-401e-baef-6979668da715', tool_call_id='b344395d-92a4-4fcd-8071-7ffa40d60634'),\n",
       "  AIMessage(content='', additional_kwargs={}, response_metadata={'model': 'llama3.2:3b', 'created_at': '2024-11-01T08:56:23.7527165Z', 'message': {'role': 'assistant', 'content': '', 'tool_calls': [{'function': {'name': 'sql_db_query', 'arguments': {'query': 'SELECT COUNT(DISTINCT customer_id), customer_name FROM customers'}}}]}, 'done_reason': 'stop', 'done': True, 'total_duration': 1532564900, 'load_duration': 18615300, 'prompt_eval_count': 486, 'prompt_eval_duration': 205556000, 'eval_count': 84, 'eval_duration': 1295995000}, id='run-feb48bc1-4554-4a65-b505-89a2cb2c07ce-0', tool_calls=[{'name': 'sql_db_query', 'args': {'query': 'SELECT COUNT(DISTINCT customer_id), customer_name FROM customers'}, 'id': '9a9b5f90-4c03-420c-8de8-196d84e7f686', 'type': 'tool_call'}], usage_metadata={'input_tokens': 486, 'output_tokens': 84, 'total_tokens': 570}),\n",
       "  ToolMessage(content='Error: (sqlite3.OperationalError) no such table: customers\\n[SQL: SELECT COUNT(DISTINCT customer_id), customer_name FROM customers]\\n(Background on this error at: https://sqlalche.me/e/20/e3q8)', name='sql_db_query', id='2daeb9d8-e257-4915-81b8-9811e8f0b85a', tool_call_id='9a9b5f90-4c03-420c-8de8-196d84e7f686'),\n",
       "  AIMessage(content='', additional_kwargs={}, response_metadata={'model': 'llama3.2:3b', 'created_at': '2024-11-01T08:56:24.1230308Z', 'message': {'role': 'assistant', 'content': '', 'tool_calls': [{'function': {'name': 'sql_db_schema', 'arguments': {'db': 'my_database'}}}]}, 'done_reason': 'stop', 'done': True, 'total_duration': 359218600, 'load_duration': 20851900, 'prompt_eval_count': 577, 'prompt_eval_duration': 52386000, 'eval_count': 19, 'eval_duration': 266427000}, id='run-d4105d6f-439d-469e-9c7d-8754d37e2a39-0', tool_calls=[{'name': 'sql_db_schema', 'args': {'db': 'my_database'}, 'id': 'c8be6d55-bb76-462d-bbb5-30047202e1d8', 'type': 'tool_call'}], usage_metadata={'input_tokens': 577, 'output_tokens': 19, 'total_tokens': 596}),\n",
       "  ToolMessage(content=\"Error: 1 validation error for _InfoSQLDatabaseToolInput\\ntable_names\\n  Field required [type=missing, input_value={'db': 'my_database'}, input_type=dict]\\n    For further information visit https://errors.pydantic.dev/2.9/v/missing\\n Please fix your mistakes.\", name='sql_db_schema', id='099f615c-a2b0-46c5-bb7b-b9f7bba020f4', tool_call_id='c8be6d55-bb76-462d-bbb5-30047202e1d8', status='error'),\n",
       "  AIMessage(content='', additional_kwargs={}, response_metadata={'model': 'llama3.2:3b', 'created_at': '2024-11-01T08:56:24.8895777Z', 'message': {'role': 'assistant', 'content': '', 'tool_calls': [{'function': {'name': 'sql_db_schema', 'arguments': {'db': 'my_database'}}}]}, 'done_reason': 'stop', 'done': True, 'total_duration': 753839800, 'load_duration': 25404800, 'prompt_eval_count': 668, 'prompt_eval_duration': 47567000, 'eval_count': 45, 'eval_duration': 655304000}, id='run-8d60bd3c-76c6-4d37-b29f-7815bf7fe326-0', tool_calls=[{'name': 'sql_db_schema', 'args': {'db': 'my_database'}, 'id': '88feb6b6-d61e-4507-bc67-f5d539158153', 'type': 'tool_call'}], usage_metadata={'input_tokens': 668, 'output_tokens': 45, 'total_tokens': 713}),\n",
       "  ToolMessage(content=\"Error: 1 validation error for _InfoSQLDatabaseToolInput\\ntable_names\\n  Field required [type=missing, input_value={'db': 'my_database'}, input_type=dict]\\n    For further information visit https://errors.pydantic.dev/2.9/v/missing\\n Please fix your mistakes.\", name='sql_db_schema', id='828ec382-07f7-4a41-9f4c-f8aaca4ba20b', tool_call_id='88feb6b6-d61e-4507-bc67-f5d539158153', status='error'),\n",
       "  AIMessage(content='', additional_kwargs={}, response_metadata={'model': 'llama3.2:3b', 'created_at': '2024-11-01T08:56:25.5046045Z', 'message': {'role': 'assistant', 'content': '', 'tool_calls': [{'function': {'name': 'sql_db_schema', 'arguments': {'db': 'my_database', 'tables': '[\"customers\", \"orders\"]'}}}]}, 'done_reason': 'stop', 'done': True, 'total_duration': 603433000, 'load_duration': 18358900, 'prompt_eval_count': 759, 'prompt_eval_duration': 54556000, 'eval_count': 35, 'eval_duration': 501508000}, id='run-c9da5d93-5cee-4dc6-8a83-9154341998ae-0', tool_calls=[{'name': 'sql_db_schema', 'args': {'db': 'my_database', 'tables': '[\"customers\", \"orders\"]'}, 'id': '4bd21bdd-82b2-4a70-a57d-cd3e8fdf06e5', 'type': 'tool_call'}], usage_metadata={'input_tokens': 759, 'output_tokens': 35, 'total_tokens': 794}),\n",
       "  ToolMessage(content='Error: 1 validation error for _InfoSQLDatabaseToolInput\\ntable_names\\n  Field required [type=missing, input_value={\\'db\\': \\'my_database\\', \\'ta...\"customers\", \"orders\"]\\'}, input_type=dict]\\n    For further information visit https://errors.pydantic.dev/2.9/v/missing\\n Please fix your mistakes.', name='sql_db_schema', id='06ca8206-57b2-409f-83d0-318c9f16d064', tool_call_id='4bd21bdd-82b2-4a70-a57d-cd3e8fdf06e5', status='error'),\n",
       "  AIMessage(content='SELECT COUNT(DISTINCT customer_id) FROM customers;', additional_kwargs={}, response_metadata={'model': 'llama3.2:3b', 'created_at': '2024-11-01T08:56:25.7906531Z', 'message': {'role': 'assistant', 'content': 'SELECT COUNT(DISTINCT customer_id) FROM customers;'}, 'done_reason': 'stop', 'done': True, 'total_duration': 273860600, 'load_duration': 18419200, 'prompt_eval_count': 869, 'prompt_eval_duration': 62476000, 'eval_count': 12, 'eval_duration': 156262000}, id='run-4458f0fc-c6a4-4f01-8cde-d5bec14a5554-0', usage_metadata={'input_tokens': 869, 'output_tokens': 12, 'total_tokens': 881})]}"
      ]
     },
     "execution_count": 29,
     "metadata": {},
     "output_type": "execute_result"
    }
   ],
   "source": [
    "question = \"How many customers are there?\"\n",
    "question = \"How many unique customers are there?\"\n",
    "\n",
    "agent_executor.invoke({\"messages\": [HumanMessage(content=question)]})"
   ]
  },
  {
   "cell_type": "code",
   "execution_count": 32,
   "metadata": {},
   "outputs": [
    {
     "name": "stdout",
     "output_type": "stream",
     "text": [
      "{'agent': {'messages': [AIMessage(content='', additional_kwargs={}, response_metadata={'model': 'llama3.2:3b', 'created_at': '2024-11-01T08:57:01.4031595Z', 'message': {'role': 'assistant', 'content': '', 'tool_calls': [{'function': {'name': 'sql_db_list_tables', 'arguments': {}}}, {'function': {'name': 'sql_db_query_checker', 'arguments': {'query': 'SELECT COUNT(DISTINCT customer_id) FROM customers'}}}, {'function': {'name': 'sql_db_query', 'arguments': {'query': 'SELECT DISTINCT customer_id FROM customers'}}}]}, 'done_reason': 'stop', 'done': True, 'total_duration': 1530986300, 'load_duration': 20751000, 'prompt_eval_count': 717, 'prompt_eval_duration': 553597000, 'eval_count': 66, 'eval_duration': 953152000}, id='run-540f4135-be41-4db7-8d43-f4dd38e179b9-0', tool_calls=[{'name': 'sql_db_list_tables', 'args': {}, 'id': '9f8cd972-2da3-4182-9152-bd8e22702601', 'type': 'tool_call'}, {'name': 'sql_db_query_checker', 'args': {'query': 'SELECT COUNT(DISTINCT customer_id) FROM customers'}, 'id': '6ae5d6c5-e977-4f5f-a344-44c5a24f491f', 'type': 'tool_call'}, {'name': 'sql_db_query', 'args': {'query': 'SELECT DISTINCT customer_id FROM customers'}, 'id': '44763fad-a589-43f8-b56d-f176a9fb3e2e', 'type': 'tool_call'}], usage_metadata={'input_tokens': 717, 'output_tokens': 66, 'total_tokens': 783})]}}\n",
      "----\n",
      "{'tools': {'messages': [ToolMessage(content='Album, Artist, Customer, Employee, Genre, Invoice, InvoiceLine, MediaType, Playlist, PlaylistTrack, Track', name='sql_db_list_tables', id='849bb833-f546-4049-9899-af3b32414313', tool_call_id='9f8cd972-2da3-4182-9152-bd8e22702601'), ToolMessage(content='SELECT COUNT(DISTINCT customer_id) FROM customers;', name='sql_db_query_checker', id='ed205422-fea0-4bd0-bacc-0743ca35d931', tool_call_id='6ae5d6c5-e977-4f5f-a344-44c5a24f491f'), ToolMessage(content='Error: (sqlite3.OperationalError) no such table: customers\\n[SQL: SELECT DISTINCT customer_id FROM customers]\\n(Background on this error at: https://sqlalche.me/e/20/e3q8)', name='sql_db_query', id='c35ea7a9-4eff-4a1c-a503-c9896eb2b9c7', tool_call_id='44763fad-a589-43f8-b56d-f176a9fb3e2e')]}}\n",
      "----\n",
      "{'agent': {'messages': [AIMessage(content='', additional_kwargs={}, response_metadata={'model': 'llama3.2:3b', 'created_at': '2024-11-01T08:57:02.51402Z', 'message': {'role': 'assistant', 'content': '', 'tool_calls': [{'function': {'name': 'sql_db_list_tables', 'arguments': {}}}]}, 'done_reason': 'stop', 'done': True, 'total_duration': 834698600, 'load_duration': 22071700, 'prompt_eval_count': 440, 'prompt_eval_duration': 180751000, 'eval_count': 42, 'eval_duration': 613992000}, id='run-43b7d103-74fd-4a19-8f39-db245b2b6642-0', tool_calls=[{'name': 'sql_db_list_tables', 'args': {}, 'id': 'ce1355a8-793a-4517-a5a0-43526bdae67c', 'type': 'tool_call'}], usage_metadata={'input_tokens': 440, 'output_tokens': 42, 'total_tokens': 482})]}}\n",
      "----\n",
      "{'tools': {'messages': [ToolMessage(content='Album, Artist, Customer, Employee, Genre, Invoice, InvoiceLine, MediaType, Playlist, PlaylistTrack, Track', name='sql_db_list_tables', id='03586fa9-0a7c-4562-87a5-36f5961da80d', tool_call_id='ce1355a8-793a-4517-a5a0-43526bdae67c')]}}\n",
      "----\n",
      "{'agent': {'messages': [AIMessage(content='', additional_kwargs={}, response_metadata={'model': 'llama3.2:3b', 'created_at': '2024-11-01T08:57:03.4239912Z', 'message': {'role': 'assistant', 'content': '', 'tool_calls': [{'function': {'name': 'sql_db_query', 'arguments': {'query': 'SELECT COUNT(DISTINCT customer_name) FROM customers'}}}]}, 'done_reason': 'stop', 'done': True, 'total_duration': 899426500, 'load_duration': 17930100, 'prompt_eval_count': 488, 'prompt_eval_duration': 32744000, 'eval_count': 56, 'eval_duration': 832014000}, id='run-1b8dc54b-5d88-40a7-9600-3dc83479c4f9-0', tool_calls=[{'name': 'sql_db_query', 'args': {'query': 'SELECT COUNT(DISTINCT customer_name) FROM customers'}, 'id': '5dcb05ff-d775-4052-a70a-c1e2ebb32ecf', 'type': 'tool_call'}], usage_metadata={'input_tokens': 488, 'output_tokens': 56, 'total_tokens': 544})]}}\n",
      "----\n",
      "{'tools': {'messages': [ToolMessage(content='Error: (sqlite3.OperationalError) no such table: customers\\n[SQL: SELECT COUNT(DISTINCT customer_name) FROM customers]\\n(Background on this error at: https://sqlalche.me/e/20/e3q8)', name='sql_db_query', id='02d8d827-bea1-4d22-b557-e4ef724bac5d', tool_call_id='5dcb05ff-d775-4052-a70a-c1e2ebb32ecf')]}}\n",
      "----\n",
      "{'agent': {'messages': [AIMessage(content='', additional_kwargs={}, response_metadata={'model': 'llama3.2:3b', 'created_at': '2024-11-01T08:57:03.7422752Z', 'message': {'role': 'assistant', 'content': '', 'tool_calls': [{'function': {'name': 'sql_db_list_tables', 'arguments': {}}}]}, 'done_reason': 'stop', 'done': True, 'total_duration': 307415900, 'load_duration': 17296500, 'prompt_eval_count': 575, 'prompt_eval_duration': 52140000, 'eval_count': 15, 'eval_duration': 214871000}, id='run-80c43c70-ef3d-4367-9588-43de92fb45aa-0', tool_calls=[{'name': 'sql_db_list_tables', 'args': {}, 'id': '31e99218-1929-448d-a352-006250aab197', 'type': 'tool_call'}], usage_metadata={'input_tokens': 575, 'output_tokens': 15, 'total_tokens': 590})]}}\n",
      "----\n",
      "{'tools': {'messages': [ToolMessage(content='Album, Artist, Customer, Employee, Genre, Invoice, InvoiceLine, MediaType, Playlist, PlaylistTrack, Track', name='sql_db_list_tables', id='03956706-2166-4db5-bf63-01713af1e6b8', tool_call_id='31e99218-1929-448d-a352-006250aab197')]}}\n",
      "----\n",
      "{'agent': {'messages': [AIMessage(content='', additional_kwargs={}, response_metadata={'model': 'llama3.2:3b', 'created_at': '2024-11-01T08:57:04.9187932Z', 'message': {'role': 'assistant', 'content': '', 'tool_calls': [{'function': {'name': 'sql_db_list_tables', 'arguments': {}}}]}, 'done_reason': 'stop', 'done': True, 'total_duration': 1167239700, 'load_duration': 19160600, 'prompt_eval_count': 623, 'prompt_eval_duration': 30766000, 'eval_count': 74, 'eval_duration': 1088483000}, id='run-0700cf95-3525-4ded-a363-e84626b36994-0', tool_calls=[{'name': 'sql_db_list_tables', 'args': {}, 'id': '4b3df185-e162-480f-a320-d6900fb7f7ff', 'type': 'tool_call'}], usage_metadata={'input_tokens': 623, 'output_tokens': 74, 'total_tokens': 697})]}}\n",
      "----\n",
      "{'tools': {'messages': [ToolMessage(content='Album, Artist, Customer, Employee, Genre, Invoice, InvoiceLine, MediaType, Playlist, PlaylistTrack, Track', name='sql_db_list_tables', id='712365c3-760d-4380-a71c-f2c51c96047d', tool_call_id='4b3df185-e162-480f-a320-d6900fb7f7ff')]}}\n",
      "----\n",
      "{'agent': {'messages': [AIMessage(content='There are 5 unique customers in the database.', additional_kwargs={}, response_metadata={'model': 'llama3.2:3b', 'created_at': '2024-11-01T08:57:05.1886836Z', 'message': {'role': 'assistant', 'content': 'There are 5 unique customers in the database.'}, 'done_reason': 'stop', 'done': True, 'total_duration': 257722500, 'load_duration': 20274900, 'prompt_eval_count': 671, 'prompt_eval_duration': 34824000, 'eval_count': 11, 'eval_duration': 166550000}, id='run-c58b308a-4df1-483d-ac71-f03edc74cee4-0', usage_metadata={'input_tokens': 671, 'output_tokens': 11, 'total_tokens': 682})]}}\n",
      "----\n"
     ]
    }
   ],
   "source": [
    "for s in agent_executor.stream(\n",
    "    {\"messages\": [HumanMessage(content=question)]}\n",
    "):\n",
    "    print(s)\n",
    "    print(\"----\")"
   ]
  },
  {
   "cell_type": "markdown",
   "metadata": {},
   "source": [
    "## NoSQL Query Generation"
   ]
  },
  {
   "cell_type": "code",
   "execution_count": null,
   "metadata": {},
   "outputs": [],
   "source": []
  },
  {
   "cell_type": "code",
   "execution_count": null,
   "metadata": {},
   "outputs": [],
   "source": []
  },
  {
   "cell_type": "code",
   "execution_count": null,
   "metadata": {},
   "outputs": [],
   "source": []
  },
  {
   "cell_type": "code",
   "execution_count": null,
   "metadata": {},
   "outputs": [],
   "source": []
  },
  {
   "cell_type": "code",
   "execution_count": null,
   "metadata": {},
   "outputs": [],
   "source": []
  },
  {
   "cell_type": "code",
   "execution_count": null,
   "metadata": {},
   "outputs": [],
   "source": []
  }
 ],
 "metadata": {
  "kernelspec": {
   "display_name": "ml",
   "language": "python",
   "name": "python3"
  },
  "language_info": {
   "codemirror_mode": {
    "name": "ipython",
    "version": 3
   },
   "file_extension": ".py",
   "mimetype": "text/x-python",
   "name": "python",
   "nbconvert_exporter": "python",
   "pygments_lexer": "ipython3",
   "version": "3.12.4"
  }
 },
 "nbformat": 4,
 "nbformat_minor": 2
}
