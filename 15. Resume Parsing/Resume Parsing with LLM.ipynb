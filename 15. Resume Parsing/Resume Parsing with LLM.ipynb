{
 "cells": [
  {
   "cell_type": "markdown",
   "metadata": {},
   "source": [
    "## Resume Parsing with LLM\n"
   ]
  },
  {
   "cell_type": "code",
   "execution_count": 1,
   "metadata": {},
   "outputs": [
    {
     "data": {
      "text/plain": [
       "True"
      ]
     },
     "execution_count": 1,
     "metadata": {},
     "output_type": "execute_result"
    }
   ],
   "source": [
    "from dotenv import load_dotenv\n",
    "\n",
    "load_dotenv('./../.env')"
   ]
  },
  {
   "cell_type": "code",
   "execution_count": 2,
   "metadata": {},
   "outputs": [],
   "source": [
    "from langchain_community.document_loaders import PyMuPDFLoader\n",
    "\n",
    "loader = PyMuPDFLoader(\"resume/resume-1.pdf\")\n",
    "\n",
    "docs = loader.load()"
   ]
  },
  {
   "cell_type": "code",
   "execution_count": 3,
   "metadata": {},
   "outputs": [],
   "source": [
    "context = docs[0].page_content"
   ]
  },
  {
   "cell_type": "code",
   "execution_count": 4,
   "metadata": {},
   "outputs": [],
   "source": [
    "# print(context)\n",
    "\n"
   ]
  },
  {
   "cell_type": "code",
   "execution_count": null,
   "metadata": {},
   "outputs": [],
   "source": [
    "from scripts.llm import ask_llm\n",
    "\n",
    "question = \"\"\"You are tasked with parsing a job resume. Your goal is to extract relevant information in a valid structured 'JSON' format. \n",
    "                Do not write preambles or explanations.\"\"\"\n",
    "response = ask_llm(context=context, question=question)"
   ]
  },
  {
   "cell_type": "code",
   "execution_count": null,
   "metadata": {},
   "outputs": [
    {
     "name": "stdout",
     "output_type": "stream",
     "text": [
      "```json\n",
      "{\n",
      "  \"Contact Information\": {\n",
      "    \"Name\": \"Kumar Pallav\",\n",
      "    \"Email\": \"me@kumarpallav.com\",\n",
      "    \"Phone Number\": \"+1-206-910-0006\",\n",
      "    \"Website/Portfolio\": \"http://kumarpallav.com\"\n",
      "  },\n",
      "  \"Education\": {\n",
      "    \"Institution Name\": \"Indian Institute of Technology, Bombay\",\n",
      "    \"Degree\": \"Bachelor of Computer Science and Engineering (with Hons.)\",\n",
      "    \"Field of Study\": \"Computer Science and Engineering\",\n",
      "    \"Graduation Dates\": \"Jun 2010 - May 2014\"\n",
      "  },\n",
      "  \"Experience\": [\n",
      "    {\n",
      "      \"Job Title\": \"Software Engineer · OneNote\",\n",
      "      \"Company Name\": \"Microsoft\",\n",
      "      \"Location\": \"Redmond, WA\",\n",
      "      \"Dates of Employment\": \"Jun 2016 - Present\",\n",
      "      \"Responsibilities/Projects\": [\n",
      "        \"Magic Ink and Ink Lookup: Worked on recognizing ink strokes into words (using onboard IA) and recognizing keywords/entities given the context (using custom entity recognition service). Implemented accumulation of images or interactive widgets (from various online sources) related to the keyword, which could be inserted onto the Whiteboard canvas.\",\n",
      "        \"Whiteboard App: Implemented sharing experience for the new collaboration focused Whiteboard app. Worked on creating and joining a shared session via OneDrive for Business storage. Also added new XAML components to handle dialogs within the app.\",\n",
      "        \"Content Addins: Implemented content addins, for OneNote desktop app, as small embedded web apps that would get hosted within managed WebView controls. Created their persistence model and rendering on the desktop application.\"\n",
      "      ]\n",
      "    },\n",
      "    {\n",
      "      \"Job Title\": \"Software Engineer · OneNote\",\n",
      "      \"Company Name\": \"Microsoft\",\n",
      "      \"Location\": \"Vancouver, Canada\",\n",
      "      \"Dates of Employment\": \"Nov 2014 - May 2016\",\n",
      "      \"Responsibilities/Projects\": [\n",
      "        \"Embedded Videos and Web Content: Worked on adding ability on OneNote to host web content, making sure it is backwards compatible. Implemented features to make handling and editing web content on the OneNote page easier. Added support for this feature on OneNote web app.\",\n",
      "        \"Merged Cells for Tables: Added support for spanned cells for tables in OneNote, keeping in mind backwards compatibility. Implemented these capabilities in OneNote web app.\",\n",
      "        \"Realtime Ink: As a ramp up project, prototyped ink collaboration using SignalR web-sockets. Worked on experimenting load and delay with multiple inputs in realtime.\"\n",
      "      ]\n",
      "    },\n",
      "    {\n",
      "      \"Job Title\": \"Software Engineering Intern · Apps for Enterprises\",\n",
      "      \"Company Name\": \"Oracle\",\n",
      "      \"Location\": \"Bangalore, India\",\n",
      "      \"Dates of Employment\": \"Nov 2014 - May 2016\",\n",
      "      \"Responsibilities/Projects\": [\n",
      "        \"Containerization of iOS Apps: Worked on sand-boxing of enterprise applications (containerization) which enable them to be installed on employee’s iOS devices without worrying about security issues. Implemented wrapping of library function calls using swizzling, objective-c backend, linker flags and dynamic library injection.\",\n",
      "        \"Sandboxed Browser App: Built a demo browser application for iOS. Containerized the app using the custom script, so that it only works for certain urls.\"\n",
      "      ]\n",
      "    }\n",
      "  ],\n",
      "  \"Projects\": [\n",
      "    {\n",
      "      \"Project Title\": \"Course Allotment Simulation using SAT Solver\",\n",
      "      \"Description/Technologies Used\": \"Solved real-world problem of finding a best course allocation under various constraints as a SAT (Satisfiability) problem and inferred effects of different policies on course allotment and choices. Studied relative efficiency of various heuristics modeled on different solvers like MiniSAT and Glucose.\"\n",
      "    },\n",
      "    {\n",
      "      \"Project Title\": \"IIT Bombay Hospital Digitization\",\n",
      "      \"Description/Technologies Used\": \"Created a complete web application in Java that could handle operations on relational MySQL databases to handle various processes of the university hospital.\"\n",
      "    },\n",
      "    {\n",
      "      \"Project Title\": \"Simple 2D Physics Engine\",\n",
      "      \"Description/Technologies Used\": \"Wrote a physics engine for simple round bodies providing a back-end that could generate coordinates in real-time with collision, gravity, restitution and custom resolution of time.\"\n",
      "    },\n",
      "    {\n",
      "      \"Project Title\": \"Social Sea\",\n",
      "      \"Description/Technologies Used\": \"Created a lightweight social search engine that shows the results ranked (using page-ranking) according to one’s peer-group search history and rating.\"\n",
      "    }\n",
      "  ],\n",
      "  \"Skills\": {\n",
      "    \"Programming Languages\": [\"C++\", \"Python\", \"Java\", \"JavaScript\"],\n",
      "    \"Other Skills\": [\"Web Development\", \"Machine Learning\", \"Database Management\"]\n",
      "  }\n",
      "}\n",
      "```\n"
     ]
    }
   ],
   "source": [
    "print(response)"
   ]
  },
  {
   "cell_type": "code",
   "execution_count": null,
   "metadata": {},
   "outputs": [],
   "source": []
  }
 ],
 "metadata": {
  "kernelspec": {
   "display_name": "ml",
   "language": "python",
   "name": "python3"
  },
  "language_info": {
   "codemirror_mode": {
    "name": "ipython",
    "version": 3
   },
   "file_extension": ".py",
   "mimetype": "text/x-python",
   "name": "python",
   "nbconvert_exporter": "python",
   "pygments_lexer": "ipython3",
   "version": "3.12.4"
  }
 },
 "nbformat": 4,
 "nbformat_minor": 2
}
