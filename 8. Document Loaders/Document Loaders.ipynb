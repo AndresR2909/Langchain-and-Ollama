{
 "cells": [
  {
   "cell_type": "markdown",
   "metadata": {},
   "source": [
    "## Document Loaders\n",
    "- Load various kind of documents from the web and local files.\n",
    "- Apply LLM to the documents for summarization and question answering."
   ]
  },
  {
   "cell_type": "code",
   "execution_count": null,
   "metadata": {},
   "outputs": [],
   "source": [
    "from dotenv import load_dotenv\n",
    "\n",
    "load_dotenv('./../.env')"
   ]
  },
  {
   "cell_type": "markdown",
   "metadata": {},
   "source": [
    "### Project 1: Question Answering from PDF Document\n",
    "- We will load the document from the local file and apply LLM to answer the questions.\n",
    "- Lets use research paper published on the missuse of the health supplements for workout. "
   ]
  },
  {
   "cell_type": "markdown",
   "metadata": {},
   "source": [
    "rag-dataset: git@github.com:laxmimerit/rag-dataset.git\n",
    "\n",
    "```bash\n",
    "git clone git@github.com:laxmimerit/rag-dataset.git\n",
    "```"
   ]
  },
  {
   "cell_type": "code",
   "execution_count": 10,
   "metadata": {},
   "outputs": [],
   "source": [
    "# !git clone git@github.com:laxmimerit/rag-dataset.git\n",
    "# !pip install pymupdf tiktoken \n"
   ]
  },
  {
   "cell_type": "code",
   "execution_count": 12,
   "metadata": {},
   "outputs": [],
   "source": [
    "### Read PDF File\n",
    "from langchain_community.document_loaders import PyMuPDFLoader\n",
    "\n",
    "loader = PyMuPDFLoader(\"./rag-dataset/gym supplements/1. Analysis of Actual Fitness Supplement.pdf\")\n",
    "\n",
    "docs = loader.load()\n",
    "\n",
    "doc = docs[0]\n",
    "# print(doc.page_content)"
   ]
  },
  {
   "cell_type": "code",
   "execution_count": 13,
   "metadata": {},
   "outputs": [],
   "source": [
    "### Get the list of all available PDF files\n",
    "import os\n",
    "\n",
    "pdfs = []\n",
    "for root, dirs, files in os.walk('rag-dataset'):\n",
    "    # print(root, dirs, files)\n",
    "    for file in files:\n",
    "        if file.endswith('.pdf'):\n",
    "            pdfs.append(os.path.join(root, file))"
   ]
  },
  {
   "cell_type": "code",
   "execution_count": null,
   "metadata": {},
   "outputs": [],
   "source": [
    "### Read all pages of pdf files\n",
    "docs = []\n",
    "for pdf in pdfs:\n",
    "    loader = PyMuPDFLoader(pdf)\n",
    "    pages = loader.load()\n",
    "\n",
    "    docs.extend(pages)\n",
    "\n",
    "\n",
    "len(docs)"
   ]
  },
  {
   "cell_type": "code",
   "execution_count": 19,
   "metadata": {},
   "outputs": [],
   "source": [
    "def format_docs(docs):\n",
    "    return \"\\n\\n\".join([doc.page_content for doc in docs])\n",
    "\n",
    "context = format_docs(docs)\n",
    "# print(context)"
   ]
  },
  {
   "cell_type": "code",
   "execution_count": null,
   "metadata": {},
   "outputs": [],
   "source": [
    "### Count Total Tokens\n",
    "import tiktoken\n",
    "\n",
    "encoding = tiktoken.encoding_for_model('gpt-4o-mini')\n",
    "len(encoding.encode(docs[0].page_content)), len(encoding.encode(context))"
   ]
  },
  {
   "cell_type": "code",
   "execution_count": 58,
   "metadata": {},
   "outputs": [],
   "source": [
    "### Question Answering using LLM\n",
    "\n",
    "from langchain_ollama import ChatOllama\n",
    "\n",
    "from langchain_core.prompts import (\n",
    "                                        SystemMessagePromptTemplate,\n",
    "                                        HumanMessagePromptTemplate,\n",
    "                                        ChatPromptTemplate\n",
    "                                        )\n",
    "\n",
    "from langchain_core.output_parsers import StrOutputParser\n",
    "\n",
    "base_url = \"http://localhost:11434\"\n",
    "model = 'llama3.2:3b'\n",
    "\n",
    "llm = ChatOllama(base_url=base_url, model=model)\n",
    "\n",
    "system = SystemMessagePromptTemplate.from_template(\"\"\"You are helpful AI assistant who answer user question based on the provided context. \n",
    "                                                    Do not answer in more than {words} words\"\"\")\n",
    "\n",
    "prompt = \"\"\"Answer user question based on the provided context ONLY! If do not know the answer, just say \"I don't know\".\n",
    "            ### Context:\n",
    "            {context}\n",
    "\n",
    "            ### Question:\n",
    "            {question}\n",
    "\n",
    "            ### Answer:\"\"\"\n",
    "\n",
    "\n",
    "prompt = HumanMessagePromptTemplate.from_template(prompt)\n",
    "\n",
    "messages = [system, prompt]\n",
    "template = ChatPromptTemplate(messages)\n",
    "\n",
    "qna_chain = template | llm | StrOutputParser()\n",
    "\n",
    "# template\n",
    "\n"
   ]
  },
  {
   "cell_type": "code",
   "execution_count": 43,
   "metadata": {},
   "outputs": [],
   "source": [
    "# template.invoke({'context': context, 'question': 'What is the best gym supplement?'})"
   ]
  },
  {
   "cell_type": "code",
   "execution_count": 44,
   "metadata": {},
   "outputs": [],
   "source": []
  },
  {
   "cell_type": "code",
   "execution_count": null,
   "metadata": {},
   "outputs": [],
   "source": [
    "response = qna_chain.invoke({'context': context, 'question': 'What is the best gym supplement?', 'words': 30})\n",
    "print(response)"
   ]
  },
  {
   "cell_type": "code",
   "execution_count": null,
   "metadata": {},
   "outputs": [],
   "source": [
    "response = qna_chain.invoke({'context': context, 'question': 'What is the best planet to live on?', 'words': 30})\n",
    "print(response)"
   ]
  },
  {
   "cell_type": "code",
   "execution_count": null,
   "metadata": {},
   "outputs": [],
   "source": [
    "response = qna_chain.invoke({'context': context, 'question': 'How to gain muscle mass?', 'words': 30})\n",
    "print(response)"
   ]
  },
  {
   "cell_type": "code",
   "execution_count": null,
   "metadata": {},
   "outputs": [],
   "source": [
    "response = qna_chain.invoke({'context': context, 'question': 'side effects of gym supplements?', 'words': 30})\n",
    "print(response)"
   ]
  },
  {
   "cell_type": "markdown",
   "metadata": {},
   "source": [
    "### Project 2: PDF Document Summarization"
   ]
  },
  {
   "cell_type": "code",
   "execution_count": 59,
   "metadata": {},
   "outputs": [],
   "source": [
    "system = SystemMessagePromptTemplate.from_template(\"\"\"You are helpful AI assistant who works as document summarizer. \n",
    "                                                   You must not hallucinate or provide any false information.\"\"\")\n",
    "\n",
    "prompt = \"\"\"Summarize the given context in {words}.\n",
    "            ### Context:\n",
    "            {context}\n",
    "\n",
    "            ### Summary:\"\"\"\n",
    "\n",
    "\n",
    "prompt = HumanMessagePromptTemplate.from_template(prompt)\n",
    "\n",
    "messages = [system, prompt]\n",
    "template = ChatPromptTemplate(messages)\n",
    "\n",
    "summary_chain = template | llm | StrOutputParser()"
   ]
  },
  {
   "cell_type": "code",
   "execution_count": null,
   "metadata": {},
   "outputs": [],
   "source": [
    "response = summary_chain.invoke({'context': context, 'words': 100})\n",
    "print(response)"
   ]
  },
  {
   "cell_type": "code",
   "execution_count": null,
   "metadata": {},
   "outputs": [],
   "source": [
    "### qna chain as summarizer\n",
    "\n",
    "response = qna_chain.invoke({'context': context, 'question': 'Summarize the given context', 'words': 100})\n",
    "print(response)"
   ]
  },
  {
   "cell_type": "code",
   "execution_count": null,
   "metadata": {},
   "outputs": [],
   "source": [
    "response = qna_chain.invoke({'context': context, 'question': 'Provide a detailed report from the provided context. Write answer in Markdown', 'words': 1000})\n",
    "print(response)"
   ]
  },
  {
   "cell_type": "code",
   "execution_count": null,
   "metadata": {},
   "outputs": [],
   "source": []
  },
  {
   "cell_type": "code",
   "execution_count": null,
   "metadata": {},
   "outputs": [],
   "source": []
  },
  {
   "cell_type": "code",
   "execution_count": null,
   "metadata": {},
   "outputs": [],
   "source": []
  }
 ],
 "metadata": {
  "kernelspec": {
   "display_name": "ml",
   "language": "python",
   "name": "python3"
  },
  "language_info": {
   "codemirror_mode": {
    "name": "ipython",
    "version": 3
   },
   "file_extension": ".py",
   "mimetype": "text/x-python",
   "name": "python",
   "nbconvert_exporter": "python",
   "pygments_lexer": "ipython3",
   "version": "3.12.4"
  }
 },
 "nbformat": 4,
 "nbformat_minor": 2
}
