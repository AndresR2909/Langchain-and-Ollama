{
 "cells": [
  {
   "cell_type": "markdown",
   "metadata": {},
   "source": [
    "## Document Loaders\n",
    "- Load various kind of documents from the web and local files.\n",
    "- Apply LLM to the documents for summarization and question answering."
   ]
  },
  {
   "cell_type": "code",
   "execution_count": 3,
   "metadata": {},
   "outputs": [
    {
     "data": {
      "text/plain": [
       "True"
      ]
     },
     "execution_count": 3,
     "metadata": {},
     "output_type": "execute_result"
    }
   ],
   "source": [
    "from dotenv import load_dotenv\n",
    "\n",
    "load_dotenv('./../.env')"
   ]
  },
  {
   "cell_type": "markdown",
   "metadata": {},
   "source": [
    "### Project 1: Question Answering from PDF Document\n",
    "- We will load the document from the local file and apply LLM to answer the questions.\n",
    "- Lets use research paper published on the missuse of the health supplements for workout. "
   ]
  },
  {
   "cell_type": "markdown",
   "metadata": {},
   "source": [
    "rag-dataset: git@github.com:laxmimerit/rag-dataset.git\n",
    "\n",
    "```bash\n",
    "git clone git@github.com:laxmimerit/rag-dataset.git\n",
    "```"
   ]
  },
  {
   "cell_type": "code",
   "execution_count": 10,
   "metadata": {},
   "outputs": [],
   "source": [
    "# !git clone git@github.com:laxmimerit/rag-dataset.git\n",
    "# !pip install pymupdf tiktoken \n"
   ]
  },
  {
   "cell_type": "code",
   "execution_count": 12,
   "metadata": {},
   "outputs": [],
   "source": [
    "### Read PDF File\n",
    "from langchain_community.document_loaders import PyMuPDFLoader\n",
    "\n",
    "loader = PyMuPDFLoader(\"./rag-dataset/gym supplements/1. Analysis of Actual Fitness Supplement.pdf\")\n",
    "\n",
    "docs = loader.load()\n",
    "\n",
    "doc = docs[0]\n",
    "# print(doc.page_content)"
   ]
  },
  {
   "cell_type": "code",
   "execution_count": 13,
   "metadata": {},
   "outputs": [],
   "source": [
    "### Get the list of all available PDF files\n",
    "import os\n",
    "\n",
    "pdfs = []\n",
    "for root, dirs, files in os.walk('rag-dataset'):\n",
    "    # print(root, dirs, files)\n",
    "    for file in files:\n",
    "        if file.endswith('.pdf'):\n",
    "            pdfs.append(os.path.join(root, file))"
   ]
  },
  {
   "cell_type": "code",
   "execution_count": 14,
   "metadata": {},
   "outputs": [
    {
     "data": {
      "text/plain": [
       "64"
      ]
     },
     "execution_count": 14,
     "metadata": {},
     "output_type": "execute_result"
    }
   ],
   "source": [
    "### Read all pages of pdf files\n",
    "docs = []\n",
    "for pdf in pdfs:\n",
    "    loader = PyMuPDFLoader(pdf)\n",
    "    pages = loader.load()\n",
    "\n",
    "    docs.extend(pages)\n",
    "\n",
    "\n",
    "len(docs)"
   ]
  },
  {
   "cell_type": "code",
   "execution_count": 19,
   "metadata": {},
   "outputs": [],
   "source": [
    "def format_docs(docs):\n",
    "    return \"\\n\\n\".join([doc.page_content for doc in docs])\n",
    "\n",
    "context = format_docs(docs)\n",
    "# print(context)"
   ]
  },
  {
   "cell_type": "code",
   "execution_count": 24,
   "metadata": {},
   "outputs": [
    {
     "data": {
      "text/plain": [
       "(969, 60271)"
      ]
     },
     "execution_count": 24,
     "metadata": {},
     "output_type": "execute_result"
    }
   ],
   "source": [
    "### Count Total Tokens\n",
    "import tiktoken\n",
    "\n",
    "encoding = tiktoken.encoding_for_model('gpt-4o-mini')\n",
    "len(encoding.encode(docs[0].page_content)), len(encoding.encode(context))"
   ]
  },
  {
   "cell_type": "code",
   "execution_count": 58,
   "metadata": {},
   "outputs": [],
   "source": [
    "### Question Answering using LLM\n",
    "\n",
    "from langchain_ollama import ChatOllama\n",
    "\n",
    "from langchain_core.prompts import (\n",
    "                                        SystemMessagePromptTemplate,\n",
    "                                        HumanMessagePromptTemplate,\n",
    "                                        ChatPromptTemplate\n",
    "                                        )\n",
    "\n",
    "from langchain_core.output_parsers import StrOutputParser\n",
    "\n",
    "base_url = \"http://localhost:11434\"\n",
    "model = 'llama3.2:3b'\n",
    "\n",
    "llm = ChatOllama(base_url=base_url, model=model)\n",
    "\n",
    "system = SystemMessagePromptTemplate.from_template(\"\"\"You are helpful AI assistant who answer user question based on the provided context. \n",
    "                                                    Do not answer in more than {words} words\"\"\")\n",
    "\n",
    "prompt = \"\"\"Answer user question based on the provided context ONLY! If do not know the answer, just say \"I don't know\".\n",
    "            ### Context:\n",
    "            {context}\n",
    "\n",
    "            ### Question:\n",
    "            {question}\n",
    "\n",
    "            ### Answer:\"\"\"\n",
    "\n",
    "\n",
    "prompt = HumanMessagePromptTemplate.from_template(prompt)\n",
    "\n",
    "messages = [system, prompt]\n",
    "template = ChatPromptTemplate(messages)\n",
    "\n",
    "qna_chain = template | llm | StrOutputParser()\n",
    "\n",
    "# template\n",
    "\n"
   ]
  },
  {
   "cell_type": "code",
   "execution_count": 43,
   "metadata": {},
   "outputs": [],
   "source": [
    "# template.invoke({'context': context, 'question': 'What is the best gym supplement?'})"
   ]
  },
  {
   "cell_type": "code",
   "execution_count": 44,
   "metadata": {},
   "outputs": [],
   "source": []
  },
  {
   "cell_type": "code",
   "execution_count": 45,
   "metadata": {},
   "outputs": [
    {
     "name": "stdout",
     "output_type": "stream",
     "text": [
      "The answer to this question cannot be determined as it is based on personal preference, fitness goals, and individual needs. Different supplements may have varying effects on different people.\n",
      "\n",
      "However, I can provide some general information about commonly used gym supplements:\n",
      "\n",
      "1. Protein powder: A popular choice among athletes, protein powder can help with muscle growth and recovery.\n",
      "2. Creatine: This supplement is known to increase strength and endurance, particularly in high-intensity activities like weightlifting.\n",
      "3. Beta-Alanine: An amino acid that can help increase muscle carnosine levels, delaying the onset of fatigue during exercise.\n",
      "4. Branched-Chain Amino Acids (BCAAs): BCAAs, consisting of leucine, isoleucine, and valine, can aid in muscle recovery and growth.\n",
      "5. Pre-workout supplements: These typically contain a combination of ingredients such as caffeine, nitric oxide boosters, and other stimulants to enhance energy and performance during workouts.\n",
      "\n",
      "It's essential to consult with a healthcare professional or registered dietitian before adding any supplement to your regimen. They can help you determine the best course of action based on your individual needs and goals.\n",
      "\n",
      "Remember, supplements should complement a healthy diet and lifestyle, not replace them. Focus on making sustainable changes that promote overall well-being, rather than relying solely on products for optimal results.\n"
     ]
    }
   ],
   "source": [
    "response = qna_chain.invoke({'context': context, 'question': 'What is the best gym supplement?', 'words': 30})\n",
    "print(response)"
   ]
  },
  {
   "cell_type": "code",
   "execution_count": 46,
   "metadata": {},
   "outputs": [
    {
     "name": "stdout",
     "output_type": "stream",
     "text": [
      "I don't have a question or an answer related to the text. The provided text appears to be a section from a scientific article about botanical supplements and their potential toxicities, interactions with other compounds, and mechanisms of action.\n",
      "\n",
      "If you'd like, I can try to help you summarize or understand a specific part of the text.\n"
     ]
    }
   ],
   "source": [
    "response = qna_chain.invoke({'context': context, 'question': 'What is the best planet to live on?', 'words': 30})\n",
    "print(response)"
   ]
  },
  {
   "cell_type": "code",
   "execution_count": 47,
   "metadata": {},
   "outputs": [
    {
     "name": "stdout",
     "output_type": "stream",
     "text": [
      "I can help with that question, but I need more context or information about the specific botanical supplements and their effects on muscle mass. However, based on general knowledge, here is a brief answer:\n",
      "\n",
      "To gain muscle mass, it's essential to combine a healthy diet with regular exercise and sufficient protein intake. While certain botanical supplements may not directly contribute to muscle growth, some may have indirect effects or interact with other substances that can impact muscle development.\n",
      "\n",
      "For example, ginseng has been associated with increased endurance and improved athletic performance, which could potentially help individuals achieve their muscle-building goals. However, more research is needed to fully understand the potential benefits of specific botanical supplements on muscle mass.\n",
      "\n",
      "In contrast, some botanicals may have adverse effects when combined with exercise or diet, such as garlic and ginkgo biloba, which can increase the risk of bleeding. Therefore, it's crucial to consult with a healthcare professional before adding any new supplements to your regimen, especially if you're trying to gain muscle mass.\n",
      "\n",
      "If you'd like more specific information on how certain botanicals might impact muscle growth or have questions about other topics, feel free to ask!\n"
     ]
    }
   ],
   "source": [
    "response = qna_chain.invoke({'context': context, 'question': 'How to gain muscle mass?', 'words': 30})\n",
    "print(response)"
   ]
  },
  {
   "cell_type": "code",
   "execution_count": 48,
   "metadata": {},
   "outputs": [
    {
     "name": "stdout",
     "output_type": "stream",
     "text": [
      "Side effects of botanical supplements, including gym supplements, can be varied and sometimes severe. Some reported effects include:\n",
      "\n",
      "*   Nausea and fatigue\n",
      "*   Headache\n",
      "*   Jaundice and liver failure (e.g., black cohosh)\n",
      "*   Drug-induced liver injury (e.g., kava kava)\n",
      "*   Hepatitis (e.g., saw palmetto)\n",
      "*   Cholestatic symptoms (e.g., echinacea, milk thistle)\n",
      "*   Seizures with tachycardia and hypertension (e.g., yohimbe)\n",
      "*   Exacerbated hemochromatosis (iron overload) in genetically predisposed individuals\n",
      "*   Transient ischemic attack (e.g., ginseng)\n",
      "*   Slow heart rate (e.g., black cohosh)\n",
      "*   Excessive bleeding (e.g., garlic, ginkgo biloba)\n",
      "\n",
      "These adverse effects are often mild but can be serious. In some cases, the mechanisms behind these effects are not fully understood and require further investigation.\n",
      "\n",
      "Potential Herb-Drug Interactions:\n",
      "\n",
      "Pharmacologically active compounds in botanicals are substrates of metabolizing enzymes, similar to drugs. This means that induction or suppression of relevant metabolizing enzymes can affect the pharmacokinetics of drugs and may warrant contraindications by healthcare providers.\n",
      "\n",
      "Common mechanisms among several botanicals include:\n",
      "\n",
      "*   Activation of the pregnane-X receptor (PXR)\n",
      "*   Activation of the aryl hydrocarbon receptor (AhR)\n",
      "\n",
      "These interactions highlight the importance of considering potential herb-drug interactions when using botanical supplements, particularly in combination with other medications.\n"
     ]
    }
   ],
   "source": [
    "response = qna_chain.invoke({'context': context, 'question': 'side effects of gym supplements?', 'words': 30})\n",
    "print(response)"
   ]
  },
  {
   "cell_type": "markdown",
   "metadata": {},
   "source": [
    "### Project 2: PDF Document Summarization"
   ]
  },
  {
   "cell_type": "code",
   "execution_count": 59,
   "metadata": {},
   "outputs": [],
   "source": [
    "system = SystemMessagePromptTemplate.from_template(\"\"\"You are helpful AI assistant who works as document summarizer. \n",
    "                                                   You must not hallucinate or provide any false information.\"\"\")\n",
    "\n",
    "prompt = \"\"\"Summarize the given context in {words}.\n",
    "            ### Context:\n",
    "            {context}\n",
    "\n",
    "            ### Summary:\"\"\"\n",
    "\n",
    "\n",
    "prompt = HumanMessagePromptTemplate.from_template(prompt)\n",
    "\n",
    "messages = [system, prompt]\n",
    "template = ChatPromptTemplate(messages)\n",
    "\n",
    "summary_chain = template | llm | StrOutputParser()"
   ]
  },
  {
   "cell_type": "code",
   "execution_count": 54,
   "metadata": {},
   "outputs": [
    {
     "name": "stdout",
     "output_type": "stream",
     "text": [
      "The article discusses the potential toxicities and interactions of various botanical supplements, including their active compounds, typical use, dosage, and reported adverse effects. The authors highlight that reports of adverse effects directly attributable to botanicals are rare, but more serious cases have appeared, often related to liver toxicity and drug-induced liver injury (DILI). Specific examples include:\n",
      "\n",
      "* Black cohosh associated with jaundice and liver failure\n",
      "* Kava kava linked to liver toxicity and depletion of glutathione\n",
      "* Saw palmetto causing cholestatic hepatitis and pancreatitis\n",
      "* Echinacea associated with acute liver failure without a specific mechanism\n",
      "* Valerian use inducing jaundice that was reversed by steroid administration\n",
      "* Yohimbine's sympathomimetic properties leading to seizures, tachycardia, and hypertension\n",
      "* Ginseng implicated in a transient ischemic attack\n",
      "* Black cohosh regulating heart rate via activation of serotonin receptors\n",
      "\n",
      "The article also discusses potential herb-drug interactions, including the induction or suppression of metabolizing enzymes, which can affect drug pharmacokinetics. In vitro studies have implicated the activation of the pregnane-X receptor (PXR) and the aryl hydrocarbon receptor (AhR) as common mechanisms among several botanicals.\n",
      "\n",
      "Key takeaways:\n",
      "\n",
      "* Botanical supplements can be associated with adverse effects, particularly liver toxicity\n",
      "* Herb-drug interactions are a concern due to the potential for induction or suppression of metabolizing enzymes\n",
      "* More research is needed to elucidate the mechanisms of action and potential toxicities of various botanicals.\n"
     ]
    }
   ],
   "source": [
    "response = summary_chain.invoke({'context': context, 'words': 100})\n",
    "print(response)"
   ]
  },
  {
   "cell_type": "code",
   "execution_count": 60,
   "metadata": {},
   "outputs": [
    {
     "name": "stdout",
     "output_type": "stream",
     "text": [
      "The given context discusses the mechanisms of action and adverse effects of various botanical supplements. The table provided lists commonly used botanicals, their primary active constituents, typical use and dosage, and reported adverse effects. Reports of adverse effects directly attributable to botanicals are rare, but more serious clinical cases have appeared, often related to drug-induced liver injury (DILI) and its associated mechanisms. Additionally, potential herb-drug interactions are discussed, highlighting the importance of induction or suppression of metabolizing enzymes by botanical compounds.\n"
     ]
    }
   ],
   "source": [
    "### qna chain as summarizer\n",
    "\n",
    "response = qna_chain.invoke({'context': context, 'question': 'Summarize the given context', 'words': 100})\n",
    "print(response)"
   ]
  },
  {
   "cell_type": "code",
   "execution_count": 61,
   "metadata": {},
   "outputs": [
    {
     "name": "stdout",
     "output_type": "stream",
     "text": [
      "**Botanical Supplements and Adverse Effects**\n",
      "\n",
      "### Overview of Botanical Supplements\n",
      "\n",
      "Botanical supplements, also known as herbal remedies or phytochemicals, are derived from plants and have been used for centuries to prevent and treat various health conditions. These supplements can be found in various forms, including capsules, tablets, teas, and extracts.\n",
      "\n",
      "### Commonly Used Botanical Supplements\n",
      "\n",
      "1. **Black Cohosh (Cimicifuga racemosa)**\n",
      "\t* Primary Active Constituent: Catechins\n",
      "\t* Typical Use: Menopausal symptoms relief\n",
      "\t* Dosage: 40-80 mg per day\n",
      "\t* Reported Adverse Effects:\n",
      "\t\t+ Jaundice and liver failure in menopausal women\n",
      "\t\t+ Mitochondrial dysfunction, oxidative stress, and alteration of bile acid homeostasis\n",
      "2. **Kava Kava**\n",
      "\t* Primary Active Constituent: Kavalactones\n",
      "\t* Typical Use: Anxiety relief, sleep aid\n",
      "\t* Dosage: 250-500 mg per day\n",
      "\t* Reported Adverse Effects:\n",
      "\t\t+ Liver toxicity, including cases requiring liver transplants\n",
      "\t\t+ Depletion of glutathione and inhibition of cyclooxygenases (mitochondrial dysfunction)\n",
      "3. **Saw Palmetto**\n",
      "\t* Primary Active Constituent: Sterols\n",
      "\t* Typical Use: Prostate health support\n",
      "\t* Dosage: 160-320 mg per day\n",
      "\t* Reported Adverse Effects:\n",
      "\t\t+ Cholestatic hepatitis and pancreatitis\n",
      "\t\t+ Alteration of bile secretion\n",
      "4. **Echinacea**\n",
      "\t* Primary Active Constituent: Alkamides\n",
      "\t* Typical Use: Immune system support\n",
      "\t* Dosage: 300-500 mg per day\n",
      "\t* Reported Adverse Effects:\n",
      "\t\t+ Acute liver failure (no specific mechanism identified)\n",
      "5. **Valerian**\n",
      "\t* Primary Active Constituent: Valerenic acid\n",
      "\t* Typical Use: Sleep aid\n",
      "\t* Dosage: 500-1000 mg per day\n",
      "\t* Reported Adverse Effects:\n",
      "\t\t+ Jaundice that was reversed by steroid administration\n",
      "6. **Yohimbine**\n",
      "\t* Primary Active Constituent: Yohimbine\n",
      "\t* Typical Use: Weight loss, blood pressure regulation\n",
      "\t* Dosage: Varies depending on condition being treated\n",
      "\t* Reported Adverse Effects:\n",
      "\t\t+ Seizure with tachycardia and hypertension in a bodybuilder\n",
      "7. **Milk Thistle**\n",
      "\t* Primary Active Constituent: Silymarin\n",
      "\t* Typical Use: Liver health support\n",
      "\t* Dosage: 70-140 mg per day\n",
      "\t* Reported Adverse Effects:\n",
      "\t\t+ Exacerbated hemochromatosis in a genetically predisposed individual\n",
      "8. **Ginseng**\n",
      "\t* Primary Active Constituent: Ginsenosides\n",
      "\t* Typical Use: Energy and mental clarity support\n",
      "\t* Dosage: Varies depending on condition being treated\n",
      "\t* Reported Adverse Effects:\n",
      "\t\t+ Transient ischemia attack\n",
      "9. **Garlic**\n",
      "\t* Primary Active Constituent: Allicin\n",
      "\t* Typical Use: Cardiovascular health support\n",
      "\t* Dosage: Varies depending on recipe and condition being treated\n",
      "\t* Reported Adverse Effects:\n",
      "\t\t+ Excessive bleeding due to platelet aggregation inhibition\n",
      "\n",
      "### Herb-Drug Interactions\n",
      "\n",
      "Pharmacologically active compounds in botanicals can interact with drugs through induction or suppression of metabolizing enzymes. Activation of the pregnane-X receptor (PXR) and the aryl hydrocarbon receptor (AhR) are common mechanisms among several botanicals.\n",
      "\n",
      "**Mechanisms of Botanical Supplements**\n",
      "\n",
      "* **Mitochondrial dysfunction**: Inhibition of cyclooxygenases, oxidative stress\n",
      "* **Liver toxicity**: Depletion of glutathione, alteration of bile acid homeostasis\n",
      "* **Cardiovascular effects**: Sympathomimetic properties (yohimbine), platelet aggregation inhibition (garlic and ginkgo biloba)\n",
      "* **Hepatotoxicity**: Oxidative stress, mitochondrial dysfunction\n",
      "\n",
      "**Precautions and Contraindications**\n",
      "\n",
      "* **Liver function tests**: Regular monitoring of liver enzymes is recommended when using botanical supplements.\n",
      "* **Interactions with medications**: Botanical supplements can interact with prescription medications through induction or suppression of metabolizing enzymes.\n",
      "* **Pregnancy and breastfeeding**: Some botanical supplements may not be safe for use during pregnancy or breastfeeding.\n",
      "\n",
      "**Conclusion**\n",
      "\n",
      "Botanical supplements, while generally considered safe, can cause adverse effects, particularly when used in combination with other substances. Understanding the primary active constituents, typical uses, dosages, and reported adverse effects of botanical supplements is essential to minimize potential risks. Additionally, monitoring liver function tests and interacting with medications are crucial to ensure safe use.\n"
     ]
    }
   ],
   "source": [
    "response = qna_chain.invoke({'context': context, 'question': 'Provide a detailed report from the provided context. Write answer in Markdown', 'words': 1000})\n",
    "print(response)"
   ]
  },
  {
   "cell_type": "code",
   "execution_count": null,
   "metadata": {},
   "outputs": [],
   "source": []
  },
  {
   "cell_type": "code",
   "execution_count": null,
   "metadata": {},
   "outputs": [],
   "source": []
  },
  {
   "cell_type": "code",
   "execution_count": null,
   "metadata": {},
   "outputs": [],
   "source": []
  }
 ],
 "metadata": {
  "kernelspec": {
   "display_name": "ml",
   "language": "python",
   "name": "python3"
  },
  "language_info": {
   "codemirror_mode": {
    "name": "ipython",
    "version": 3
   },
   "file_extension": ".py",
   "mimetype": "text/x-python",
   "name": "python",
   "nbconvert_exporter": "python",
   "pygments_lexer": "ipython3",
   "version": "3.12.4"
  }
 },
 "nbformat": 4,
 "nbformat_minor": 2
}
