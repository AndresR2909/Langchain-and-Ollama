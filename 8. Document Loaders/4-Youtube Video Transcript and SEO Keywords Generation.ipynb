{
 "cells": [
  {
   "cell_type": "markdown",
   "metadata": {},
   "source": [
    "## YouTube Video Transcripts and SEO Keywords Generation"
   ]
  },
  {
   "cell_type": "markdown",
   "metadata": {},
   "source": [
    "- We will see how to generate YouTube video transcripts and SEO keywords using LLM"
   ]
  },
  {
   "cell_type": "code",
   "execution_count": 1,
   "metadata": {},
   "outputs": [],
   "source": [
    "# !pip uninstall pytube"
   ]
  },
  {
   "cell_type": "code",
   "execution_count": 2,
   "metadata": {},
   "outputs": [],
   "source": [
    "# !pip install --upgrade --quiet  youtube-transcript-api pytube\n",
    "\n",
    "# PytubeError: Exception while accessing title of https://youtube.com/watch?v=TKCMw0utiak.\n",
    "# Please file a bug report at https://github.com/pytube/pytube\n",
    "\n",
    "# https://github.com/pytube/pytube/pull/2055/commits\n",
    "# python -m pip install git+https://github.com/WildDIC/pytube.git"
   ]
  },
  {
   "cell_type": "code",
   "execution_count": 3,
   "metadata": {},
   "outputs": [],
   "source": [
    "from langchain_community.document_loaders import YoutubeLoader\n",
    "\n",
    "url = \"https://www.youtube.com/watch?v=vCyVVsdKJCg\"\n",
    "\n",
    "loader = YoutubeLoader.from_youtube_url(\n",
    "    url, add_video_info=True\n",
    ")\n",
    "docs = loader.load()\n"
   ]
  },
  {
   "cell_type": "code",
   "execution_count": null,
   "metadata": {},
   "outputs": [],
   "source": [
    "doc = docs[0]\n",
    "\n",
    "doc.metadata\n",
    "doc.page_content\n",
    "doc.metadata"
   ]
  },
  {
   "cell_type": "code",
   "execution_count": 5,
   "metadata": {},
   "outputs": [],
   "source": [
    "from langchain_community.document_loaders.youtube import TranscriptFormat\n",
    "\n",
    "loader = YoutubeLoader.from_youtube_url(\n",
    "    url,\n",
    "    add_video_info=True,\n",
    "    transcript_format=TranscriptFormat.CHUNKS,\n",
    "    chunk_size_seconds=600,\n",
    ")\n",
    "# print(\"\\n\\n\".join(map(repr, loader.load())))\n",
    "\n",
    "docs = loader.load()"
   ]
  },
  {
   "cell_type": "code",
   "execution_count": 6,
   "metadata": {},
   "outputs": [],
   "source": [
    "### Code for LLM\n",
    "from scripts import llm\n"
   ]
  },
  {
   "cell_type": "code",
   "execution_count": 21,
   "metadata": {},
   "outputs": [],
   "source": [
    "question = \"\"\"You are an assistant for generating SEO keywords for YouTube.\n",
    "            Please generate a list of keywords from the above context.\n",
    "            You can use your creativity and correct spelling if it is needed.\"\"\"\n",
    "\n",
    "keywords = []\n",
    "for doc in docs:\n",
    "    kws = llm.ask_llm(doc.page_content, question)\n",
    "    keywords.append(kws)"
   ]
  },
  {
   "cell_type": "code",
   "execution_count": 22,
   "metadata": {},
   "outputs": [],
   "source": [
    "keywords = \",\".join(keywords)"
   ]
  },
  {
   "cell_type": "code",
   "execution_count": null,
   "metadata": {},
   "outputs": [],
   "source": [
    "keywords"
   ]
  },
  {
   "cell_type": "code",
   "execution_count": 24,
   "metadata": {},
   "outputs": [],
   "source": [
    "question = \"\"\"Above context is the list of relevant keywords for a YouTube video.\n",
    "                You need to generate SEO Keywords for it.\"\"\"\n",
    "\n",
    "response = llm.ask_llm(keywords, question)\n",
    "\n"
   ]
  },
  {
   "cell_type": "code",
   "execution_count": null,
   "metadata": {},
   "outputs": [],
   "source": [
    "print(response)"
   ]
  },
  {
   "cell_type": "code",
   "execution_count": null,
   "metadata": {},
   "outputs": [],
   "source": []
  }
 ],
 "metadata": {
  "kernelspec": {
   "display_name": "ml",
   "language": "python",
   "name": "python3"
  },
  "language_info": {
   "codemirror_mode": {
    "name": "ipython",
    "version": 3
   },
   "file_extension": ".py",
   "mimetype": "text/x-python",
   "name": "python",
   "nbconvert_exporter": "python",
   "pygments_lexer": "ipython3",
   "version": "3.12.4"
  }
 },
 "nbformat": 4,
 "nbformat_minor": 2
}
