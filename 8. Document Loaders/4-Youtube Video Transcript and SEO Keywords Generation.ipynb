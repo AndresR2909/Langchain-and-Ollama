{
 "cells": [
  {
   "cell_type": "markdown",
   "metadata": {},
   "source": [
    "## YouTube Video Transcripts and SEO Keywords Generation"
   ]
  },
  {
   "cell_type": "markdown",
   "metadata": {},
   "source": [
    "- We will see how to generate YouTube video transcripts and SEO keywords using LLM"
   ]
  },
  {
   "cell_type": "code",
   "execution_count": 1,
   "metadata": {},
   "outputs": [],
   "source": [
    "# !pip uninstall pytube"
   ]
  },
  {
   "cell_type": "code",
   "execution_count": 2,
   "metadata": {},
   "outputs": [],
   "source": [
    "# !pip install --upgrade --quiet  youtube-transcript-api pytube\n",
    "\n",
    "# PytubeError: Exception while accessing title of https://youtube.com/watch?v=TKCMw0utiak.\n",
    "# Please file a bug report at https://github.com/pytube/pytube\n",
    "\n",
    "# https://github.com/pytube/pytube/pull/2055/commits\n",
    "# python -m pip install git+https://github.com/WildDIC/pytube.git"
   ]
  },
  {
   "cell_type": "code",
   "execution_count": 3,
   "metadata": {},
   "outputs": [],
   "source": [
    "from langchain_community.document_loaders import YoutubeLoader\n",
    "\n",
    "url = \"https://www.youtube.com/watch?v=vCyVVsdKJCg\"\n",
    "\n",
    "loader = YoutubeLoader.from_youtube_url(\n",
    "    url, add_video_info=True\n",
    ")\n",
    "docs = loader.load()\n"
   ]
  },
  {
   "cell_type": "code",
   "execution_count": 4,
   "metadata": {},
   "outputs": [
    {
     "data": {
      "text/plain": [
       "{'source': 'vCyVVsdKJCg',\n",
       " 'title': 'Deploy LLM Application on AWS EC2 with Langchain and Ollama | Deploy LLAMA 3.2 App',\n",
       " 'description': 'Local LLM Tutorial Playlist: https://www.youtube.com/playlist?list=PLc2rvfiptPSReropGbvDFpB6dneNBwqhD\\n\\nIn this tutorial, I’ll walk you through the step-by-step process of deploying your AI-powered chat application using LangChain, Llama, and Streamlit on AWS EC2. Whether you’re building an LLM chatbot for personal projects or for production, this guide covers everything you need to know about:\\n\\n- Launching an EC2 instance on AWS\\n- Selecting the right AMI and instance type (Deep Learning AMI with Nvidia GPU, C7 Intel-powered instances)\\n- Installing LangChain, AMA, and Streamlit\\n- Cloning your project from GitHub to EC2\\n- Configuring security groups and ports for external access\\n- Running and hosting your chat app on AWS EC2 efficiently\\n- Ensuring persistent app operation with screen.\\n\\nCheck out the full source code on GitHub and learn how to host your LLM chat app with low latency and minimal cost.\\n\\nDeployment of Machine Learning Models in Production in Python:\\nhttps://bit.ly/bert_nlp\\n\\nPrevious Video:\\nhttps://youtu.be/uRV49nK-BOU\\n\\nCode Files:\\nhttps://github.com/laxmimerit/ollama-chatbot\\n\\nStreamlit Tutorials:\\nhttps://youtu.be/hff2tHUzxJM?si=aQiEDqW0m804N8j_\\n\\n\\n🔊 Watch till last for a detailed description\\n\\n💯 Read Full Blog with Code\\n       https://kgptalkie.com\\n💬 Leave your comments and doubts in the comment section\\n📌 Save this channel and video for watch later\\n👍 Like this video to show your support and love ❤️\\n\\n~~~~~~~~\\n🆓 Watch My Top Free Data Science Videos\\n👉🏻 Python for Data Scientist\\n      https://bit.ly/3dETtFb\\n👉🏻 Machine Learning for Beginners\\n      https://bit.ly/2WOVh7N\\n👉🏻 Feature Selection in Machine Learning\\n      https://bit.ly/2YW6ZQH\\n👉🏻 Text Preprocessing and Mining for NLP\\n       https://bit.ly/31sYMUN\\n👉🏻 Natural Language Processing (NLP)\\n      Tutorials https://bit.ly/3dF1cTL\\n👉🏻 Deep Learning with TensorFlow 2.0\\n      and Keras https://bit.ly/3dFl09G\\n👉🏻 COVID 19 Data Analysis and Visualization\\n      Masterclass https://bit.ly/31vNC1U\\n👉🏻 Machine Learning Model Deployment Using\\n      Flask at AWS https://bit.ly/3b1svaD\\n👉🏻 Make Your Own Automated Email Marketing\\n      Software in Python https://bit.ly/2QqLaDy\\n\\n***********\\n🤝 BE MY FRIEND\\n🌍 Check Out ML Blogs:  https://kgptalkie.com\\n🐦Add me on Twitter: https://twitter.com/laxmimerit\\n📄 Follow me on GitHub: https://github.com/laxmimerit\\n📕 Add me on Facebook: https://facebook.com/kgptalkie\\n💼 Add me on LinkedIn: https://linkedin.com/in/laxmimerit\\n👉🏻 Complete Udemy Courses: https://bit.ly/32taBK2\\n⚡ Check out my Recent Videos: https://bit.ly/3ldnbWm\\n🔔 Subscribe me for Free Videos: https://bit.ly/34wN6T6\\n🤑 Get in touch for Promotion: info@kgptalkie.com\\n\\n✍️🏆🏅🎁🎊🎉✌️👌⭐⭐⭐⭐⭐\\nENROLL in My Highest Rated Udemy Courses\\nto 🔑 Crack Data Science Interviews and Jobs\\n\\n🏅🎁 Python for Machine Learning: A Step-by-Step Guide | Udemy\\nCourse Link: https://bit.ly/ml-ds-project\\n\\n🎁🎊 Deep Learning for Beginners with Python\\nCourse Link: https://bit.ly/dl-with-python\\n\\n📚 📗 Natural Language Processing ML Model Deployment at AWS\\nCourse Link: https://bit.ly/bert_nlp\\n\\n📊 📈 Data Visualization in Python Masterclass: Beginners to Pro\\nCourse Link: https://bit.ly/udemy95off_kgptalkie\\n\\n📘 📙 Natural Language Processing (NLP) in Python for Beginners\\nCourse Link: https://bit.ly/intro_nlp\\n\\n🎉✌️ Advanced Natural Language and Image Processing Projects | Udemy\\nCourse Link: https://bit.ly/kgptalkie_ml_projects\\n\\n📈 📘 Python for Linear Regression in Machine Learning\\nCourse Link: https://bit.ly/regression-python\\n\\n📙📊 R 4.0 Programming for Data Science || Beginners to Pro\\nCourse Link: http://bit.ly/r4-ml\\n\\n✍️🏆 Introduction to Spacy 3 for Natural Language Processing\\nCourse Link: https://bit.ly/spacy-intro',\n",
       " 'view_count': 297,\n",
       " 'thumbnail_url': 'https://i.ytimg.com/vi/vCyVVsdKJCg/sddefault.jpg',\n",
       " 'publish_date': '2024-10-20 00:00:00',\n",
       " 'length': 1763,\n",
       " 'author': 'KGP Talkie'}"
      ]
     },
     "execution_count": 4,
     "metadata": {},
     "output_type": "execute_result"
    }
   ],
   "source": [
    "doc = docs[0]\n",
    "\n",
    "doc.metadata\n",
    "doc.page_content\n",
    "doc.metadata"
   ]
  },
  {
   "cell_type": "code",
   "execution_count": 5,
   "metadata": {},
   "outputs": [],
   "source": [
    "from langchain_community.document_loaders.youtube import TranscriptFormat\n",
    "\n",
    "loader = YoutubeLoader.from_youtube_url(\n",
    "    url,\n",
    "    add_video_info=True,\n",
    "    transcript_format=TranscriptFormat.CHUNKS,\n",
    "    chunk_size_seconds=600,\n",
    ")\n",
    "# print(\"\\n\\n\".join(map(repr, loader.load())))\n",
    "\n",
    "docs = loader.load()"
   ]
  },
  {
   "cell_type": "code",
   "execution_count": 6,
   "metadata": {},
   "outputs": [],
   "source": [
    "### Code for LLM\n",
    "from scripts import llm\n"
   ]
  },
  {
   "cell_type": "code",
   "execution_count": 21,
   "metadata": {},
   "outputs": [],
   "source": [
    "question = \"\"\"You are an assistant for generating SEO keywords for YouTube.\n",
    "            Please generate a list of keywords from the above context.\n",
    "            You can use your creativity and correct spelling if it is needed.\"\"\"\n",
    "\n",
    "keywords = []\n",
    "for doc in docs:\n",
    "    kws = llm.ask_llm(doc.page_content, question)\n",
    "    keywords.append(kws)"
   ]
  },
  {
   "cell_type": "code",
   "execution_count": 22,
   "metadata": {},
   "outputs": [],
   "source": [
    "keywords = \",\".join(keywords)"
   ]
  },
  {
   "cell_type": "code",
   "execution_count": 23,
   "metadata": {},
   "outputs": [
    {
     "data": {
      "text/plain": [
       "'Based on the provided context, I\\'ve generated a list of relevant keywords that could be used for SEO optimization in a YouTube video about hosting a chat application with AMA and Lang chain on AWS services:\\n\\n1. \"AWS E2\"\\n2. \"AMA Chat Application\"\\n3. \"Lang Chain\"\\n4. \"AWS EC2\"\\n5. \"Deep Learning Ami\"\\n6. \"Nvidia GPU\"\\n7. \"PyTorch\"\\n8. \"Streamlit\"\\n9. \"Llama Chatbot\"\\n10. \"Chat Application Hosting\"\\n11. \"AWS Services\"\\n12. \"E2 Instance\"\\n13. \"GPU-Powered Chat\"\\n14. \"Compute-Intensive Instances\"\\n15. \"C7 Instance\"\\n16. \"Intel Powered Instances\"\\n17. \"AMD Power Instances\"\\n18. \"Security Group\"\\n19. \"SSH Traffic\"\\n20. \"HTTP and HTTPS Services\"\\n\\nAdditionally, some long-tail keywords that could be used to optimize the video for specific search queries:\\n\\n1. \"Hosting a chat application on AWS\"\\n2. \"Deploying Lang Chain on AWS EC2\"\\n3. \"Setting up AMA Chatbot on AWS\"\\n4. \"Building a deep learning model on GPU\"\\n5. \"Optimizing Streamlit for chat applications\"\\n6. \"Choosing the right instance type for chatbots\"\\n7. \"Securely connecting to AWS EC2 instances\"\\n\\nNote that these keywords can be used in various combinations to create effective SEO titles, descriptions, and tags for the YouTube video.,Based on the provided context, here\\'s a list of potential SEO keywords related to YouTube:\\n\\n1. AWS EC2 instance\\n2. Deep learning instances\\n3. Security groups\\n4. Storage volumes\\n5. Launch instances\\n6. Streamlit\\n7. LangChain\\n8. LLaMA\\n9. AMA (Artificial Manager Assistant)\\n10. GPU software\\n11. Python programming\\n12. K (Keras or Kubeflow)\\n13. Pip install\\n14. GitHub repositories\\n15. Chatbot development\\n16. Natural Language Processing (NLP)\\n17. Machine learning models\\n18. Cloud computing\\n19. Virtual machines\\n20. Remote access\\n\\nAdditionally, here are some long-tail keywords:\\n\\n1. \"AWS EC2 instance for deep learning\"\\n2. \"Streamlit LangChain LLaMA chatbot development\"\\n3. \"Python programming for AWS EC2 instances\"\\n4. \"K (Keras or Kubeflow) installation on Ubuntu machine\"\\n5. \"GitHub repositories for chatbot development\"\\n\\nPlease note that these keywords can be further optimized and refined based on specific requirements and target audience.,Based on the provided context, here\\'s a list of potential SEO keywords for YouTube:\\n\\n1. \"Deploying Streamlit application on AWS EC2\"\\n2. \"AWS EC2 instance setup for machine learning\"\\n3. \"Streamlit deployment on Amazon Web Services (AWS)\"\\n4. \"NLP tutorials with Hugging Face and LLaMA\"\\n5. \"LLaMA model deployment in production\"\\n6. \"Machine learning models on AWS services\"\\n7. \" deploying chat applications on AWS EC2\"\\n8. \"AWS S3 services tutorial\"\\n9. \"Lambda services for machine learning\"\\n10. \"Docker and FastAPI with AWS ECS\"\\n11. \"ECR and EKS tutorials\"\\n12. \"Cloud computing for machine learning\"\\n13. \"Streamlit application development\"\\n14. \"NLP and AI on AWS\"\\n15. \"Model deployment and maintenance\"\\n\\nSome long-tail keywords that might be relevant:\\n\\n1. \"How to deploy Streamlit application on AWS EC2 in 10 minutes\"\\n2. \"Best practices for deploying NLP models on AWS services\"\\n3. \"Streamlit tutorial for machine learning beginners on AWS\"\\n4. \"LLaMA model deployment and fine-tuning on AWS\"\\n5. \"AWS EC2 instance setup for chatbot development\"\\n\\nNote: These keywords can be further optimized by including relevant phrases, such as \"YouTube tutorials\", \"online courses\", or \"machine learning resources\".'"
      ]
     },
     "execution_count": 23,
     "metadata": {},
     "output_type": "execute_result"
    }
   ],
   "source": [
    "keywords"
   ]
  },
  {
   "cell_type": "code",
   "execution_count": 24,
   "metadata": {},
   "outputs": [],
   "source": [
    "question = \"\"\"Above context is the list of relevant keywords for a YouTube video.\n",
    "                You need to generate SEO Keywords for it.\"\"\"\n",
    "\n",
    "response = llm.ask_llm(keywords, question)\n",
    "\n"
   ]
  },
  {
   "cell_type": "code",
   "execution_count": 25,
   "metadata": {},
   "outputs": [
    {
     "name": "stdout",
     "output_type": "stream",
     "text": [
      "Based on the provided context, here are some potential SEO keywords for the YouTube video:\n",
      "\n",
      "**Main Keywords**\n",
      "\n",
      "1. \"Host a chat application\"\n",
      "2. \"AMA Chatbot hosting\"\n",
      "3. \"LangChain deployment\"\n",
      "4. \"AWS Chat Application Hosting\"\n",
      "5. \"Deep Learning Chatbots\"\n",
      "\n",
      "**Long-tail Keywords**\n",
      "\n",
      "1. \"How to host a chat application on AWS\"\n",
      "2. \"Deploying LangChain chatbot on AWS EC2\"\n",
      "3. \"Setting up AMA chatbot on AWS Services\"\n",
      "4. \"Building deep learning chatbots with GPU power\"\n",
      "5. \"Optimizing Streamlit for chat applications\"\n",
      "\n",
      "**Keyword Phrases**\n",
      "\n",
      "1. \"Chat Application Hosting on AWS\"\n",
      "2. \"LangChain and LLaMA Chatbot Development\"\n",
      "3. \"Deep Learning and Machine Learning on AWS\"\n",
      "4. \"Streamlit and Python Programming for Chatbots\"\n",
      "5. \"Cloud Computing for Chat Applications\"\n",
      "\n",
      "Note: These keywords can be further optimized by including relevant phrases, such as \"YouTube tutorials\", \"online courses\", or \"machine learning resources\".\n"
     ]
    }
   ],
   "source": [
    "print(response)"
   ]
  },
  {
   "cell_type": "code",
   "execution_count": null,
   "metadata": {},
   "outputs": [],
   "source": []
  }
 ],
 "metadata": {
  "kernelspec": {
   "display_name": "ml",
   "language": "python",
   "name": "python3"
  },
  "language_info": {
   "codemirror_mode": {
    "name": "ipython",
    "version": 3
   },
   "file_extension": ".py",
   "mimetype": "text/x-python",
   "name": "python",
   "nbconvert_exporter": "python",
   "pygments_lexer": "ipython3",
   "version": "3.12.4"
  }
 },
 "nbformat": 4,
 "nbformat_minor": 2
}
