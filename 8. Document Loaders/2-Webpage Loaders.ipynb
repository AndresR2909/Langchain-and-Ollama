{
 "cells": [
  {
   "cell_type": "markdown",
   "metadata": {},
   "source": [
    "## Webpage Loaders\n",
    "- Load the webpage and extract the data using the `requests` and `BeautifulSoup` libraries.\n",
    "- Use LLM to extract meaningful data from the webpage."
   ]
  },
  {
   "cell_type": "markdown",
   "metadata": {},
   "source": [
    "### Project 1: Share Market Data Analysis Based on Global Cues\n",
    "- We will extract the data from the website `https://www.bloomberg.com/markets` and analyze the data to understand the impact of global cues on the Indian share market."
   ]
  },
  {
   "cell_type": "code",
   "execution_count": 1,
   "metadata": {},
   "outputs": [
    {
     "data": {
      "text/plain": [
       "True"
      ]
     },
     "execution_count": 1,
     "metadata": {},
     "output_type": "execute_result"
    }
   ],
   "source": [
    "from dotenv import load_dotenv\n",
    "\n",
    "load_dotenv('./../.env')"
   ]
  },
  {
   "cell_type": "code",
   "execution_count": 7,
   "metadata": {},
   "outputs": [],
   "source": [
    "import bs4\n",
    "from langchain_community.document_loaders import WebBaseLoader\n",
    "\n",
    "\n",
    "urls = [\"https://www.moneycontrol.com/\",\n",
    "        \"https://economictimes.indiatimes.com/markets/stocks/news\", \n",
    "        \"https://www.livemint.com/latest-news\"]\n",
    "\n",
    "loader = WebBaseLoader(web_paths=urls)\n",
    "docs = []\n",
    "async for doc in loader.alazy_load():\n",
    "    docs.append(doc)\n",
    "\n",
    "def format_docs(docs):\n",
    "    return \"\\n\\n\".join([x.page_content for x in docs])\n",
    "\n",
    "\n",
    "context = format_docs(docs)"
   ]
  },
  {
   "cell_type": "code",
   "execution_count": 8,
   "metadata": {},
   "outputs": [],
   "source": [
    "import re\n",
    "\n",
    "def text_clean(text):\n",
    "    text = re.sub(r\"\\n\\n+\", \"\\n\\n\", text)\n",
    "    text = re.sub(r\"\\t+\", \"\\t\", text).strip()\n",
    "    return text"
   ]
  },
  {
   "cell_type": "code",
   "execution_count": 9,
   "metadata": {},
   "outputs": [
    {
     "data": {
      "text/plain": [
       "102319"
      ]
     },
     "execution_count": 9,
     "metadata": {},
     "output_type": "execute_result"
    }
   ],
   "source": [
    "context = text_clean(context)\n",
    "len(context)"
   ]
  },
  {
   "cell_type": "code",
   "execution_count": 10,
   "metadata": {},
   "outputs": [],
   "source": [
    "### QnA with LLM\n",
    "from scripts import llm"
   ]
  },
  {
   "cell_type": "code",
   "execution_count": 12,
   "metadata": {},
   "outputs": [
    {
     "data": {
      "text/plain": [
       "Document(metadata={'source': 'https://www.livemint.com/latest-news', 'title': 'Latest News Today: Latest News Headlines, Breaking News, Current News | Mint', 'description': 'Latest News Today: Read latest and breaking news from India and across the world. Explore more for current news, premium and WSJ news, business news on Mint.', 'language': 'en'}, page_content=\"\\n\\n\\n          \\n\\n\\n\\n\\n \\nLatest News Today: Latest News Headlines, Breaking News, Current News | Mint\\n\\n\\n\\n\\n\\n\\n\\n\\n\\n\\n\\n\\n \\n\\n\\n\\n \\n\\n\\n\\n\\n\\n\\n\\n          Explore          Sign in      e-paper Subscribe  Sign In     Wednesday, 30 October 2024              Stocks       Mutual Funds       News                     Home News Markets Premium Money Mutual Fund Personal Loan Companies Technology Web Stories In Charts Opinion Videos      All Companies  Technology Markets Money MyMint Mutual Funds Insurance Auto  Industry  Personal Finance        Hello User  Sign in      Sign Out     My Account My Account Subscribe  My Watchlist   Newsletters   Notifications      My Reads   For You   View Less -  View More +   Data Insights   Market Dashboard   Bullion      Gold   Silver     Fuel      Petrol   Diesel     Commodities      Gold   GoldM   Aluminum   Menthaoil   Silver   SilverMIC   GoldPetal   Natural Gas   Copper   Zinc   SilverM   CrudeOil   GoldGinuea   Lead        CryptoCurrencies   View Less -  View More +   Top Sections   Today's News      India News   World News   US News Today     Economy   Money News      Personal Finance   Q&A   Opinion     Company Business News      IPO News   Start-ups   Company Results   Top Company Leader     Stock Market News      Stock Markets   Commodity News   Mark To Market   IPO News   Live Blog        personal loan      personal loan emi calculator   Personal Loan Interest Rate   Personal Loan Eligibility   Business Loan   Instant Loan     Election Results 2024      Assembly Elections 2024     Indian Industry Analysis      Banking News   Infotech News   Infrastructure   Agriculture   Manufacturing   Energy News   Retail News   Auto News   Sports News     Opinion      Views   Columns     Technology News      Gadgets   Tech Reviews   App News     Politics News   Lounge   Sports News   IPL 2025       IPL Points Table 2024   IPL 2024 Orange Cap   IPL 2024 Purple Cap   IPL Match Today | IPL 2024 Schedule      Education News Today   View Less -  View More +   Premium Offerings   e-paper   WSJ   Economist   MyMint     Mint Premium   View Less -  View More +   Tools and Calculators   IFSC Code Finder   Income Tax Calculator   SIP Calculator      EMI Calculator   Home Loan EMI Calculator   Car Loan EMI   NPS Calculator   View Less -  View More +   MultiMedia Collections   Videos   WebStories   Photo Gallery      Podcasts   View Less -  View More +   More From Mint   Mint Genie  Mint Lounge    Explore Mint  About Us Print Subscription Mint Authors    Terms of Use Disclaimer Mint Code Code of ethics Cookie Policy Privacy Policy Subscriber - Terms of Use SITEMAP Contact Us Mint Apps  View Less -  View More +  Copyright © HT Digital Streams Limited All Rights Reserved.   \\n\\n\\n\\n\\n\\n\\n\\nOPEN IN APP\\n\\n\\n\\n\\n\\n\\n   Gainers & Losers   Top Gainers Top Losers    Maruti Suzuki India share price 11,367.902.90%     Indusind Bank share price 1,058.451.95%     Wipro share price 567.400.92%     Larsen & Toubro share price 3,407.000.77%     Ultratech Cement share price 11,199.350.75%     Infosys share price 1,803.60-1.91%     ICICI Bank share price 1,309.95-1.68%     Axis Bank share price 1,169.05-1.43%     HDFC Bank share price 1,727.20-1.36%     HCL Technologies share price 1,847.00-1.36%     Active Stocks Wed Oct 30 2024 14:28:42     Tata Motors share price  843.70  0.08%      Tata Steel share price  149.55  -0.33%      Power Grid Corporation Of India share price  319.50  -0.36%      Wipro share price  567.40  0.92%      NTPC share price  407.80  -1.08%   \\n \\n\\nBusiness News/\\xa0Latest News\\n\\t\\nLatest News\\n\\n\\n\\n\\n\\n\\n\\n\\nPremium\\n\\n\\n\\nPARTNERED\\n\\n\\n          How AI is Changing the Way We Connect with Customers\\n        \\n\\n\\n1 min read\\n.\\n02:32 PM IST\\n\\n\\n\\n\\n\\nShare Via\\n\\n\\n\\n\\n\\n\\n\\n\\n \\n \\n\\n\\n\\n\\n\\n\\n\\nPremium\\n\\n\\n\\n\\n\\n          Japan's Mount Mount Fuji has yet to see snow this season\\n        \\n\\n\\n1 min read\\n.\\n02:30 PM IST\\n\\n\\n\\n\\n\\nShare Via\\n\\n\\n\\n\\n\\n\\n\\n\\n \\n \\n\\n\\n\\n\\n\\n\\n\\nPremium\\n\\n\\n\\n\\n\\n          Best travel bag brands: Top 10 options to consider\\n        \\n\\n\\n8 min read\\n.\\n02:30 PM IST\\n\\n\\n\\n\\n\\nShare Via\\n\\n\\n\\n\\n\\n\\n\\n\\n \\n \\n\\n\\n\\n\\n\\n\\n\\nPremium\\n\\n\\n\\n\\n\\n          World Savings Day: A reality check on household savings\\n        \\n\\n\\n2 min read\\n.\\n02:28 PM IST\\n\\n\\n\\n\\n\\nShare Via\\n\\n\\n\\n\\n\\n\\n\\n\\n \\n \\n\\n\\n\\n\\n\\n\\n\\n\\n\\n\\n\\nPremium\\n\\n\\n\\n\\n\\n          India-Canada row ‘like a Netflix movie,’ says Deepak Shenoy: Nijjar as ‘villian’\\n        \\n\\n\\n2 min read\\n.\\n02:24 PM IST\\n\\n\\n\\n\\n\\nShare Via\\n\\n\\n\\n\\n\\n\\n\\n\\n \\n \\n\\n\\n\\n\\n\\n\\n\\n\\nPremium\\n\\n\\n\\n\\n\\n          10 spine-chilling horror movies to celebrate 2024 Halloween\\n        \\n\\n\\n1 min read\\n.\\n02:23 PM IST\\n\\n\\n\\n\\n\\nShare Via\\n\\n\\n\\n\\n\\n\\n\\n\\n \\n \\n\\n\\n\\n\\n\\n\\n\\nPremium\\n\\n\\n\\n\\n\\n          JTL Industries share price jumps 6% as it expands Raipur plant capacity\\n        \\n\\n\\n1 min read\\n.\\n02:22 PM IST\\n\\n\\n\\n\\n\\nShare Via\\n\\n\\n\\n\\n\\n\\n\\n\\n \\n \\n\\n\\n\\n\\n\\n\\n\\nPremium\\n\\n\\n\\n\\n\\n          Chennai rains: Tamil Nadu's capital soaked as heavy showers lash the city\\n        \\n\\n\\n1 min read\\n.\\n02:22 PM IST\\n\\n\\n\\n\\n\\nShare Via\\n\\n\\n\\n\\n\\n\\n\\n\\n \\n \\n\\n\\n\\n\\n\\n\\n\\nPremium\\n\\n\\n\\n\\n\\n          Procter & Gamble Q2 results: Net profit rises 1% to  ₹221 crore; revenue flat\\n        \\n\\n\\n1 min read\\n.\\n02:22 PM IST\\n\\n\\n\\n\\n\\nShare Via\\n\\n\\n\\n\\n\\n\\n\\n\\n \\n \\n\\n\\n\\n\\n\\n\\n\\nPremium\\n\\n\\n\\n\\n\\n          IndiGo Airlines has launched the BluChip loyalty program; all you need to know\\n        \\n\\n\\n5 min read\\n.\\n02:20 PM IST\\n\\n\\n\\n\\n\\nShare Via\\n\\n\\n\\n\\n\\n\\n\\n\\n \\n \\n\\n\\n\\n\\n\\n\\n\\n\\nPremium\\n\\n\\n\\n\\n\\n          How a Delhi-based businessman went gung-ho on mutual funds in his 50s\\n        \\n\\n\\n5 min read\\n.\\n02:20 PM IST\\n\\n\\n\\n\\n\\nShare Via\\n\\n\\n\\n\\n\\n\\n\\n\\n \\n \\n\\n\\n\\n\\n\\n\\n\\nPremium\\n\\n\\n\\n\\n\\n          More Chinese stimulus required for steel demand, prices to rise, say analysts\\n        \\n\\n\\n3 min read\\n.\\n02:19 PM IST\\n\\n\\n\\n\\n\\nShare Via\\n\\n\\n\\n\\n\\n\\n\\n\\n \\n \\n\\n\\n\\n\\n\\n\\n\\nPremium\\n\\n\\n\\n\\n\\n          Virtual credit card: What is it and how does it work?\\n        \\n\\n\\n2 min read\\n.\\n02:16 PM IST\\n\\n\\n\\n\\n\\nShare Via\\n\\n\\n\\n\\n\\n\\n\\n\\n \\n \\n\\n\\n\\n\\n\\n\\n\\nPremium\\n\\n\\n\\n\\n\\n          Diwali 2024: Decor pieces to light up your house\\n        \\n\\n\\n1 min read\\n.\\n02:15 PM IST\\n\\n\\n\\n\\n\\nShare Via\\n\\n\\n\\n\\n\\n\\n\\n\\n \\n \\n\\n\\n\\n\\n\\n\\n\\nPremium\\n\\n\\n\\n\\n\\n          Understanding the Importance of Savings and Investments\\n        \\n\\n\\n4 min read\\n.\\n02:13 PM IST\\n\\n\\n\\n\\n\\nShare Via\\n\\n\\n\\n\\n\\n\\n\\n\\n \\n \\n\\n\\n\\n\\n\\n\\n\\n\\nPremium\\n\\n\\n\\nPROMOTIONAL\\n\\n\\n          Why November is the best time to Visit Jaisalmer, Rajasthan\\n        \\n\\n\\n4 min read\\n.\\n02:01 PM IST\\n\\n\\n\\n\\n\\nShare Via\\n\\n\\n\\n\\n\\n\\n\\n\\n \\n \\n\\n\\n\\n\\n\\n\\n\\nPremium\\n\\n\\n\\nPROMOTIONAL\\n\\n\\n          Places to Visit in India for Snowfall\\n        \\n\\n\\n4 min read\\n.\\n02:01 PM IST\\n\\n\\n\\n\\n\\nShare Via\\n\\n\\n\\n\\n\\n\\n\\n\\n \\n \\n\\n\\n\\n\\n\\n\\n\\nPremium\\n\\n\\n\\nPROMOTIONAL\\n\\n\\n          Club Mahindra Resorts You Must Visit During Winter\\n        \\n\\n\\n4 min read\\n.\\n02:01 PM IST\\n\\n\\n\\n\\n\\nShare Via\\n\\n\\n\\n\\n\\n\\n\\n\\n \\n \\n\\n\\n\\n\\n\\n\\n\\nPremium\\n\\n\\n\\n\\n\\n          India’s economy has done quite well on many counts\\n        \\n\\n\\n4 min read\\n.\\n02:00 PM IST\\n\\n\\n\\n\\n\\nShare Via\\n\\n\\n\\n\\n\\n\\n\\n\\n \\n \\n\\n\\n\\n\\n\\n\\n\\nPremium\\n\\n\\n\\n\\n\\n          Elon Musk buys secret property worth  ₹300 crore for his 11 children\\n        \\n\\n\\n1 min read\\n.\\n01:57 PM IST\\n\\n\\n\\n\\n\\nShare Via\\n\\n\\n\\n\\n\\n\\n\\n\\n \\n \\n\\n\\n\\n\\n\\n\\n\\n\\n\\n\\n\\n\\n\\n\\n\\n\\n\\n\\n\\n\\n\\n\\nRecommended For You\\n\\n\\n\\n\\n\\n\\n\\n\\n\\n\\n\\n\\n\\n\\n\\n\\n\\n\\n\\n \\n\\n\\n \\n\\n\\n \\n\\n\\n\\n\\n\\nFeedback\\n\\n\\n\\nSelect your Category\\n\\nQuery Suggestion\\n\\n\\n\\nYour Message\\n\\n\\n\\n\\n\\n\\n\\n\\n\\n\\n         Connect with us:                           trending stories ICAI Results 2024 Yes Bank Share Price Abhinav Arora Babar Azam Reliance Share Price Afcons Infrastructure IPO  Vasu Baras 2024 Iran Israel News Income Tax Calculator Upcoming IPO 2024 Bank Holidays in Uttar Pradesh Bank Holidays in Gujarat Bank Holidays in Delhi  Bank Holidays in September Bank Holidays in Jammu And Kashmir Instant Personal Loan Check Credit Score Online Business Loan Tata Curvv Mahindra Thar Roxx Personal Loan Interest Rate Personal Loan Eligibility Personal Loan EMI Calculator Gold Rate in Delhi Amazon Great Indian Festival Last Day Amazon Diwali Sale Price Drop Amazon Dhanteras Sale Amazon Sale on Washing machine Gold Rate in Bangalore Gold Rate in Chennai Gold Rate in Hyderabad Gold Rate in Mumbai Credit Card Election Results 2024 Godavari Biorefineries IPO Hyundai India share price Quarterly Results Calendar 2024   Data Pages Quarterly Results Calendar Petrol Prices Diesel Prices MCX Gold Price Election Results 2024 Assembly Election Results 2024 MCX Silver Price Gold Price Silver Price NSE TOP Gainers NSE TOP Losers BSE TOP Gainers BSE TOP Losers Bank Holidays 2024 Upcoming IPO 2024 BSE Q3 Results 2023 Income Tax Calculator   popular stocks JSW INFRASTRUCTURE share price R R KABEL share price CONCORD BIOTECH share price IDBI Bank share price Yes Bank share price Adani Power share price HUL share price Indian Oil share price Vedanta share price Jio Financial Services share price Paytm share price Punjab National Bank share price Canara Bank share price Adani Green Energy share price Indian Railway Finance Corporation share price Suzlon Energy share price IREDA share price Vodafone Idea share price Orient Technologies share price Premier Energies share price Bajaj Housing Finance Share Price Garuda Construction And Engineer share price Hyundai Motor India share price   latest stories How AI is Changing the Way We Connect with Customers Japan's Mount Mount Fuji has yet to see snow this season Best travel bag brands: Top 10 options to consider World Savings Day: A reality check on household savings India-Canada row ‘like a Netflix movie,’ says Deepak Shenoy: Nijjar as ‘villian’ 10 spine-chilling horror movies to celebrate 2024 Halloween JTL Industries share price jumps 6% as it expands Raipur plant capacity Chennai rains: Tamil Nadu's capital soaked as heavy showers lash the city Procter & Gamble Q2 results: Net profit rises 1% to ₹221 crore; revenue flat IndiGo Airlines has launched the BluChip loyalty program; all you need to know   Nifty 50 Companies ADANI ENTERPRISES share price ADANI PORTS share price APOLLO HOSPITALS share price ASIAN PAINTS share price AXIS BANK share price BAJAJ AUTO share price BAJAJ FINANCE share price BAJAJ FINSERVE share price BPCL share price BHARTI AIRTEL share price BRITANNIA share price CIPLA share price COAL INDIA share price DIVIS LABORATORIES share price DR REDDYS LABORATORIES share price EICHER MOTORS share price GRASIM INDUSTRIES share price HCL TECHNOLOGIES share price HDFC BANK share price HDFC LIFE share price HERO MOTOCORP share price HINDALCO INDUSTRIES share price HINDUSTAN UNILEVER share price ICICI BANK share price ITC share price INDUSIND BANK share price INFOSYS share price JSW STEEL share price KOTAK BANK share price LARSEN & TOURBO share price MAHINDRA & MAHINDRA share price MARUTI SUZUKI share price NTPC share price NESTLE INDIA share price ONGC share price POWER GRID share price RELIANCE INDUSTRIES share price SBI LIFE share price SBI share price SUN PHARMA share price TCS share price TATA MOTORS share price TATA STEEL share price TATA CONSUMER share price TECH MAHINDRA share price TITAN share price UPL share price ULTRATECH CEMENT share price WIPRO share price      DOWNLOAD APP Download the Mint app and read premium stories        About Us   Contact Us   Terms Of Use   Privacy Policy   RSS                                  Copyright © 2023 HT Digital Streams Ltd All Right Reserved    \\nNo NetworkServer IssueInternet Not AvailableWait for it…Log in to our website to save your bookmarks. It'll just take a moment.Yes, Continue\\nYou are just one step away from creating your watchlist!Login Now\\nWait for it…Oops! Looks like you have exceeded the limit to bookmark the image. Remove some to bookmark this image.  Your session has expired, please login again.Yes, Continue\\nCongratulations!You are now subscribed to our newsletters. In case you can’t find any email from our side, please check the spam folder.\\n\\n\\n\\n\\n\\n\\n\\n\\n\\n  \\n×\\n\\n\\n\\n ×           Get alerts on WhatsApp  Gift an article Set Preferences My Reads Watchlist Feedback Redeem a Gift Card Logout  \\n\\n\\n\\n      Subscribe to continue This is a subscriber only feature Subscribe Now to get daily updates on WhatsApp \\xa0\\xa0       \\n\\n\\n\\n\\n\\n\\n\\n\\n\\n    \\n\\n\\n \\n\\n\\n\\n\\n\\n\\n\\n\\n\\n\\n\\n\\n\\n\\n\\n\\n\\n\")"
      ]
     },
     "execution_count": 12,
     "metadata": {},
     "output_type": "execute_result"
    }
   ],
   "source": [
    "doc"
   ]
  },
  {
   "cell_type": "code",
   "execution_count": 13,
   "metadata": {},
   "outputs": [
    {
     "name": "stdout",
     "output_type": "stream",
     "text": [
      "* Force Motors hits 20% upper circuit on healthy Q2FY25 results\n",
      "* Godavari Biorefineries shares list at 12.5% discount on NSE\n",
      "* Voltas shares plunge 6% following Q2 results\n",
      "* Oil prices steady on shrinking U.S. crude inventories\n",
      "* Bitcoin rises past $70,000 for the first time since June\n"
     ]
    }
   ],
   "source": [
    "question = \"\"\"Extract stock market related news if present in the text. \n",
    "                                        Do not write preamble or explaination. Extract all news in points.\"\"\"\n",
    "\n",
    "response = llm.ask_llama(context[:10_000], question)\n",
    "print(response)"
   ]
  },
  {
   "cell_type": "code",
   "execution_count": 14,
   "metadata": {},
   "outputs": [],
   "source": [
    "# Get the answer from chunks of 10_000 characters with 100 characters overlap\n",
    "def chunk_text(text, chunk_size=10_000, overlap=100):\n",
    "    chunks = []\n",
    "    for i in range(0, len(text), chunk_size-overlap):\n",
    "        chunks.append(text[i:i+chunk_size])\n",
    "    return chunks\n",
    "\n",
    "chunks = chunk_text(context)\n",
    "\n"
   ]
  },
  {
   "cell_type": "code",
   "execution_count": 15,
   "metadata": {},
   "outputs": [],
   "source": [
    "chunk_summary = []\n",
    "for chunk in chunks:\n",
    "    response = llm.ask_llama(chunk, question)\n",
    "    chunk_summary.append(response)"
   ]
  },
  {
   "cell_type": "code",
   "execution_count": 16,
   "metadata": {},
   "outputs": [
    {
     "name": "stdout",
     "output_type": "stream",
     "text": [
      "* Force Motors hits 20% upper circuit on healthy Q2FY25 results\n",
      "* Godavari Biorefineries shares list at 12.5% discount on NSE\n",
      "* Voltas shares plunge 6% following Q2 results\n",
      "* Oil prices steady on shrinking U.S. crude inventories\n",
      "* Bitcoin rises past $70,000 for the first time since June\n"
     ]
    }
   ],
   "source": [
    "for summary in chunk_summary:\n",
    "    print(summary)\n",
    "    break"
   ]
  },
  {
   "cell_type": "code",
   "execution_count": 28,
   "metadata": {},
   "outputs": [],
   "source": [
    "summary = \"\\n\\n\".join(chunk_summary)\n",
    "response = llm.ask_llama(context = summary, \n",
    "                             question = \"\"\"Write a detailed market news report in markdown format. Think carefully then write the report.\"\"\")"
   ]
  },
  {
   "cell_type": "code",
   "execution_count": 29,
   "metadata": {},
   "outputs": [],
   "source": [
    "import os\n",
    "\n",
    "# print(response)\n",
    "\n",
    "os.makedirs(\"data\", exist_ok=True)\n",
    "with open(\"data/market_report.md\", \"w\") as f:\n",
    "    f.write(response)"
   ]
  },
  {
   "cell_type": "code",
   "execution_count": 27,
   "metadata": {},
   "outputs": [
    {
     "name": "stdout",
     "output_type": "stream",
     "text": [
      "* Force Motors hits 20% upper circuit on healthy Q2FY25 results\n",
      "* Godavari Biorefineries shares list at 12.5% discount on NSE\n",
      "* Voltas shares plunge 6% following Q2 results\n",
      "* Oil prices steady on shrinking U.S. crude inventories\n",
      "* Bitcoin rises past $70,000 for the first time since June\n",
      "\n",
      "• Advance / Decline (NSE) \n",
      "• Global Markets\n",
      "• STOCK ACTION\n",
      "• NSE\n",
      "• BSE\n",
      "• Value \n",
      "(Rs Cr.)\n",
      "• HDFC Bank\n",
      "• Maruti Suzuki\n",
      "• M&M\n",
      "• Reliance\n",
      "• ICICI Bank\n",
      "• Tata Motors\n",
      "• Wipro\n",
      "• IndusInd Bank\n",
      "\n",
      "Here are the extracted stock market related news:\n",
      "\n",
      "* Maruti Suzuki shares up 2% despite brokerages flagging demand concerns for entry-level cars\n",
      "* Maruti Suzuki’s first EV promises high-tech edge, set to electrify roads in Japan and Europe\n",
      "* Northern Arc Capital Q2 profit rises 24% to Rs 98 cr\n",
      "\n",
      "Here are the extracted stock market related news:\n",
      "\n",
      "* Investors will remain positive post Budget on Indian fixed income assets\n",
      "* Right time to invest in fixed income for stability, says LIC Mutual Fund's Marzban Irani\n",
      "* How to get the best from your fixed-income investments\n",
      "* Why monthly interest payout option in a bond may not be as good as it sounds\n",
      "* Bond market teaches you why even a single basis point matters a lot: A Balasubramanian\n",
      "* Small Savings Schemes: Income proof needed if investment exceeds Rs 10 lakh\n",
      "* Should you invest in debt funds as interest rate cut inches closer? | Simply Save\n",
      "* RBI announces premature redemption calendar for SGBs issued from May 2017-March 2020\n",
      "* MC Exclusive| Kanpur, Indore municipal corporations to raise funds via municipal bonds in 2-3 months\n",
      "* With Budget behind, bond market’s fortunes now lie in the hands of foreign investors\n",
      "* Budget Snapshot: Centre can afford to not cut its FY25 borrowing target\n",
      "\n",
      "* Mid and smallcap indices bucking the selloff in Nifty, Sensex: Will the trend sustain?\n",
      "* Mid-day Mood | Nifty, Sensex firmly in red as pharma, bank stocks fall; VIX up 5%\n",
      "* Nifty, Sensex fall, snap 2-day streak as pharma stocks decline; Auto stocks rise\n",
      "* Accumulate Ami Organics; target of Rs 1994: KR Choksey\n",
      "* Buy ITC; target of Rs 560: Anand Rathi\n",
      "* Buy Cyient; target of Rs 2230: Anand Rathi\n",
      "\n",
      "* Delhi-NCR sees highest average housing price rise of 57% in July-Sep; Hyderabad minimum at 7%: PropTiger\n",
      "* DLF likely to launch the first phase of Mumbai project in Q4FY25\n",
      "* Renting A Home In Mumbai For ONLY ₹2,000; How You Can Also Do It \n",
      "* Indoor workouts: 7 best exercises to do at home if you can’t go outside due to air pollution\n",
      "* Exercise tips: Popular ab workouts can be bad for you, replace them with push ups, squats, planks and more\n",
      "* Fatigue, loss of appetite, yellowing of skin could be symptoms of liver disease \n",
      "* Gingivitis symptoms and treatment: Best tips to keep gums healthy, save your smile\n",
      "* Diet tips to make bones strong: Fight osteoporosis with these nutrient-packed foods\n",
      "* Maharashtra Elections 2024: Nominations end but rebels, multiple candidates keep suspense going \n",
      "* India, China troops disengagement taking place in 'orderly' manner: Chinese Foreign Ministry\n",
      "* RBI, Centre executed secret mission for gold's ghar wapsi\n",
      "* King Charles, Queen Camilla take 'rejuvenation' break at this luxury wellness retreat in Bengaluru: Details\n",
      "\n",
      "*   DMart shares slide 23% in a month. Will bearish sentiment continue to weigh in?\n",
      "*   Rs 10,000 turns into Rs 67 crore! How Elcid made investors millionaires overnight\n",
      "*   MRF Share Price at Rs 1,22,576 per share on Tuesday\n",
      "*   Cipla, Voltas among 5 stocks with short buildup\n",
      "*   EFC secures SM REIT approval to raise up to Rs 500 crore\n",
      "*   Auto stocks: More cooldown on cards? Cooling is a part of long journey of structural change; 7 auto stocks with an upside potential of up to 38%\n",
      "*   Milestone! NSE crosses 20 crore client accounts in October\n",
      "\n",
      "I'm sorry, but I am unable to provide a response as there is no text provided. Please provide the required text and I will be more than happy to assist you.\n",
      "\n",
      "* Reliance Power shares surge 9% after reporting 20% YoY jump in Q2 PAT.\n",
      "* Analysts' views on Marico's 20% YoY rise in Q2 PAT.\n",
      "* NiftyShare Market Live\n",
      "* Baazar Style Retail IPO\n",
      "* HAL Share Price\n",
      "* HDB Financial Services IPO\n",
      "* Western Carriers IPO Allotment Status\n",
      "\n",
      "1. IndiGo Airlines has launched the BluChip loyalty program; all you need to know\n",
      "2. JTL Industries share price jumps 6% as it expands Raipur plant capacity\n",
      "3. Elon Musk buys secret property worth ₹300 crore for his 11 children\n",
      "4. India’s economy has done quite well on many counts\n",
      "\n",
      "* Jio Financial Services share price jumps 6% as it expands Raipur plant capacity\n",
      "* Procter & Gamble Q2 results: Net profit rises 1% to ₹221 crore; revenue flat\n",
      "* IndiGo Airlines has launched the BluChip loyalty program; all you need to know\n"
     ]
    }
   ],
   "source": [
    "print(summary)"
   ]
  },
  {
   "cell_type": "code",
   "execution_count": null,
   "metadata": {},
   "outputs": [],
   "source": []
  },
  {
   "cell_type": "code",
   "execution_count": null,
   "metadata": {},
   "outputs": [],
   "source": []
  },
  {
   "cell_type": "code",
   "execution_count": null,
   "metadata": {},
   "outputs": [],
   "source": []
  },
  {
   "cell_type": "code",
   "execution_count": null,
   "metadata": {},
   "outputs": [],
   "source": []
  },
  {
   "cell_type": "code",
   "execution_count": null,
   "metadata": {},
   "outputs": [],
   "source": []
  },
  {
   "cell_type": "code",
   "execution_count": null,
   "metadata": {},
   "outputs": [],
   "source": []
  },
  {
   "cell_type": "code",
   "execution_count": null,
   "metadata": {},
   "outputs": [],
   "source": []
  },
  {
   "cell_type": "code",
   "execution_count": null,
   "metadata": {},
   "outputs": [],
   "source": []
  }
 ],
 "metadata": {
  "kernelspec": {
   "display_name": "ml",
   "language": "python",
   "name": "python3"
  },
  "language_info": {
   "codemirror_mode": {
    "name": "ipython",
    "version": 3
   },
   "file_extension": ".py",
   "mimetype": "text/x-python",
   "name": "python",
   "nbconvert_exporter": "python",
   "pygments_lexer": "ipython3",
   "version": "3.12.4"
  }
 },
 "nbformat": 4,
 "nbformat_minor": 2
}
