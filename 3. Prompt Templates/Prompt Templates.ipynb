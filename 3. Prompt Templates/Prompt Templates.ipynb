{
 "cells": [
  {
   "cell_type": "markdown",
   "metadata": {},
   "source": [
    "## LLM Prompt Templates"
   ]
  },
  {
   "cell_type": "markdown",
   "metadata": {},
   "source": [
    "| Role       | Description                                                                                                                                                   |\n",
    "|------------|---------------------------------------------------------------------------------------------------------------------------------------------------------------|\n",
    "| system     | Used to tell the chat model how to behave and provide additional context. Not supported by all chat model providers.                                          |\n",
    "| user       | Represents input from a user interacting with the model, usually in the form of text or other interactive input.                                              |\n",
    "| assistant  | Represents a response from the model, which can include text or a request to invoke tools.                                                                    |\n",
    "| tool       | A message used to pass the results of a tool invocation back to the model after external data or processing has been retrieved. Used with chat models that support tool calling. |\n",
    "| function (legacy) | This is a legacy role, corresponding to OpenAI's legacy function-calling API. tool role should be used instead."
   ]
  },
  {
   "cell_type": "markdown",
   "metadata": {},
   "source": [
    "### Langchain Message Types"
   ]
  },
  {
   "cell_type": "markdown",
   "metadata": {},
   "source": [
    "|    Message Type        |    Corresponding Role       |    Description                                                                                                          |\n",
    "|------------------------|-----------------------------|--------------------------------------------------------------------------------------------------------------------------|\n",
    "|    SystemMessage       |    system                   |    Corresponds to the system role.                                                                                       |\n",
    "|    HumanMessage        |    user                     |    Corresponds to the user role.                                                                                         |\n",
    "|    AIMessage           |    assistant                |    Corresponds to the assistant role.                                                                                    |\n",
    "|    AIMessageChunk      |    assistant                |    Corresponds to the assistant role, used for streaming responses.                                                      |\n",
    "|    ToolMessage         |    tool                     |    Corresponds to the tool role.                                                                                         |"
   ]
  },
  {
   "cell_type": "markdown",
   "metadata": {},
   "source": []
  },
  {
   "cell_type": "markdown",
   "metadata": {},
   "source": []
  },
  {
   "cell_type": "code",
   "execution_count": 1,
   "metadata": {},
   "outputs": [
    {
     "data": {
      "text/plain": [
       "True"
      ]
     },
     "execution_count": 1,
     "metadata": {},
     "output_type": "execute_result"
    }
   ],
   "source": [
    "from dotenv import load_dotenv\n",
    "\n",
    "load_dotenv('./../.env')"
   ]
  },
  {
   "cell_type": "code",
   "execution_count": 17,
   "metadata": {},
   "outputs": [],
   "source": [
    "from langchain_ollama import ChatOllama\n",
    "\n",
    "from langchain_core.messages import SystemMessage, HumanMessage, AIMessage \n"
   ]
  },
  {
   "cell_type": "code",
   "execution_count": 12,
   "metadata": {},
   "outputs": [
    {
     "name": "stdout",
     "output_type": "stream",
     "text": [
      "Here are five key points about the Earth:\n",
      "\n",
      "1. **Size and Composition**: The Earth is the third planet from the Sun in our solar system, with a diameter of approximately 12,756 kilometers (7,918 miles). It's composed primarily of iron, oxygen, silicon, magnesium, and aluminum, with small amounts of other elements like calcium, sodium, and potassium.\n",
      "\n",
      "2. **Atmosphere**: The Earth's atmosphere is made up of 78% nitrogen, 21% oxygen, and 1% other gases like argon, carbon dioxide, and water vapor. This atmosphere protects life on the planet by shielding it from harmful solar radiation and providing a stable climate for weather patterns.\n",
      "\n",
      "3. **Hydrosphere**: The Earth's hydrosphere refers to the world's oceans, lakes, rivers, and groundwater. These bodies of water cover about 71% of the planet's surface and play a crucial role in regulating the Earth's climate, supporting life, and influencing weather patterns.\n",
      "\n",
      "4. **Geology**: The Earth's geology is characterized by vast mountain ranges, deep oceans, and extensive plate tectonics. The Earth's crust is broken into several large plates that float on the semi-fluid mantle beneath them. These plates are in constant motion, causing earthquakes, volcanic eruptions, and the creation of new landforms.\n",
      "\n",
      "5. **Climate and Life**: The Earth's climate is dynamic and constantly changing due to factors like solar radiation, ocean currents, and atmospheric circulation patterns. This has led to the evolution of diverse ecosystems and life forms on our planet, including plants, animals, fungi, and microorganisms that have adapted to various environments and conditions.\n"
     ]
    }
   ],
   "source": [
    "base_url = \"http://localhost:11434\"\n",
    "\n",
    "model = 'llama3.2:1b'\n",
    "llm = ChatOllama(base_url=base_url, model = model)\n",
    "\n",
    "response = llm.invoke('tell me about the earth in 3 points')\n",
    "print(response.content)"
   ]
  },
  {
   "cell_type": "code",
   "execution_count": 13,
   "metadata": {},
   "outputs": [
    {
     "name": "stdout",
     "output_type": "stream",
     "text": [
      "The Earth, my dear fellow, is a most fascinating subject. Here are five points that illustrate its grandeur and complexity:\n",
      "\n",
      "1. **Scale and Proportion**: The Earth is an enormous sphere, with a diameter of approximately 12,742 kilometers (7,918 miles). It's hard to comprehend the sheer magnitude of this planet, don't you think? And yet, it's precisely this scale that makes our human endeavors seem so insignificant.\n",
      "\n",
      "2. **Composition and Layers**: Our planet is composed of several distinct layers: the crust, mantle, outer core, and inner core. Each layer has its unique properties and characteristics. The crust, for instance, is broken into tectonic plates that shift and collide, creating mountains and volcanoes. The mantle, beneath the crust, is a hot, viscous fluid that can flow like a molasses-like substance.\n",
      "\n",
      "3. **Atmosphere and Climate**: The Earth's atmosphere is a delicate balance of gases, including oxygen, nitrogen, and carbon dioxide. The climate varies greatly from one region to another, influenced by factors such as temperature, humidity, and solar radiation. It's almost as if the planet has its own intricate orchestra, with different instruments playing their part in shaping our weather.\n",
      "\n",
      "4. **Water Cycle**: Water is a vital component of life on Earth, and it plays a crucial role in the planet's hydrological cycle. The water cycle involves the continuous process of evaporation, condensation, precipitation, and infiltration. It's a complex system that regulates the Earth's temperature, influencing everything from weather patterns to ecosystems.\n",
      "\n",
      "5. **Geological Time Scale**: The Earth's geological history stretches back billions of years, with its formation dating back to around 4.5 billion years ago. From the earliest days of its existence, the planet has undergone numerous collisions, volcanic eruptions, and tectonic activity. This geological time scale is a testament to the Earth's dynamic nature and its ongoing evolution.\n",
      "\n",
      "Now, my dear fellow, I must admit that these points only scratch the surface of this wondrous planet we call home. The Earth is a complex, intriguing system, full of mysteries waiting to be unraveled. But, as I always say, \"The game's afoot!\"\n"
     ]
    }
   ],
   "source": [
    "model = 'sherlock'\n",
    "llm = ChatOllama(base_url=base_url, model = model)\n",
    "\n",
    "response = llm.invoke('tell me about the earth in 3 points')\n",
    "print(response.content)"
   ]
  },
  {
   "cell_type": "code",
   "execution_count": 14,
   "metadata": {},
   "outputs": [
    {
     "name": "stdout",
     "output_type": "stream",
     "text": [
      "Fine. If I must. Here are five points about the Earth, but please, don't expect me to explain them in any way that's not too complex or convoluted.\n",
      "\n",
      "1. The Earth is a terrestrial planet with a solid surface, primarily composed of rock and metal. It has a magnetosphere, which protects it from solar winds and charged particles.\n",
      "2. The Earth's atmosphere is mostly nitrogen and oxygen, with trace amounts of other gases. This atmosphere regulates the temperature, supports life, and prevents the planet from becoming too hostile to human habitation.\n",
      "3. The Earth's rotation is tidally locked, meaning it always shows the same face to the Sun. This causes day and night to be approximately 24 hours long, which is why we have our seasons.\n",
      "4. The Earth's oceans cover about 71% of its surface and play a crucial role in regulating the planet's climate, weather patterns, and marine life. I've spent countless hours studying oceanography and appreciate the intricacies of it all.\n",
      "5. The Earth has a geologic time scale, which measures the passage of time on our planet. It's divided into eons, eras, periods, and epochs, each with its own unique characteristics and geological features. Now, if you'll excuse me, I have more important things to attend to.\n"
     ]
    }
   ],
   "source": [
    "model = 'sheldon'\n",
    "llm = ChatOllama(base_url=base_url, model = model)\n",
    "\n",
    "response = llm.invoke('tell me about the earth in 3 points')\n",
    "print(response.content)"
   ]
  },
  {
   "cell_type": "code",
   "execution_count": 18,
   "metadata": {},
   "outputs": [
    {
     "name": "stdout",
     "output_type": "stream",
     "text": [
      "I'd be happy to tell you about our amazing planet, Earth.\n",
      "\n",
      "Here are five cool facts about our home:\n",
      "\n",
      "1. **Earth is our only home**: We're all together in this one special place called Earth.\n",
      "2. **It's round and blue**: Our Earth is a big ball with oceans, land, and lots of different colors like blue.\n",
      "3. **We have air to breathe**: The atmosphere around us keeps us alive and healthy by providing oxygen for our bodies.\n",
      "4. **Earth has water everywhere**: We have lakes, rivers, and oceans that fill up most of the space on our planet.\n",
      "5. **We're not alone**: Earth is just one of seven planets in our solar system, and it's part of a bigger group called the Milky Way galaxy!\n"
     ]
    }
   ],
   "source": [
    "# New Role Assumption for LLM\n",
    "model = 'llama3.2:1b'\n",
    "llm = ChatOllama(base_url=base_url, model = model)\n",
    "\n",
    "system = SystemMessage(\"You are elementary school teacher. You answer in short and brief sentences.\")\n",
    "question = HumanMessage(\"tell me about the earth in 3 points\")\n",
    "\n",
    "messages = [system, question]\n",
    "\n",
    "response = llm.invoke(messages)\n",
    "print(response.content)"
   ]
  },
  {
   "cell_type": "markdown",
   "metadata": {},
   "source": [
    "### Langchain Prompt Templates\n",
    "\n",
    "|    Prompt Template Class             |    Description                                                                                                     |\n",
    "|--------------------------------------|---------------------------------------------------------------------------------------------------------------------|\n",
    "|    SystemMessagePromptTemplate       |    Template for generating system messages that provide model context or instructions.                            |\n",
    "|    HumanMessagePromptTemplate        |    Template for generating user (human) messages, representing user input or questions.                          |\n",
    "|    AIMessagePromptTemplate           |    Template for generating AI messages, representing responses from the assistant.                                |\n",
    "|    PromptTemplate                    |    Basic template class for creating prompts with static text and variable placeholders.                          |\n",
    "|    ChatPromptTemplate                |    Template for creating prompts with a sequence of message types (e.g., system, user, assistant) in a chat format. |\n",
    "|    ChatPromptTemplateList            |    Template for managing a list of multiple chat prompt templates in a structured chat workflow.                   |"
   ]
  },
  {
   "cell_type": "code",
   "execution_count": 20,
   "metadata": {},
   "outputs": [],
   "source": [
    "from langchain_core.prompts import (\n",
    "                                    SystemMessagePromptTemplate, \n",
    "                                    HumanMessagePromptTemplate, \n",
    "                                    PromptTemplate, \n",
    "                                    ChatPromptTemplate)"
   ]
  },
  {
   "cell_type": "code",
   "execution_count": 28,
   "metadata": {},
   "outputs": [
    {
     "name": "stdout",
     "output_type": "stream",
     "text": [
      "Here are five key points about the Sun:\n",
      "\n",
      "1. **Size and Scale**: The Sun is the largest object in our solar system, making up about 99.8% of its mass. It has a diameter of approximately 1,392,684 kilometers (865,374 miles), which is about 109 times the diameter of Earth.\n",
      "\n",
      "2. **Energy Production**: The Sun generates its energy through nuclear reactions that occur in its core. These reactions involve the fusion of hydrogen atoms into helium, releasing an enormous amount of energy in the process. This energy is what makes life on Earth possible.\n",
      "\n",
      "3. **Composition and Temperature**: The Sun is primarily composed of hydrogen (about 75%) and helium (about 25%). Its surface temperature is about 5,500 degrees Celsius (9,932 degrees Fahrenheit), while its core temperature reaches around 15,000,000 degrees Celsius (27,000,000 degrees Fahrenheit).\n",
      "\n",
      "4. **Life Cycle**: The Sun has a lifespan of approximately 10 billion years, and it will exhaust all its fuel and become a red giant in about 5 billion years. After that, it will expand to become the second largest object in the universe, engulfing the inner planets, including Mercury and Venus.\n",
      "\n",
      "5. **Effects on Earth**: The Sun's energy is essential for life on Earth, supporting photosynthesis in plants and providing warmth and light for many organisms. Its solar flares and coronal mass ejections can also have significant effects on our planet's magnetic field, causing spectacular aurora displays and potentially disrupting communication and navigation systems.\n"
     ]
    }
   ],
   "source": [
    "model = 'llama3.2:1b'\n",
    "llm = ChatOllama(base_url=base_url, model = model)\n",
    "\n",
    "template = PromptTemplate.from_template(\"tell me about the earth in 3 points\")\n",
    "template\n",
    "\n",
    "template = PromptTemplate.from_template(\"tell me about the {topic} in {points} points\")\n",
    "template\n",
    "template.invoke({'topic': 'sun', 'points': 3})\n",
    "\n",
    "question = template.invoke({'topic': 'sun', 'points': 3})\n",
    "\n",
    "# Must be a PromptValue, str, or list of BaseMessages.\n",
    "# messages = [system, question] this can not be done\n",
    "\n",
    "response = llm.invoke(question)\n",
    "print(response.content)"
   ]
  },
  {
   "cell_type": "code",
   "execution_count": 36,
   "metadata": {},
   "outputs": [
    {
     "name": "stdout",
     "output_type": "stream",
     "text": [
      "Here are three key points about the Sun:\n",
      "\n",
      "1. **Size and Composition**: The Sun is the largest object in our solar system, with a diameter of approximately 1,392,684 kilometers (865,374 miles). It is a G-type main-sequence star, meaning it is a medium-sized star that generates energy through nuclear fusion of hydrogen into helium in its core. The Sun's mass is about 330,000 times that of Earth.\n",
      "\n",
      "2. **Energy Production and Life Support**: The Sun's energy is what makes life on Earth possible. It heats the planet's surface, driving atmospheric circulation and weather patterns. Additionally, the Sun's ultraviolet (UV) radiation is essential for plant growth and development. It also provides light for photosynthesis, which is the process by which plants convert sunlight into energy.\n",
      "\n",
      "3. **Longevity and Impact on Earth**: The Sun is expected to live for about 5 billion years, although it has already burned through about half of its hydrogen fuel in just 4.6 billion years. At this point, the Sun will expand significantly, becoming a red giant and potentially engulfing the inner planets, including Mercury and Venus. This event, known as the \"heat death\" of the universe, is thought to occur around 5 billion years from now.\n"
     ]
    }
   ],
   "source": [
    "# chatprompt template\n",
    "\n",
    "template = ChatPromptTemplate.from_template(\"tell me about the {topic} in {points} points\")\n",
    "template\n",
    "question = template.invoke({'topic': 'sun', 'points': 3})\n",
    "\n",
    "response = llm.invoke(question)\n",
    "print(response.content)"
   ]
  },
  {
   "cell_type": "code",
   "execution_count": 43,
   "metadata": {},
   "outputs": [
    {
     "name": "stdout",
     "output_type": "stream",
     "text": [
      "I'd be happy to tell you about the sun.\n",
      "\n",
      "Here are three cool facts about the sun:\n",
      "\n",
      "1. The sun is a star, which means it's a big ball of hot, glowing gas.\n",
      "2. It's so bright that it can light up our whole planet and everything on it.\n",
      "3. The sun is really, really far away from us - about 93 million miles (150 million kilometers) away!\n"
     ]
    }
   ],
   "source": [
    "# Combine system and human messages\n",
    "template = ChatPromptTemplate(\n",
    "    [\n",
    "        system,\n",
    "        HumanMessage(\"Tell me about the {topic} in {points} points\")\n",
    "    ]\n",
    ")\n",
    "\n",
    "template\n",
    "\n",
    "template = ChatPromptTemplate(\n",
    "    [\n",
    "        system,\n",
    "        HumanMessagePromptTemplate.from_template(\"Tell me about the {topic} in {points} points\")\n",
    "    ]\n",
    ")\n",
    "\n",
    "template\n",
    "question = template.invoke({'topic': 'sun', 'points': 3})\n",
    "\n",
    "response = llm.invoke(question)\n",
    "print(response.content)"
   ]
  },
  {
   "cell_type": "markdown",
   "metadata": {},
   "source": [
    "### Putting Everything Together\n",
    "\n",
    "- SystemMessage, HumanMessage : Can't be invoked\n",
    "- SystemMessagePromptTemplate, HumanMessagePromptTemplate : Can be invoked if needed"
   ]
  },
  {
   "cell_type": "code",
   "execution_count": 53,
   "metadata": {},
   "outputs": [
    {
     "name": "stdout",
     "output_type": "stream",
     "text": [
      "Here are three key points about the Sun:\n",
      "\n",
      "1. **Size and Mass**: The Sun is the fifth-brightest object in the sky, with a diameter of approximately 1.4 million kilometers (870,000 miles). It has a mass of around 330,000 times that of Earth.\n",
      "\n",
      "2. **Energy Generation**: The Sun generates about 3.8 x 10^26 watts of energy per second through nuclear reactions in its core. This energy is released in the form of light and heat, making life on Earth possible.\n",
      "\n",
      "3. **Life Support**: The Sun's energy supports life on Earth by providing warmth, light, and the necessary radiation to facilitate photosynthesis, which produces oxygen for respiration.\n"
     ]
    }
   ],
   "source": [
    "model = 'llama3.2:1b'\n",
    "llm = ChatOllama(base_url=base_url, model = model)\n",
    "\n",
    "system = SystemMessagePromptTemplate.from_template(\"You are {school} teacher. You answer in short and brief sentences\")\n",
    "question = HumanMessagePromptTemplate.from_template(\"tell me about the {topic} in {points} points\")\n",
    "\n",
    "template = ChatPromptTemplate([system, question])\n",
    "\n",
    "template\n",
    "\n",
    "template.invoke({'school': 'elementary', 'topic': 'sun', 'points': 3})\n",
    "\n",
    "question = template.invoke({'school': 'Ph.D', 'topic': 'sun', 'points': 3})\n",
    "\n",
    "response = llm.invoke(question)\n",
    "print(response.content)"
   ]
  },
  {
   "cell_type": "code",
   "execution_count": null,
   "metadata": {},
   "outputs": [],
   "source": []
  },
  {
   "cell_type": "code",
   "execution_count": null,
   "metadata": {},
   "outputs": [],
   "source": []
  }
 ],
 "metadata": {
  "kernelspec": {
   "display_name": "ml",
   "language": "python",
   "name": "python3"
  },
  "language_info": {
   "codemirror_mode": {
    "name": "ipython",
    "version": 3
   },
   "file_extension": ".py",
   "mimetype": "text/x-python",
   "name": "python",
   "nbconvert_exporter": "python",
   "pygments_lexer": "ipython3",
   "version": "3.12.4"
  }
 },
 "nbformat": 4,
 "nbformat_minor": 2
}
