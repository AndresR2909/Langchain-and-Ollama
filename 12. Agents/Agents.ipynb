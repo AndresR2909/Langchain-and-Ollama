{
 "cells": [
  {
   "cell_type": "markdown",
   "metadata": {},
   "source": [
    "## Agents\n",
    "### Your Personal Health Expert "
   ]
  },
  {
   "cell_type": "markdown",
   "metadata": {},
   "source": [
    "- Agents are systems that use an LLM as a reasoning engine to determine which actions to take and what the inputs to those actions should be.\n",
    "- The results of those actions can then be fed back into the agent and it determines whether more actions are needed, or whether it is okay to finish."
   ]
  },
  {
   "cell_type": "code",
   "execution_count": 1,
   "metadata": {},
   "outputs": [
    {
     "data": {
      "text/plain": [
       "True"
      ]
     },
     "execution_count": 1,
     "metadata": {},
     "output_type": "execute_result"
    }
   ],
   "source": [
    "from dotenv import load_dotenv\n",
    "import os\n",
    "\n",
    "os.environ['KMP_DUPLICATE_LIB_OK'] = 'True'\n",
    "\n",
    "load_dotenv()"
   ]
  },
  {
   "cell_type": "code",
   "execution_count": 2,
   "metadata": {},
   "outputs": [
    {
     "data": {
      "text/plain": [
       "AIMessage(content='Hello! How can I assist you today?', additional_kwargs={}, response_metadata={'model': 'llama3.2:3b', 'created_at': '2024-10-31T17:38:24.1435259Z', 'message': {'role': 'assistant', 'content': ''}, 'done_reason': 'stop', 'done': True, 'total_duration': 412465600, 'load_duration': 16415300, 'prompt_eval_count': 26, 'prompt_eval_duration': 243044000, 'eval_count': 10, 'eval_duration': 150506000}, id='run-c06ecfa6-30b6-4449-9b1a-af0bdc4288c7-0', usage_metadata={'input_tokens': 26, 'output_tokens': 10, 'total_tokens': 36})"
      ]
     },
     "execution_count": 2,
     "metadata": {},
     "output_type": "execute_result"
    }
   ],
   "source": [
    "from langchain_ollama import ChatOllama \n",
    "from langchain_core.output_parsers import StrOutputParser\n",
    "from langchain_core.runnables import RunnablePassthrough \n",
    "from langchain_core.prompts import ChatPromptTemplate\n",
    "\n",
    "from langchain_core.tools import tool\n",
    "\n",
    "\n",
    "\n",
    "llm = ChatOllama(model='llama3.2:3b', base_url='http://localhost:11434')\n",
    "llm.invoke('hi')"
   ]
  },
  {
   "cell_type": "markdown",
   "metadata": {},
   "source": [
    "### Define Tools\n",
    "#### 1. Tavily"
   ]
  },
  {
   "cell_type": "code",
   "execution_count": 3,
   "metadata": {},
   "outputs": [],
   "source": [
    "from langchain_community.tools import TavilySearchResults\n",
    "\n",
    "@tool\n",
    "def search(query: str) -> str:\n",
    "    \"\"\"Search Tavily for current and latest news and updates.\n",
    "        For example, stock market news, weather updates, news etc.\n",
    "    Args:\n",
    "        query: The search query.\n",
    "    \"\"\"\n",
    "    search = TavilySearchResults(\n",
    "        max_results=5,\n",
    "        search_depth=\"advanced\",\n",
    "        include_answer=True,\n",
    "        include_raw_content=True\n",
    "    )\n",
    "    response = search.invoke(query)\n",
    "    return response"
   ]
  },
  {
   "cell_type": "code",
   "execution_count": 4,
   "metadata": {},
   "outputs": [
    {
     "data": {
      "text/plain": [
       "[{'url': 'https://www.cnbc.com/stocks/',\n",
       "  'content': 'Get the latest stock market news, analysis and data from CNBC.com. Find out which stocks are rising or falling, what analysts are saying, and how to invest in the current market environment.'},\n",
       " {'url': 'https://finance.yahoo.com/news/live/stock-market-today-nasdaq-sp-500-sink-as-meta-microsoft-revive-big-techs-ai-spending-worries-133028993.html',\n",
       "  'content': \"Stock market today: Nasdaq, S&P 500 sink as Meta, Microsoft revive Big Tech's AI spending worries Stock market today: Nasdaq, S&P 500 sink as Meta, Microsoft revive Big Tech's AI spending worries The Nasdaq led a tumble in US stocks on Thursday after Meta (META) and Microsoft (MSFT) earnings sparked worries about prospects for Big Techs amid rising artificial intelligence costs. Meta raised the lower end of its guidance range for full-year spending from $37 billion to $38 billion, and CFO Susan Li said the company expects “significant capital expenditure growth in 2025.” Microsoft indicated in its fiscal first quarter earnings reports that spending on general artificial intelligence infrastructure (e.g., AI chips) weighed on gross margins, which it expects to continue in the current period.\"},\n",
       " {'url': 'https://finance.yahoo.com/topic/stock-market-news',\n",
       "  'content': 'Get the latest news on the stock market and events that move stocks, with in-depth analyses to help you make investing and trading decisions. See the current performance of major indexes, sectors, and commodities, and read expert opinions on market trends and outlooks.'},\n",
       " {'url': 'https://finance.yahoo.com/',\n",
       "  'content': \"Associated Press Finance\\nEuropean stocks waver as economic picture darkens\\nBloomberg\\nTreasuries yields rise after slide in Europe bonds\\nBloomberg\\nNvidia delays China launch of AI chip tailored to US curbs\\nReuters\\nCoinbase stock rallies, Virgin Galactic slides: Top Stocks\\nYahoo Finance Video\\nFoot Locker's missteps that led to a downgrade\\nYahoo Finance Video\\nNvidia to see impressive growth: Analyst\\nYahoo Finance\\nCrypto's next steps after the humbling of Binance\\nYahoo Finance\\nTips to avoid credit card fraud, scams this holiday season\\nYahoo Personal Finance\\nDow Jones Futures Rise: Nvidia Rival Leads 4 Stocks In Buy Zones; Tesla Move Signals Elon Musk Fallout\\n Is the Stock Market Open or Closed on Thanksgiving?\\nThe New York Stock Exchange and the Nasdaq Stock Market will be closed on Thursday in observance of Thanksgiving, as will the U.S. bond market.\\n Premium analysis from Morningstar & Argus\\nAXA SA: AXA’s Tilt to Commercial Insurance and Technical Income Shows Nascent Positive Signs\\nCRH plc: CRH's $1.1 Billion Divestment Reinforces Its Exposure to Fast-Growing End Markets\\nJohnson Controls International plc: Retailers brace for a penny-pinching Black Friday\\nConcerns are growing that a spending slowdown could temper sales on the day after Thanksgiving and throughout the holidays.\\n Walmart Unveils Major Change Ahead of Black Friday\\nAct fast – Why the best deals are vanishing before Black Friday!\\n\"},\n",
       " {'url': 'https://www.cnn.com/business/live-news/stock-market-today-fed-rate-hike/index.html',\n",
       "  'content': 'Stocks closely tied to economic outlook such as Boeing and the financials surged on the news. Tech stocks also grew. Amazon and Tesla both gained more than 5% on Wednesday. The Dow edged up 304'}]"
      ]
     },
     "execution_count": 4,
     "metadata": {},
     "output_type": "execute_result"
    }
   ],
   "source": [
    "# tavily_search(\"stock market news\")\n",
    "search.invoke(\"stock market news\")"
   ]
  },
  {
   "cell_type": "markdown",
   "metadata": {},
   "source": [
    "#### 2. Health Supplements Retriever"
   ]
  },
  {
   "cell_type": "code",
   "execution_count": 5,
   "metadata": {},
   "outputs": [],
   "source": [
    "from langchain_ollama import OllamaEmbeddings\n",
    "\n",
    "import faiss\n",
    "from langchain_community.vectorstores import FAISS \n",
    "from langchain_community.docstore.in_memory import InMemoryDocstore\n",
    "\n",
    "embeddings = OllamaEmbeddings(model='nomic-embed-text', base_url='http://localhost:11434')\n",
    "\n",
    "db_name = r\"D:\\NLP\\LLM\\Langchain and Ollama\\09. Vector Stores and Retrievals\\health_supplements\"\n",
    "vector_store = FAISS.load_local(db_name, embeddings, allow_dangerous_deserialization=True)\n",
    "\n",
    "retriever = vector_store.as_retriever(search_type = 'similarity', \n",
    "                                      search_kwargs = {'k': 3})"
   ]
  },
  {
   "cell_type": "code",
   "execution_count": 6,
   "metadata": {},
   "outputs": [],
   "source": [
    "@tool\n",
    "def health_supplements(query: str) -> str:\n",
    "    \"\"\"Search for information about Health Supplements.\n",
    "    For any questions about Health and Gym Supplements, you must use this tool!,\n",
    "\n",
    "    Args:\n",
    "        query: The search query.\n",
    "    \"\"\"\n",
    "    response = retriever.invoke(query)\n",
    "    return response"
   ]
  },
  {
   "cell_type": "code",
   "execution_count": 7,
   "metadata": {},
   "outputs": [
    {
     "data": {
      "text/plain": [
       "[Document(metadata={'source': 'rag-dataset\\\\gym supplements\\\\1. Analysis of Actual Fitness Supplement.pdf', 'file_path': 'rag-dataset\\\\gym supplements\\\\1. Analysis of Actual Fitness Supplement.pdf', 'page': 0, 'total_pages': 15, 'format': 'PDF 1.7', 'title': '', 'author': '', 'subject': '', 'keywords': '', 'creator': '', 'producer': 'iLovePDF', 'creationDate': '', 'modDate': 'D:20241021113850Z', 'trapped': ''}, page_content='acids than traditional protein sources. Its numerous benefits have made it a popular choice\\nfor snacks and drinks among consumers [3]. Another widely embraced supplement is\\ncaffeine, which is found in many sports and food supplements. Caffeine reduces perceived\\neffort, minimizes fatigue and pain, and proves to be effective for endurance and high-\\nintensity activities, which is the choice of consumers [4].\\nCreatine monohydrate is another well-known supplement used to gain muscle mass\\nand support performance and recovery. It is known not to increase fat mass and remains\\neffective even when taken in recommended doses [5]. Despite its popularity in the fitness\\nFoods 2024, 13, 1424. https://doi.org/10.3390/foods13091424\\nhttps://www.mdpi.com/journal/foods'),\n",
       " Document(metadata={'source': 'rag-dataset\\\\gym supplements\\\\1. Analysis of Actual Fitness Supplement.pdf', 'file_path': 'rag-dataset\\\\gym supplements\\\\1. Analysis of Actual Fitness Supplement.pdf', 'page': 1, 'total_pages': 15, 'format': 'PDF 1.7', 'title': '', 'author': '', 'subject': '', 'keywords': '', 'creator': '', 'producer': 'iLovePDF', 'creationDate': '', 'modDate': 'D:20241021113850Z', 'trapped': ''}, page_content='Foods 2024, 13, 1424\\n2 of 21\\nand sports industry, evidence suggests that creatine can benefit not only athletes but also\\nthe elderly and the general population [6]. Branched-chain amino acids (BCAA) also offer\\na plethora of benefits for consumers. As explained by Sanz et al. [7], BCAAs are stored\\ndirectly in muscles and serve as the raw materials needed to build new muscle. This\\ncontributes to the overall process of strengthening muscles and alleviating post-workout\\nsoreness. Consumers often integrate these supplements into their routines with the aim of\\noptimizing the outcomes they wish to achieve and support overall well-being [1].\\nThe sports supplement industry makes for an impressive market share of nearly\\n$12 billion in the health/wellness portfolio and is projected to be worth $24.4 billion\\nby 2025. In a study by Burke [4], which investigated 20 published studies about the\\nprevalence, methods, and reasons for supplement consumption, it is evident from the'),\n",
       " Document(metadata={'source': 'rag-dataset\\\\gym supplements\\\\2. High Prevalence of Supplement Intake.pdf', 'file_path': 'rag-dataset\\\\gym supplements\\\\2. High Prevalence of Supplement Intake.pdf', 'page': 6, 'total_pages': 11, 'format': 'PDF 1.5', 'title': '', 'author': '', 'subject': '', 'keywords': '', 'creator': '', 'producer': 'iLovePDF', 'creationDate': '', 'modDate': 'D:20241021113904Z', 'trapped': ''}, page_content='3.4. Reasons for Supplement Intake\\nThe three most important reasons to take supplements were muscle building (49%), improving\\nhealth (47%), and improving sport-speciﬁc performance (28%) (Figure 3).\\nNutrients 2020, 12, x FOR PEER REVIEW \\n8 of 14 \\n \\nFigure 3. Reasons for supplement use. g: Indicates significant gender effect (p < 0.05). Multiple \\nanswers were possible. \\n3.5. Information Sources \\nRegarding used information sources, the top three were the coach/trainer (28%), the website of \\nthe supplement seller (26%), and training peers (24%) (Figure 4). On average 2.2 information sources \\nwere indicated by the fitness center users. The question regarding information about risks and side \\neffects was answered by 315 subjects. Only 117 (37%) of these had received information regarding \\npotential risks and side effects of the consumed supplements. The three leading information sources \\nfor risks and side effects were the internet, physicians, and coaches/trainers. When subjects answered')]"
      ]
     },
     "execution_count": 7,
     "metadata": {},
     "output_type": "execute_result"
    }
   ],
   "source": [
    "question = \"What is the best supplement for muscle gain?\"\n",
    "health_supplements.invoke(question)"
   ]
  },
  {
   "cell_type": "markdown",
   "metadata": {},
   "source": [
    "### Agent Creation"
   ]
  },
  {
   "cell_type": "markdown",
   "metadata": {},
   "source": [
    " - The agent is responsible for taking in input and deciding what actions to take\n",
    " - the Agent does not execute those actions - that is done by the AgentExecutor\n",
    " - `create_tool_calling_agent` will call `.bind_tools` for us under the hood."
   ]
  },
  {
   "cell_type": "code",
   "execution_count": 8,
   "metadata": {},
   "outputs": [
    {
     "data": {
      "text/plain": [
       "[SystemMessagePromptTemplate(prompt=PromptTemplate(input_variables=[], input_types={}, partial_variables={}, template='You are a helpful assistant'), additional_kwargs={}),\n",
       " MessagesPlaceholder(variable_name='chat_history', optional=True),\n",
       " HumanMessagePromptTemplate(prompt=PromptTemplate(input_variables=['input'], input_types={}, partial_variables={}, template='{input}'), additional_kwargs={}),\n",
       " MessagesPlaceholder(variable_name='agent_scratchpad')]"
      ]
     },
     "execution_count": 8,
     "metadata": {},
     "output_type": "execute_result"
    }
   ],
   "source": [
    "from langchain import hub\n",
    "from langchain.agents import create_tool_calling_agent\n",
    "from langchain.agents import AgentExecutor\n",
    "\n",
    "# Get the prompt to use - you can modify this!\n",
    "prompt = hub.pull(\"hwchase17/openai-functions-agent\")\n",
    "prompt.messages"
   ]
  },
  {
   "cell_type": "code",
   "execution_count": 11,
   "metadata": {},
   "outputs": [],
   "source": [
    "tools = [search, health_supplements]\n",
    "agent = create_tool_calling_agent(llm, tools, prompt)\n",
    "\n",
    "agent_executor = AgentExecutor(agent=agent, tools=tools, verbose=True)"
   ]
  },
  {
   "cell_type": "code",
   "execution_count": 12,
   "metadata": {},
   "outputs": [
    {
     "name": "stdout",
     "output_type": "stream",
     "text": [
      "\n",
      "\n",
      "\u001b[1m> Entering new AgentExecutor chain...\u001b[0m\n",
      "\u001b[32;1m\u001b[1;3m\n",
      "Invoking: `health_supplements` with `{'query': 'best supplements for muscle gain'}`\n",
      "\n",
      "\n",
      "\u001b[0m\u001b[33;1m\u001b[1;3m[Document(metadata={'source': 'rag-dataset\\\\gym supplements\\\\1. Analysis of Actual Fitness Supplement.pdf', 'file_path': 'rag-dataset\\\\gym supplements\\\\1. Analysis of Actual Fitness Supplement.pdf', 'page': 1, 'total_pages': 15, 'format': 'PDF 1.7', 'title': '', 'author': '', 'subject': '', 'keywords': '', 'creator': '', 'producer': 'iLovePDF', 'creationDate': '', 'modDate': 'D:20241021113850Z', 'trapped': ''}, page_content='Foods 2024, 13, 1424\\n2 of 21\\nand sports industry, evidence suggests that creatine can benefit not only athletes but also\\nthe elderly and the general population [6]. Branched-chain amino acids (BCAA) also offer\\na plethora of benefits for consumers. As explained by Sanz et al. [7], BCAAs are stored\\ndirectly in muscles and serve as the raw materials needed to build new muscle. This\\ncontributes to the overall process of strengthening muscles and alleviating post-workout\\nsoreness. Consumers often integrate these supplements into their routines with the aim of\\noptimizing the outcomes they wish to achieve and support overall well-being [1].\\nThe sports supplement industry makes for an impressive market share of nearly\\n$12 billion in the health/wellness portfolio and is projected to be worth $24.4 billion\\nby 2025. In a study by Burke [4], which investigated 20 published studies about the\\nprevalence, methods, and reasons for supplement consumption, it is evident from the'), Document(metadata={'source': 'rag-dataset\\\\gym supplements\\\\1. Analysis of Actual Fitness Supplement.pdf', 'file_path': 'rag-dataset\\\\gym supplements\\\\1. Analysis of Actual Fitness Supplement.pdf', 'page': 0, 'total_pages': 15, 'format': 'PDF 1.7', 'title': '', 'author': '', 'subject': '', 'keywords': '', 'creator': '', 'producer': 'iLovePDF', 'creationDate': '', 'modDate': 'D:20241021113850Z', 'trapped': ''}, page_content='acids than traditional protein sources. Its numerous benefits have made it a popular choice\\nfor snacks and drinks among consumers [3]. Another widely embraced supplement is\\ncaffeine, which is found in many sports and food supplements. Caffeine reduces perceived\\neffort, minimizes fatigue and pain, and proves to be effective for endurance and high-\\nintensity activities, which is the choice of consumers [4].\\nCreatine monohydrate is another well-known supplement used to gain muscle mass\\nand support performance and recovery. It is known not to increase fat mass and remains\\neffective even when taken in recommended doses [5]. Despite its popularity in the fitness\\nFoods 2024, 13, 1424. https://doi.org/10.3390/foods13091424\\nhttps://www.mdpi.com/journal/foods'), Document(metadata={'source': 'rag-dataset\\\\health supplements\\\\3.health_supplements_side_effects.pdf', 'file_path': 'rag-dataset\\\\health supplements\\\\3.health_supplements_side_effects.pdf', 'page': 5, 'total_pages': 11, 'format': 'PDF 1.5', 'title': '', 'author': '', 'subject': '', 'keywords': '', 'creator': '', 'producer': 'iLovePDF', 'creationDate': '', 'modDate': 'D:20241021143742Z', 'trapped': ''}, page_content='women consuming isoflavone supplements (59) and, given the clear evidence of \\nestrogenicity, there is a likelihood of increased risk of estrogen sensitive cancers in \\nconsumers of these products.\\nWEIGHT-LOSS, SPORTS, AND BODYBUILDING SUPPLEMENTS\\nAs more and more of the world population becomes overweight and obese, there is a huge \\nmarket for weight-loss products, including dietary supplements. Among military service \\nmembers, athletes and bodybuilders it is also common to ingest dietary sports supplements \\nintended to burn fat and increase performance, muscle mass or strength. As examples, 53% \\nof active-duty US Army soldiers report using at least one dietary supplement per week (60), \\nand 64% of college students participating in athletics use dietary supplements to enhance \\nperformance (61). The supplements are often proprietary blends of several supposedly \\nnatural ingredients. They are not without risk of adverse effects. In a recent review, it is')]\u001b[0m\u001b[32;1m\u001b[1;3mBased on the search results, the best supplements for muscle gain are:\n",
      "\n",
      "1. Creatine monohydrate: Known to increase muscle mass and support performance and recovery.\n",
      "2. Branched-chain amino acids (BCAA): Helps build new muscle and alleviate post-workout soreness.\n",
      "3. Protein powder: A popular choice among consumers, especially after a workout to help with muscle recovery and growth.\n",
      "\n",
      "It's essential to note that while these supplements can be beneficial for muscle gain, it's also important to maintain a balanced diet and engage in regular exercise. Additionally, it's always recommended to consult with a healthcare professional or registered dietitian before adding any new supplements to your regimen.\u001b[0m\n",
      "\n",
      "\u001b[1m> Finished chain.\u001b[0m\n",
      "What is the best supplement for muscle gain?\n",
      "\n",
      "\n",
      "Output:\n",
      "Based on the search results, the best supplements for muscle gain are:\n",
      "\n",
      "1. Creatine monohydrate: Known to increase muscle mass and support performance and recovery.\n",
      "2. Branched-chain amino acids (BCAA): Helps build new muscle and alleviate post-workout soreness.\n",
      "3. Protein powder: A popular choice among consumers, especially after a workout to help with muscle recovery and growth.\n",
      "\n",
      "It's essential to note that while these supplements can be beneficial for muscle gain, it's also important to maintain a balanced diet and engage in regular exercise. Additionally, it's always recommended to consult with a healthcare professional or registered dietitian before adding any new supplements to your regimen.\n"
     ]
    }
   ],
   "source": [
    "question = \"What is the best supplement for muscle gain?\"\n",
    "# question = \"What's the weather in SF?\"\n",
    "\n",
    "response = agent_executor.invoke({'input': question})\n",
    "print(response['input'])\n",
    "print(\"\\n\\nOutput:\")\n",
    "print(response['output'])"
   ]
  },
  {
   "cell_type": "code",
   "execution_count": 13,
   "metadata": {},
   "outputs": [
    {
     "name": "stdout",
     "output_type": "stream",
     "text": [
      "\n",
      "\n",
      "\u001b[1m> Entering new AgentExecutor chain...\u001b[0m\n",
      "\u001b[32;1m\u001b[1;3m\n",
      "Invoking: `search` with `{'query': 'SF weather'}`\n",
      "\n",
      "\n",
      "\u001b[0m\u001b[36;1m\u001b[1;3m[{'url': 'https://www.weatherapi.com/', 'content': \"{'location': {'name': 'San Francisco', 'region': 'California', 'country': 'United States of America', 'lat': 37.775, 'lon': -122.4183, 'tz_id': 'America/Los_Angeles', 'localtime_epoch': 1730398350, 'localtime': '2024-10-31 11:12'}, 'current': {'last_updated_epoch': 1730397600, 'last_updated': '2024-10-31 11:00', 'temp_c': 15.6, 'temp_f': 60.1, 'is_day': 1, 'condition': {'text': 'Partly cloudy', 'icon': '//cdn.weatherapi.com/weather/64x64/day/116.png', 'code': 1003}, 'wind_mph': 11.0, 'wind_kph': 17.6, 'wind_degree': 195, 'wind_dir': 'SSW', 'pressure_mb': 1021.0, 'pressure_in': 30.16, 'precip_mm': 0.0, 'precip_in': 0.0, 'humidity': 69, 'cloud': 50, 'feelslike_c': 15.6, 'feelslike_f': 60.1, 'windchill_c': 13.5, 'windchill_f': 56.4, 'heatindex_c': 13.8, 'heatindex_f': 56.9, 'dewpoint_c': 10.8, 'dewpoint_f': 51.5, 'vis_km': 16.0, 'vis_miles': 9.0, 'uv': 3.0, 'gust_mph': 14.8, 'gust_kph': 23.8}}\"}, {'url': 'https://world-weather.info/forecast/usa/san_francisco/october-2024/', 'content': \"San Francisco Weather Forecast for October 2024 is based on long term prognosis and previous years' statistical data.\"}, {'url': 'https://www.weathertab.com/en/c/e/10/united-states/california/san-francisco/', 'content': \"Welcome to WeatherTAB's in-depth weather outlook for San Francisco for October 2024. Leveraging our proprietary long-range forecast model, this comprehensive guide delivers an unparalleled view into the forecasted weather conditions throughout the month.\"}, {'url': 'https://world-weather.info/forecast/usa/san_francisco/31-october/', 'content': 'October 31 Weather in San Francisco: Detailed Weather Forecast for October 31 in San Francisco, California, United States Weather Weather in San Francisco Weather in San Francisco, October 31 Weather Forecast for October 31 in San Francisco, California - temperature, wind, atmospheric pressure, humidity and precipitations. Weak solar activity may affect some highly sensitive people. Solar activity may affect some sensitive people. Solar activity may affect some sensitive people. San Francisco Weather Calendar for October More about the weather forecast Find out more about the weather in San Francisco: air temperature, precipitation, pressure and wind speed. Weather in Washington, D.C.+73° Sacramento+66° Pleasanton+63° Redwood City+63° San Leandro+61° San Mateo+64° San Rafael+61° San Ramon+61° South San Francisco+61° Vallejo+61° Pacifica+57° Berkeley+63° Concord+64° Daly City+59°'}, {'url': 'https://weatherspark.com/h/m/557/2024/10/Historical-Weather-in-October-2024-in-San-Francisco-California-United-States', 'content': 'October 2024 Weather History in San Francisco California, United States The data for this report comes from the San Francisco International Airport. This report shows the past weather for San Francisco, providing a weather history for October 2024. It features all historical weather data series we have available, including the San Francisco temperature history for October 2024. San Francisco Temperature History October 2024 Hourly Temperature in October 2024 in San Francisco Cloud Cover in October 2024 in San Francisco Wind Speed in October 2024 in San Francisco Hourly Wind Speed in October 2024 in San Francisco The details of the data sources used for this report can be found on the San Francisco International Airport page.'}]\u001b[0m\u001b[32;1m\u001b[1;3mThe current weather in San Francisco is partly cloudy with a temperature of 15.6°C (60.1°F). There is no precipitation expected, and the wind speed is 11.0 mph (17.6 km/h) from the southwest direction. The humidity is at 69%, and the pressure is at 1021.0 mbar.\u001b[0m\n",
      "\n",
      "\u001b[1m> Finished chain.\u001b[0m\n",
      "What's the weather in SF?\n",
      "\n",
      "\n",
      "Output:\n",
      "The current weather in San Francisco is partly cloudy with a temperature of 15.6°C (60.1°F). There is no precipitation expected, and the wind speed is 11.0 mph (17.6 km/h) from the southwest direction. The humidity is at 69%, and the pressure is at 1021.0 mbar.\n"
     ]
    }
   ],
   "source": [
    "question = \"What's the weather in SF?\"\n",
    "\n",
    "response = agent_executor.invoke({'input': question})\n",
    "print(response['input'])\n",
    "print(\"\\n\\nOutput:\")\n",
    "print(response['output'])"
   ]
  },
  {
   "cell_type": "code",
   "execution_count": 14,
   "metadata": {},
   "outputs": [
    {
     "name": "stdout",
     "output_type": "stream",
     "text": [
      "\n",
      "\n",
      "\u001b[1m> Entering new AgentExecutor chain...\u001b[0m\n",
      "\u001b[32;1m\u001b[1;3m\n",
      "Invoking: `search` with `{'query': 'stock market news'}`\n",
      "\n",
      "\n",
      "\u001b[0m\u001b[36;1m\u001b[1;3m[{'url': 'https://www.cnn.com/business/live-news/stock-market-news-today/index.html/', 'content': 'Stock market today: Latest news | CNN Business Follow CNN Business CNN10 About CNN Markets: The Dow and S&P 500 closed higher for the third straight day, notching their best streak since November. Sears avoids liquidation: The retailer announced an 11th-hour deal to stay in business, at least for now. Gold always performs well when investors are nervous, as they clearly are right now, says CNN Business’ Paul R. CNN10 About CNN Follow CNN Business Dow Jones: The Dow Jones branded indices are proprietary to and are calculated, distributed and marketed by DJI Opco, a subsidiary of S&P Dow Jones Indices LLC and have been licensed for use to S&P Opco, LLC and CNN.'}, {'url': 'https://www.cnbc.com/stocks/', 'content': 'Get the latest stock market news, analysis and data from CNBC.com. Find out which stocks are rising or falling, what analysts are saying, and how to invest in the current market environment.'}, {'url': 'https://finance.yahoo.com/news/live/stock-market-today-nasdaq-sp-500-sink-as-meta-microsoft-revive-big-techs-ai-spending-worries-133028993.html', 'content': \"Stock market today: Nasdaq, S&P 500 sink as Meta, Microsoft revive Big Tech's AI spending worries Stock market today: Nasdaq, S&P 500 sink as Meta, Microsoft revive Big Tech's AI spending worries The Nasdaq led a tumble in US stocks on Thursday after Meta (META) and Microsoft (MSFT) earnings sparked worries about prospects for Big Techs amid rising artificial intelligence costs. Meta raised the lower end of its guidance range for full-year spending from $37 billion to $38 billion, and CFO Susan Li said the company expects “significant capital expenditure growth in 2025.” Microsoft indicated in its fiscal first quarter earnings reports that spending on general artificial intelligence infrastructure (e.g., AI chips) weighed on gross margins, which it expects to continue in the current period.\"}, {'url': 'https://finance.yahoo.com/', 'content': \"Associated Press Finance\\nEuropean stocks waver as economic picture darkens\\nBloomberg\\nTreasuries yields rise after slide in Europe bonds\\nBloomberg\\nNvidia delays China launch of AI chip tailored to US curbs\\nReuters\\nCoinbase stock rallies, Virgin Galactic slides: Top Stocks\\nYahoo Finance Video\\nFoot Locker's missteps that led to a downgrade\\nYahoo Finance Video\\nNvidia to see impressive growth: Analyst\\nYahoo Finance\\nCrypto's next steps after the humbling of Binance\\nYahoo Finance\\nTips to avoid credit card fraud, scams this holiday season\\nYahoo Personal Finance\\nDow Jones Futures Rise: Nvidia Rival Leads 4 Stocks In Buy Zones; Tesla Move Signals Elon Musk Fallout\\n Is the Stock Market Open or Closed on Thanksgiving?\\nThe New York Stock Exchange and the Nasdaq Stock Market will be closed on Thursday in observance of Thanksgiving, as will the U.S. bond market.\\n Premium analysis from Morningstar & Argus\\nAXA SA: AXA’s Tilt to Commercial Insurance and Technical Income Shows Nascent Positive Signs\\nCRH plc: CRH's $1.1 Billion Divestment Reinforces Its Exposure to Fast-Growing End Markets\\nJohnson Controls International plc: Retailers brace for a penny-pinching Black Friday\\nConcerns are growing that a spending slowdown could temper sales on the day after Thanksgiving and throughout the holidays.\\n Walmart Unveils Major Change Ahead of Black Friday\\nAct fast – Why the best deals are vanishing before Black Friday!\\n\"}, {'url': 'https://www.cnn.com/business/live-news/stock-market-today-fed-rate-hike/index.html', 'content': 'Stocks closely tied to economic outlook such as Boeing and the financials surged on the news. Tech stocks also grew. Amazon and Tesla both gained more than 5% on Wednesday. The Dow edged up 304'}]\u001b[0m\u001b[32;1m\u001b[1;3m**Recent Stock Market News**\n",
      "\n",
      "The stock market has seen significant fluctuations in recent days, with the Dow and S&P 500 closing higher for the third straight day, their best streak since November.\n",
      "\n",
      "**Notable Developments:**\n",
      "\n",
      "* Sears has announced an 11th-hour deal to stay in business, avoiding liquidation.\n",
      "* Gold prices have been boosted by investor nervousness, as investors become increasingly concerned about economic prospects.\n",
      "* Meta and Microsoft's earnings reports have sparked worries about Big Tech's AI spending, with the Nasdaq leading a tumble in US stocks on Thursday.\n",
      "\n",
      "**Market Trends:**\n",
      "\n",
      "* The Dow Jones branded indices are proprietary to S&P Dow Jones Indices LLC and have been licensed for use to S&P Opco, LLC and CNN.\n",
      "* CNBC provides the latest stock market news, analysis, and data from around the world.\n",
      "* Yahoo Finance offers real-time stock quotes, news, and analysis, as well as tips on investing in the current market environment.\n",
      "\n",
      "**Economic Outlook:**\n",
      "\n",
      "* Concerns are growing that a spending slowdown could temper sales on Black Friday and throughout the holiday season.\n",
      "* The US bond market will be closed on Thursday in observance of Thanksgiving.\n",
      "* Walmart has unveiled major changes ahead of Black Friday, while retailers are bracing for a penny-pinching shopping period.\n",
      "\n",
      "**Industry Insights:**\n",
      "\n",
      "* Nvidia delays its China launch of an AI chip tailored to US curbs.\n",
      "* Coinbase's stock rallies, while Virgin Galactic slides.\n",
      "* Foot Locker faces missteps that led to a downgrade.\n",
      "* Nvidia is expected to see impressive growth, according to analysts.\u001b[0m\n",
      "\n",
      "\u001b[1m> Finished chain.\u001b[0m\n",
      "Write Report on the stock market news\n",
      "\n",
      "\n",
      "Output:\n",
      "**Recent Stock Market News**\n",
      "\n",
      "The stock market has seen significant fluctuations in recent days, with the Dow and S&P 500 closing higher for the third straight day, their best streak since November.\n",
      "\n",
      "**Notable Developments:**\n",
      "\n",
      "* Sears has announced an 11th-hour deal to stay in business, avoiding liquidation.\n",
      "* Gold prices have been boosted by investor nervousness, as investors become increasingly concerned about economic prospects.\n",
      "* Meta and Microsoft's earnings reports have sparked worries about Big Tech's AI spending, with the Nasdaq leading a tumble in US stocks on Thursday.\n",
      "\n",
      "**Market Trends:**\n",
      "\n",
      "* The Dow Jones branded indices are proprietary to S&P Dow Jones Indices LLC and have been licensed for use to S&P Opco, LLC and CNN.\n",
      "* CNBC provides the latest stock market news, analysis, and data from around the world.\n",
      "* Yahoo Finance offers real-time stock quotes, news, and analysis, as well as tips on investing in the current market environment.\n",
      "\n",
      "**Economic Outlook:**\n",
      "\n",
      "* Concerns are growing that a spending slowdown could temper sales on Black Friday and throughout the holiday season.\n",
      "* The US bond market will be closed on Thursday in observance of Thanksgiving.\n",
      "* Walmart has unveiled major changes ahead of Black Friday, while retailers are bracing for a penny-pinching shopping period.\n",
      "\n",
      "**Industry Insights:**\n",
      "\n",
      "* Nvidia delays its China launch of an AI chip tailored to US curbs.\n",
      "* Coinbase's stock rallies, while Virgin Galactic slides.\n",
      "* Foot Locker faces missteps that led to a downgrade.\n",
      "* Nvidia is expected to see impressive growth, according to analysts.\n"
     ]
    }
   ],
   "source": [
    "question = \"Write Report on the stock market news\"\n",
    "\n",
    "response = agent_executor.invoke({'input': question})\n",
    "print(response['input'])\n",
    "print(\"\\n\\nOutput:\")\n",
    "print(response['output'])"
   ]
  },
  {
   "cell_type": "code",
   "execution_count": null,
   "metadata": {},
   "outputs": [],
   "source": []
  },
  {
   "cell_type": "code",
   "execution_count": null,
   "metadata": {},
   "outputs": [],
   "source": []
  },
  {
   "cell_type": "code",
   "execution_count": null,
   "metadata": {},
   "outputs": [],
   "source": []
  },
  {
   "cell_type": "code",
   "execution_count": null,
   "metadata": {},
   "outputs": [],
   "source": []
  }
 ],
 "metadata": {
  "kernelspec": {
   "display_name": "ml",
   "language": "python",
   "name": "python3"
  },
  "language_info": {
   "codemirror_mode": {
    "name": "ipython",
    "version": 3
   },
   "file_extension": ".py",
   "mimetype": "text/x-python",
   "name": "python",
   "nbconvert_exporter": "python",
   "pygments_lexer": "ipython3",
   "version": "3.12.4"
  }
 },
 "nbformat": 4,
 "nbformat_minor": 2
}
