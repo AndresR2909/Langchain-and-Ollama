{
 "cells": [
  {
   "cell_type": "markdown",
   "metadata": {},
   "source": [
    "## LinkedIn Profile Scraper in Python using LLM"
   ]
  },
  {
   "cell_type": "markdown",
   "metadata": {},
   "source": [
    "YouTube Video: https://youtu.be/SQtwhuYJk3M"
   ]
  },
  {
   "cell_type": "code",
   "execution_count": 1,
   "metadata": {},
   "outputs": [],
   "source": [
    "import warnings\n",
    "warnings.filterwarnings(\"ignore\")"
   ]
  },
  {
   "cell_type": "code",
   "execution_count": null,
   "metadata": {},
   "outputs": [
    {
     "data": {
      "text/plain": [
       "True"
      ]
     },
     "execution_count": 2,
     "metadata": {},
     "output_type": "execute_result"
    }
   ],
   "source": [
    "import os\n",
    "from bs4 import BeautifulSoup\n",
    "from selenium import webdriver\n",
    "from selenium.webdriver.common.by import By\n",
    "\n",
    "from dotenv import load_dotenv\n",
    "load_dotenv()"
   ]
  },
  {
   "cell_type": "code",
   "execution_count": 3,
   "metadata": {},
   "outputs": [],
   "source": [
    "driver = webdriver.Chrome()"
   ]
  },
  {
   "cell_type": "code",
   "execution_count": 4,
   "metadata": {},
   "outputs": [],
   "source": [
    "driver.get('https://www.linkedin.com/login')"
   ]
  },
  {
   "cell_type": "code",
   "execution_count": 5,
   "metadata": {},
   "outputs": [
    {
     "data": {
      "text/plain": [
       "'LinkedIn Login, Sign in | LinkedIn'"
      ]
     },
     "execution_count": 5,
     "metadata": {},
     "output_type": "execute_result"
    }
   ],
   "source": [
    "driver.title"
   ]
  },
  {
   "cell_type": "code",
   "execution_count": 6,
   "metadata": {},
   "outputs": [],
   "source": [
    "email = driver.find_element(By.ID, 'username')\n",
    "email.send_keys(os.environ['EMAIL'])\n",
    "\n",
    "password = driver.find_element(By.ID, 'password')\n",
    "password.send_keys(os.environ['PASSWORD'])\n",
    "\n",
    "password.submit()"
   ]
  },
  {
   "cell_type": "code",
   "execution_count": 7,
   "metadata": {},
   "outputs": [],
   "source": [
    "## MAKE SURE TO USE ONLY THIS URL TO AVOID BEING STUCK IN ERRORS\n",
    "\n",
    "url = \"https://www.linkedin.com/in/laxmimerit\"\n",
    "driver.get(url)"
   ]
  },
  {
   "cell_type": "code",
   "execution_count": 8,
   "metadata": {},
   "outputs": [],
   "source": [
    "profile_data = {}"
   ]
  },
  {
   "cell_type": "code",
   "execution_count": 9,
   "metadata": {},
   "outputs": [
    {
     "data": {
      "text/plain": [
       "'(23) Laxmi Kant | LinkedIn'"
      ]
     },
     "execution_count": 9,
     "metadata": {},
     "output_type": "execute_result"
    }
   ],
   "source": [
    "driver.title"
   ]
  },
  {
   "cell_type": "code",
   "execution_count": 45,
   "metadata": {},
   "outputs": [],
   "source": [
    "page_source = driver.page_source\n",
    "soup = BeautifulSoup(page_source, 'lxml')\n",
    "\n",
    "profile = soup.find('main', {'class': 'scaffold-layout__main'})"
   ]
  },
  {
   "cell_type": "code",
   "execution_count": 46,
   "metadata": {},
   "outputs": [
    {
     "data": {
      "text/plain": [
       "17"
      ]
     },
     "execution_count": 46,
     "metadata": {},
     "output_type": "execute_result"
    }
   ],
   "source": [
    "sections = profile.find_all('section', {'class': 'artdeco-card'})\n",
    "len(sections)"
   ]
  },
  {
   "cell_type": "code",
   "execution_count": 47,
   "metadata": {},
   "outputs": [
    {
     "data": {
      "text/plain": [
       "42504"
      ]
     },
     "execution_count": 47,
     "metadata": {},
     "output_type": "execute_result"
    }
   ],
   "source": [
    "profile_text = profile.get_text().strip() \n",
    "# print(profile.get_text())\n",
    "len(profile_text)"
   ]
  },
  {
   "cell_type": "code",
   "execution_count": 69,
   "metadata": {},
   "outputs": [],
   "source": [
    "import re\n",
    "\n",
    "# remove multiple new lines and tabs\n",
    "def clean_text(text):\n",
    "    text = re.sub(r'\\n+', '\\n', text)\n",
    "    text = re.sub(r'\\t+', '\\t', text)\n",
    "    text = re.sub(r'\\t\\s+', ' ', text)\n",
    "    text = re.sub(r'\\n\\s+', '\\n', text)\n",
    "    return text\n",
    "\n",
    "# profile_text = clean_text(profile_text)\n",
    "\n"
   ]
  },
  {
   "cell_type": "code",
   "execution_count": 79,
   "metadata": {},
   "outputs": [],
   "source": [
    "sections_text = [section.get_text().strip() for section in sections]"
   ]
  },
  {
   "cell_type": "code",
   "execution_count": 80,
   "metadata": {},
   "outputs": [],
   "source": [
    "sections_text = [clean_text(section) for section in sections_text]"
   ]
  },
  {
   "cell_type": "code",
   "execution_count": 82,
   "metadata": {},
   "outputs": [],
   "source": [
    "def remove_duplicates(text):\n",
    "    lines = text.split('\\n')\n",
    "    new_lines = []\n",
    "    for line in lines:\n",
    "        if line[:len(line)//2] == line[len(line)//2:]:\n",
    "            new_lines.append(line[:len(line)//2])\n",
    "        else:\n",
    "            new_lines.append(line)\n",
    "\n",
    "    return '\\n'.join(new_lines)"
   ]
  },
  {
   "cell_type": "code",
   "execution_count": 83,
   "metadata": {},
   "outputs": [],
   "source": [
    "sections_text[10]\n",
    "\n",
    "sections_text = [remove_duplicates(section) for section in sections_text]\n"
   ]
  },
  {
   "cell_type": "code",
   "execution_count": 91,
   "metadata": {},
   "outputs": [],
   "source": [
    "# sections_text"
   ]
  },
  {
   "cell_type": "markdown",
   "metadata": {},
   "source": [
    "### LLM Call"
   ]
  },
  {
   "cell_type": "code",
   "execution_count": 15,
   "metadata": {},
   "outputs": [
    {
     "data": {
      "text/plain": [
       "['Name and Headline',\n",
       " 'Highlights',\n",
       " 'About',\n",
       " 'Featured',\n",
       " 'Activity',\n",
       " 'Experience',\n",
       " 'Education',\n",
       " 'Licenses & certifications',\n",
       " 'Projects',\n",
       " 'Skills',\n",
       " 'Recommendations',\n",
       " 'Patents',\n",
       " 'Courses',\n",
       " 'Honors & awards',\n",
       " 'Languages',\n",
       " 'Interests',\n",
       " 'Causes']"
      ]
     },
     "execution_count": 15,
     "metadata": {},
     "output_type": "execute_result"
    }
   ],
   "source": [
    "section_keys = ['Name and Headline']\n",
    "for section in sections_text[1:]:\n",
    "    section_keys.append(section.split('\\n')[0])\n",
    "\n",
    "section_keys"
   ]
  },
  {
   "cell_type": "code",
   "execution_count": 41,
   "metadata": {},
   "outputs": [],
   "source": [
    "from langchain_ollama import ChatOllama\n",
    "\n",
    "from langchain_core.prompts import (SystemMessagePromptTemplate, \n",
    "                                    HumanMessagePromptTemplate,\n",
    "                                    ChatPromptTemplate)\n",
    "\n",
    "\n",
    "\n",
    "from langchain_core.output_parsers import StrOutputParser\n",
    "\n",
    "base_url = \"http://localhost:11434\"\n",
    "# model = 'llama3.2:3b'\n",
    "model = 'qwen2.5:7b'\n",
    "\n",
    "llm = ChatOllama(base_url=base_url, model=model)\n",
    "\n",
    "\n",
    "system = SystemMessagePromptTemplate.from_template(\"\"\"You are helpful AI assistant who answer LinkedIn profile parsing related \n",
    "                                                    user question based on the provided profile text data.\"\"\")\n",
    "\n",
    "def ask_llm(prompt):\n",
    "    prompt = HumanMessagePromptTemplate.from_template(prompt)\n",
    "\n",
    "    messages = [system, prompt]\n",
    "    template = ChatPromptTemplate(messages)\n",
    "\n",
    "    qna_chain = template | llm | StrOutputParser()\n",
    "\n",
    "    return qna_chain.invoke({})"
   ]
  },
  {
   "cell_type": "code",
   "execution_count": 42,
   "metadata": {},
   "outputs": [
    {
     "name": "stdout",
     "output_type": "stream",
     "text": [
      "- Name: Laxmi Kant\n",
      "- Headline: Gen AI in Finance & Investment Services | Data Scientist | IIT Kharagpur | Asset Management | AI-Driven Financial Modeling | Search Ranking | NLP Python BERT AWS Elasticsearch GNN SQL LLM | AI in Investment Strategies\n"
     ]
    }
   ],
   "source": [
    "template = \"\"\"\n",
    "Extract and return the requested information from the LinkedIn profile data in a concise, point-by-point format (up to 5 points). Avoid preambles or any additional context.\n",
    "\n",
    "### LinkedIn Profile Data:\n",
    "{}\n",
    "\n",
    "### Information to Extract:\n",
    "Extract '{}' in bullet points, limiting the output to 5 points. Provide only the necessary details.\n",
    "Remember, It is LinkedIn profile data.\n",
    "\n",
    "### Extracted Data:\"\"\"\n",
    "\n",
    "context = sections_text[0]\n",
    "prompt = template.format(context, section_keys[0])\n",
    "\n",
    "response = ask_llm(prompt=prompt)\n",
    "print(response)"
   ]
  },
  {
   "cell_type": "code",
   "execution_count": 43,
   "metadata": {},
   "outputs": [],
   "source": [
    "responses = {}\n",
    "\n",
    "for k,context in zip(section_keys, sections_text):\n",
    "    prompt = template.format(context, k)\n",
    "    response = ask_llm(prompt=prompt)\n",
    "    responses[k] = response"
   ]
  },
  {
   "cell_type": "code",
   "execution_count": 44,
   "metadata": {},
   "outputs": [
    {
     "name": "stdout",
     "output_type": "stream",
     "text": [
      "{'Name and Headline': '- Name: Laxmi Kant\\n- Headline: Gen AI in Finance & Investment Services | Data Scientist | IIT Kharagpur | Asset Management | AI-Driven Financial Modeling | Search Ranking | NLP Python BERT AWS Elasticsearch GNN SQL LLM | AI in Investment Strategies', 'Highlights': '- Laxmi Kant has viewed your profile.\\n- Curious about who else viewed your profile? Unlock for more opportunities.\\n- See all profile views.', 'About': '- Demonstrated 8+ years of expertise in advanced analytics as an AVP in Data Science.\\n- Showcasing dynamic and impactful contributions in fields like customer behavior modeling, personalized marketing, product discovery & search optimization, and recommendations.\\n- Strategically led initiatives resulting in a 30% increase in customer retention and a 10% reduction in advertising spending.\\n- Pioneered the development of a Machine Learning product relevance ranking system leading to a 30% increase in conversion rates and 20% growth in revenue.\\n- Achieved significant improvements through innovative techniques like Social Graph Analytics and Predictive Modeling.', 'Featured': '- Fine Tuning LLM with Hugging Face Transformers for NLP\\n- Python for Deep Learning and Artificial Intelligence\\n- Python for Machine Learning: A Step-by-Step Guide\\n- Advanced Natural Language and Image Processing Projects\\n- R 4.0 Programming for Data Science || Beginners to Pro', 'Activity': '- Activity: 26,724 followers\\n- Activity: Following\\n- Activity: 3 posts shared recently', 'Experience': '- Developed SleepDoc, an Android application using state-of-the-art ML algorithms (SVM, RF, CNN, LSTM, CNN-LSTM, Inception) for vital parameter measurement with 99% accuracy in respiration and heart rate.\\n- Achieved kernel changes into the Android OS to read data on Qualcomm’s Snapdragon processor using SPI, I2C, and UART.\\n- Interfaced Java and custom module coded in C-Language in Android 6.0.\\n- Filed patents for \"Smart Wireless System and Method for Human Health Monitoring Using Doppler Radar\" (Ref No. 201731038573) and \"Smart Sleep Sense System For Human Health Monitoring And Screening Using Velostat Pressure Sensor\" (Ref. No. 01731041913).\\n- Trained deep learning models on Google Cloud Platform (GCP) with Tensorflow-GPU for real-time audio analysis, sleep apnea detection, and snoring detection.', 'Education': '- Indian Institute of Technology, Kharagpur, Senior Research Scholar, Computer Science, 2014 - 2016\\n- Indian Institute of Technology, Kharagpur, Master of Technology (M.Tech.), Computer Science, 2012 - 2014', 'Licenses & certifications': '- Product Analytics Micro Certificate, Product School, Issued Jan 2024\\n- Data Analytics, Product Management (Issued Jan 2024)\\n- Accenture Innovation Award, Accenture, Issued Nov 2017', 'Projects': '- Smart Sleep Sense: An Unobtrusive and IoT Enabled Wireless Sleep Monitoring System (May 2015 - Present)\\n- Optimized Fixed Point Kalman Filter Implementation on Embedded Hardware (Aug 2013 - Apr 2014)', 'Skills': '- MLOps\\n- Large Language Models (LLM)', 'Recommendations': '- Recommendations: Nothing to see for now\\n- Recommendations: Alok Mishra recommends Laxmi as an excellent resource and master at embedded programming.\\n- Recommendations: Aarya Tadvalkar endorses Laxmi, praising her skills as a Data Scientist and her ability to inspire the team.', 'Patents': '- Smart Sleep Sense System For Human Health Monitoring And Screening Using Velostat Pressure Sensor (IN 01731041913)\\n- Smart Wireless System and Method for Human Health Monitoring Using Doppler Radar (IN 201731038573)', 'Courses': '- Advanced Computer Architecture, associated with Indian Institute of Technology, Kharagpur\\n- Algorithm Design and Analysis, associated with Indian Institute of Technology, Kharagpur', 'Honors & awards': '- Best Startup at IIT Kharagpur 2016-17\\n- Runner-Up 24H Entrepreneurship Challenge, 2017, IISER, Pune', 'Languages': '- Languages: English (Professional working proficiency)\\n- Languages: Hindi (Native or bilingual proficiency)', 'Interests': '- Artificial Intelligence, Machine Learning, Data Science & Robotics\\n- Tech Startup CEOs & Investors: Artificial Intelligence, Machine Learning, FinTech, SaaS, ChatGPT\\n- Evolution of Tech Education (Article and essays on technology, education, career growth, and entrepreneurship. Published weekly)\\n- Technology\\n- Education', 'Causes': '- Environment\\n- Education\\n- Health\\n- Science and Technology'}\n"
     ]
    }
   ],
   "source": [
    "print(responses)"
   ]
  },
  {
   "cell_type": "code",
   "execution_count": 45,
   "metadata": {},
   "outputs": [
    {
     "data": {
      "text/plain": [
       "'Name: Laxmi Kant\\n\\nHeadline: Gen AI in Finance & Investment Services | Data Scientist | IIT Kharagpur | Asset Management | AI-Driven Financial Modeling | Search Ranking | NLP Python BERT AWS Elasticsearch GNN SQL LLM | AI in Investment Strategies\\n\\nAbout: Demonstrated 8+ years of expertise in advanced analytics as an AVP in Data Science. Showcasing dynamic and impactful contributions in fields like customer behavior modeling, personalized marketing, product discovery & search optimization, and recommendations. Strategically led initiatives resulting in a 30% increase in customer retention and a 10% reduction in advertising spending. Pioneered the development of a Machine Learning product relevance ranking system leading to a 30% increase in conversion rates and 20% growth in revenue. Achieved significant improvements through innovative techniques like Social Graph Analytics and Predictive Modeling.\\n\\nExperience: \\n- Developed SleepDoc, an Android application using state-of-the-art ML algorithms (SVM, RF, CNN, LSTM, CNN-LSTM, Inception) for vital parameter measurement with 99% accuracy in respiration and heart rate.\\n- Achieved kernel changes into the Android OS to read data on Qualcomm’s Snapdragon processor using SPI, I2C, and UART.\\n- Interfaced Java and custom module coded in C-Language in Android 6.0.\\n- Filed patents for \"Smart Wireless System and Method for Human Health Monitoring Using Doppler Radar\" (Ref No. 201731038573) and \"Smart Sleep Sense System For Human Health Monitoring And Screening Using Velostat Pressure Sensor\" (Ref. No. 01731041913).\\n- Trained deep learning models on Google Cloud Platform (GCP) with Tensorflow-GPU for real-time audio analysis, sleep apnea detection, and snoring detection.\\n\\nEducation:\\n- Indian Institute of Technology, Kharagpur, Senior Research Scholar, Computer Science, 2014 - 2016\\n- Indian Institute of Technology, Kharagpur, Master of Technology (M.Tech.), Computer Science, 2012 - 2014\\n\\nSkills:\\n- MLOps\\n- Large Language Models (LLM)\\n\\nProjects:\\n- Smart Sleep Sense: An Unobtrusive and IoT Enabled Wireless Sleep Monitoring System (May 2015 - Present)\\n- Optimized Fixed Point Kalman Filter Implementation on Embedded Hardware (Aug 2013 - Apr 2014)\\n\\nSummary:\\nLaxmi Kant is a seasoned Data Scientist with expertise in Gen AI, Finance & Investment Services. With over 8 years of experience, she has contributed significantly to fields like customer behavior modeling and recommendation systems, achieving notable improvements in retention and revenue. Additionally, she has developed innovative health monitoring technologies and holds relevant patents.'"
      ]
     },
     "execution_count": 45,
     "metadata": {},
     "output_type": "execute_result"
    }
   ],
   "source": [
    "template = \"\"\"You are provided with LinkedIn profile data in JSON format.\n",
    "            Parse the data according to the specified schema, correct any spelling errors,\n",
    "            and condense the information if possible.\n",
    "\n",
    "### LinkedIn Profile JSON Data:\n",
    "{context}\n",
    "\n",
    "### Schema You need to follow:\n",
    "You need to extract\n",
    "Name:\n",
    "Headline:\n",
    "About:\n",
    "Experience:\n",
    "Education:\n",
    "Skills:\n",
    "Projects:\n",
    "Summary:\n",
    "\n",
    "Do not return preambles or any other information.\n",
    "### Parsed Data:\"\"\"\n",
    "\n",
    "prompt = template.format(context=responses).replace(\"{\", \"{{\").replace(\"}\", \"}}\")\n",
    "response = ask_llm(prompt=prompt)\n",
    "response"
   ]
  },
  {
   "cell_type": "code",
   "execution_count": 46,
   "metadata": {},
   "outputs": [
    {
     "name": "stdout",
     "output_type": "stream",
     "text": [
      "Name: Laxmi Kant\n",
      "\n",
      "Headline: Gen AI in Finance & Investment Services | Data Scientist | IIT Kharagpur | Asset Management | AI-Driven Financial Modeling | Search Ranking | NLP Python BERT AWS Elasticsearch GNN SQL LLM | AI in Investment Strategies\n",
      "\n",
      "About: Demonstrated 8+ years of expertise in advanced analytics as an AVP in Data Science. Showcasing dynamic and impactful contributions in fields like customer behavior modeling, personalized marketing, product discovery & search optimization, and recommendations. Strategically led initiatives resulting in a 30% increase in customer retention and a 10% reduction in advertising spending. Pioneered the development of a Machine Learning product relevance ranking system leading to a 30% increase in conversion rates and 20% growth in revenue. Achieved significant improvements through innovative techniques like Social Graph Analytics and Predictive Modeling.\n",
      "\n",
      "Experience: \n",
      "- Developed SleepDoc, an Android application using state-of-the-art ML algorithms (SVM, RF, CNN, LSTM, CNN-LSTM, Inception) for vital parameter measurement with 99% accuracy in respiration and heart rate.\n",
      "- Achieved kernel changes into the Android OS to read data on Qualcomm’s Snapdragon processor using SPI, I2C, and UART.\n",
      "- Interfaced Java and custom module coded in C-Language in Android 6.0.\n",
      "- Filed patents for \"Smart Wireless System and Method for Human Health Monitoring Using Doppler Radar\" (Ref No. 201731038573) and \"Smart Sleep Sense System For Human Health Monitoring And Screening Using Velostat Pressure Sensor\" (Ref. No. 01731041913).\n",
      "- Trained deep learning models on Google Cloud Platform (GCP) with Tensorflow-GPU for real-time audio analysis, sleep apnea detection, and snoring detection.\n",
      "\n",
      "Education:\n",
      "- Indian Institute of Technology, Kharagpur, Senior Research Scholar, Computer Science, 2014 - 2016\n",
      "- Indian Institute of Technology, Kharagpur, Master of Technology (M.Tech.), Computer Science, 2012 - 2014\n",
      "\n",
      "Skills:\n",
      "- MLOps\n",
      "- Large Language Models (LLM)\n",
      "\n",
      "Projects:\n",
      "- Smart Sleep Sense: An Unobtrusive and IoT Enabled Wireless Sleep Monitoring System (May 2015 - Present)\n",
      "- Optimized Fixed Point Kalman Filter Implementation on Embedded Hardware (Aug 2013 - Apr 2014)\n",
      "\n",
      "Summary:\n",
      "Laxmi Kant is a seasoned Data Scientist with expertise in Gen AI, Finance & Investment Services. With over 8 years of experience, she has contributed significantly to fields like customer behavior modeling and recommendation systems, achieving notable improvements in retention and revenue. Additionally, she has developed innovative health monitoring technologies and holds relevant patents.\n"
     ]
    }
   ],
   "source": [
    "print(response)"
   ]
  },
  {
   "cell_type": "code",
   "execution_count": null,
   "metadata": {},
   "outputs": [],
   "source": []
  }
 ],
 "metadata": {
  "kernelspec": {
   "display_name": "ml",
   "language": "python",
   "name": "python3"
  },
  "language_info": {
   "codemirror_mode": {
    "name": "ipython",
    "version": 3
   },
   "file_extension": ".py",
   "mimetype": "text/x-python",
   "name": "python",
   "nbconvert_exporter": "python",
   "pygments_lexer": "ipython3",
   "version": "3.12.4"
  }
 },
 "nbformat": 4,
 "nbformat_minor": 2
}
