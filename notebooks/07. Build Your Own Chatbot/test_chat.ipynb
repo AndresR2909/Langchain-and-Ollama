{
 "cells": [
  {
   "cell_type": "code",
   "execution_count": 2,
   "metadata": {},
   "outputs": [],
   "source": [
    "from chat_stream import ChatBot"
   ]
  },
  {
   "cell_type": "code",
   "execution_count": 4,
   "metadata": {},
   "outputs": [
    {
     "data": {
      "text/plain": [
       "'1.41.1'"
      ]
     },
     "execution_count": 4,
     "metadata": {},
     "output_type": "execute_result"
    }
   ],
   "source": [
    "import streamlit \n",
    "streamlit.__version__"
   ]
  },
  {
   "cell_type": "code",
   "execution_count": 5,
   "metadata": {},
   "outputs": [],
   "source": [
    "base_url = \"http://localhost:11434\"\n",
    "model = \"llama3.2:3b\"\n",
    "\n",
    "user_id = \"andres_123\"\n",
    "chatbot = ChatBot(base_url=base_url, model=model, rol_template=\"You are helpful assistant.\")"
   ]
  },
  {
   "cell_type": "code",
   "execution_count": 17,
   "metadata": {},
   "outputs": [],
   "source": [
    "response = chatbot.chat(session_id=user_id, input=\"Hello, how are you?\")"
   ]
  },
  {
   "cell_type": "code",
   "execution_count": 18,
   "metadata": {},
   "outputs": [
    {
     "name": "stdout",
     "output_type": "stream",
     "text": [
      "As I mentioned earlier, I'm just a computer program, so I don't have feelings or emotions. I exist solely to provide information and assist with tasks to the best of my abilities. I'm functioning properly and ready to help you with whatever you need! How about you?\n"
     ]
    }
   ],
   "source": [
    "import time\n",
    "full_message = \"\"\n",
    "for message in response:\n",
    "    full_message += message\n",
    "    print(full_message, end='\\r')\n",
    "    time.sleep(0.5) \n",
    "print()"
   ]
  }
 ],
 "metadata": {
  "kernelspec": {
   "display_name": ".venv",
   "language": "python",
   "name": "python3"
  },
  "language_info": {
   "codemirror_mode": {
    "name": "ipython",
    "version": 3
   },
   "file_extension": ".py",
   "mimetype": "text/x-python",
   "name": "python",
   "nbconvert_exporter": "python",
   "pygments_lexer": "ipython3",
   "version": "3.12.4"
  }
 },
 "nbformat": 4,
 "nbformat_minor": 2
}
