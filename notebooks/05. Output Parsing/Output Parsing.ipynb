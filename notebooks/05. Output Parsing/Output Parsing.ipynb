{
 "cells": [
  {
   "cell_type": "markdown",
   "metadata": {},
   "source": [
    "## Output Parsing"
   ]
  },
  {
   "cell_type": "markdown",
   "metadata": {},
   "source": [
    "Language models output text. But there are times where you want to get more structured information than just text back\n",
    "\n",
    "Output parsers are classes that help structure language model responses. There are two main methods an output parser must implement:\n",
    "\n",
    "- **Get format instructions**: A method which returns a string containing instructions for how the output of a language model should be formatted.\n",
    "- **Parse**: A method which takes in a string (assumed to be the response from a language model) and parses it into some structure."
   ]
  },
  {
   "cell_type": "markdown",
   "metadata": {},
   "source": [
    "- Output Parsing\n",
    "    - StrOutputParser\n",
    "    - JsonOutputParser\n",
    "    - CSV Output Parser\n",
    "    - Datatime Output Parser\n",
    "    - Structured Output Parser (Pydanitc or Json)\n"
   ]
  },
  {
   "cell_type": "markdown",
   "metadata": {},
   "source": [
    "### `Pydantinc` Output Parser"
   ]
  },
  {
   "cell_type": "code",
   "execution_count": 1,
   "metadata": {},
   "outputs": [
    {
     "data": {
      "text/plain": [
       "True"
      ]
     },
     "execution_count": 1,
     "metadata": {},
     "output_type": "execute_result"
    }
   ],
   "source": [
    "from dotenv import load_dotenv\n",
    "\n",
    "load_dotenv('./../../.env')\n",
    "\n",
    "# langfuse or opik"
   ]
  },
  {
   "cell_type": "code",
   "execution_count": 18,
   "metadata": {},
   "outputs": [
    {
     "name": "stderr",
     "output_type": "stream",
     "text": [
      "/Users/andrestrepo/Documents/repos_personal/Langchain-and-Ollama/.venv/lib/python3.12/site-packages/tqdm/auto.py:21: TqdmWarning: IProgress not found. Please update jupyter and ipywidgets. See https://ipywidgets.readthedocs.io/en/stable/user_install.html\n",
      "  from .autonotebook import tqdm as notebook_tqdm\n"
     ]
    },
    {
     "name": "stdout",
     "output_type": "stream",
     "text": [
      "<class 'pandas.core.frame.DataFrame'>\n",
      "RangeIndex: 3256 entries, 0 to 3255\n",
      "Data columns (total 15 columns):\n",
      " #   Column                Non-Null Count  Dtype  \n",
      "---  ------                --------------  -----  \n",
      " 0   chanel_name           3256 non-null   object \n",
      " 1   video_id              3256 non-null   object \n",
      " 2   source                3256 non-null   object \n",
      " 3   publish_date          3141 non-null   object \n",
      " 4   duration              3256 non-null   float64\n",
      " 5   last_update_date      3256 non-null   object \n",
      " 6   title                 3256 non-null   object \n",
      " 7   text                  3256 non-null   object \n",
      " 8   year                  3256 non-null   int64  \n",
      " 9   number_of_tokenks     3256 non-null   int64  \n",
      " 10  number_of_new_tokens  942 non-null    float64\n",
      " 11  prompt                3256 non-null   object \n",
      " 12  summary               3256 non-null   object \n",
      " 13  key_terms             3256 non-null   object \n",
      " 14  __index_level_0__     3256 non-null   int64  \n",
      "dtypes: float64(2), int64(3), object(10)\n",
      "memory usage: 381.7+ KB\n"
     ]
    }
   ],
   "source": [
    "import pandas as pd\n",
    "df = pd.read_parquet(\"hf://datasets/AndresR2909/youtube_transcriptions_summaries_gpt4o/data/train-00000-of-00001.parquet\")\n",
    "\n",
    "df.info()"
   ]
  },
  {
   "cell_type": "code",
   "execution_count": 2,
   "metadata": {},
   "outputs": [],
   "source": [
    "from langchain_ollama import ChatOllama\n",
    "from langchain_core.prompts import (\n",
    "                                        SystemMessagePromptTemplate,\n",
    "                                        HumanMessagePromptTemplate,\n",
    "                                        ChatPromptTemplate,\n",
    "                                        PromptTemplate\n",
    "                                        )\n",
    "\n",
    "base_url = \"http://localhost:11434\"\n",
    "model = 'phi4:latest'#'llama3.2:3b'\n",
    "\n",
    "llm = ChatOllama(base_url=base_url, model=model)"
   ]
  },
  {
   "cell_type": "code",
   "execution_count": 12,
   "metadata": {},
   "outputs": [],
   "source": [
    "from typing import  Optional, List\n",
    "from pydantic import BaseModel, Field\n",
    "from langchain_core.output_parsers import PydanticOutputParser\n"
   ]
  },
  {
   "cell_type": "code",
   "execution_count": 65,
   "metadata": {},
   "outputs": [],
   "source": [
    "class ResumenTranscripcion(BaseModel):\n",
    "    resumen: str = Field(description=\"Introducción que ofrece una visión general del tema\")\n",
    "    puntos_importantes: List[str] = Field(description=\"Lista de los puntos más importantes ('Bullet Points')\")\n",
    "    conclusion: str = Field(description=\"Conclusión del resumen\")\n",
    "    activos_mencionados: Optional[List[str]] = Field(description=\"Lista de los activos mencionados para invertir\", default=None)"
   ]
  },
  {
   "cell_type": "code",
   "execution_count": 66,
   "metadata": {},
   "outputs": [],
   "source": [
    "parser = PydanticOutputParser(pydantic_object=ResumenTranscripcion)"
   ]
  },
  {
   "cell_type": "code",
   "execution_count": 67,
   "metadata": {},
   "outputs": [],
   "source": [
    "instruction = parser.get_format_instructions()"
   ]
  },
  {
   "cell_type": "code",
   "execution_count": 24,
   "metadata": {},
   "outputs": [
    {
     "name": "stdout",
     "output_type": "stream",
     "text": [
      "The output should be formatted as a JSON instance that conforms to the JSON schema below.\n",
      "\n",
      "As an example, for the schema {\"properties\": {\"foo\": {\"title\": \"Foo\", \"description\": \"a list of strings\", \"type\": \"array\", \"items\": {\"type\": \"string\"}}}, \"required\": [\"foo\"]}\n",
      "the object {\"foo\": [\"bar\", \"baz\"]} is a well-formatted instance of the schema. The object {\"properties\": {\"foo\": [\"bar\", \"baz\"]}} is not well-formatted.\n",
      "\n",
      "Here is the output schema:\n",
      "```\n",
      "{\"properties\": {\"resumen\": {\"description\": \"Introducción que ofrece una visión general del tema\", \"title\": \"Resumen\", \"type\": \"string\"}, \"puntos_importantes\": {\"description\": \"Lista de los puntos más importantes ('Bullet Points') en formato de viñetas\", \"items\": {\"type\": \"string\"}, \"title\": \"Puntos Importantes\", \"type\": \"array\"}, \"conclusion\": {\"description\": \"Conclusión del resumen\", \"title\": \"Conclusion\", \"type\": \"string\"}, \"activos_mencionados\": {\"anyOf\": [{\"items\": {\"type\": \"string\"}, \"type\": \"array\"}, {\"type\": \"null\"}], \"default\": null, \"description\": \"Lista de los activos mencionados para invertir\", \"title\": \"Activos Mencionados\"}}, \"required\": [\"resumen\", \"puntos_importantes\", \"conclusion\"]}\n",
      "```\n"
     ]
    }
   ],
   "source": [
    "print(instruction)"
   ]
  },
  {
   "cell_type": "code",
   "execution_count": 36,
   "metadata": {},
   "outputs": [],
   "source": [
    "prompt = PromptTemplate(\n",
    "    template='''\n",
    "    Eres un experto de trading y análisis de mercado. Tu trabajo consiste en elaborar un informe con los tópicos más importantes del siguiente texto:\n",
    "    ------------\n",
    "    {texto}\n",
    "    ------------\n",
    "    Comience el resumen con una \"Introducción\" que ofrezca una visión general del tema seguido por los puntos más importantes (\"Bullet Points\"). Termina el resumen con una conclusión.\n",
    "    **Además, extrae los activos mencionados para invertir y crea una lista separada de los mismos.**\n",
    "    {format_instruction}\n",
    "    Respuesta:''',\n",
    "    input_variables=['texto'],\n",
    "    partial_variables={'format_instruction': parser.get_format_instructions()}\n",
    ")\n",
    "chain = prompt | llm"
   ]
  },
  {
   "cell_type": "code",
   "execution_count": 37,
   "metadata": {},
   "outputs": [
    {
     "name": "stdout",
     "output_type": "stream",
     "text": [
      "bitcoin: long eterno comunitario, todos a la misma crypto | btc | cryptos | etf \\ eth \\ xrp. vamos vamos vamos bitcoin ópera vamos vamos a ganar sí hoy es en ópera no me importa sub baja tengo que respirar solo debo yo aguantar hola mis amigos cómo les va les saluda greg quiroga bienvenidos una vez más a domingo de iglesia cripto gráfica esto es usa crypto noticias gracias a todos los que se están conectando hoy domingo temprano en la madrugada mis amigos que están allá en la cama haciendo raskin ball sí con una mano el control y con la otra haciendo practicando el deporte y el raskin ball que llaman saludos a todos bienvenidos a esta emisión del día de hoy miren cosas importantes del día de hoy se le está pasando el patrón de caída bitcoin en el gráfico diario y no caen muy mucho importante está haciendo un rango por allá ibiña por allá ibiña un ranguiñ ahora me dicen los brasileros por qué me hables brasilero entonces sí un ranguiñ por allá arriba bitcoin muy importante porque se está pasando el tiempo y no cae verdad segundo hoy les tengo un reto a ustedes verdad por si alguien me pregunta que cuál es mi proyección oiga nueva imagen y tal cambiamos para sí sí eh mi proyección es esa la misma en el gráfico semanal para diciembre del 2024 marzo del 2025 a cuanto al precio que usted lo haga feliz pero podría ser el doble del de ahora como mínimo como mínimo como un múltiplo sí lo vi mario gersy tenemos que hablar miren mis amigos todos los que quieran comentar por favor los invito a registrarse suscribirse en el canal para que puedan comentar y desde ya les agradezco su like hoy les tengo un reto cuál reto ustedes me han dicho a mí 1854 veces que por favor que inventemos algo con una moneda todo en grupo hoy vamos a abrir un long eterno grupal para quien quiera asumir el reto no es un consejo de inversión yo les voy a decir cuál moneda escogí porque esto es una democracia de las que no existe sí sí sí sí sí no mentiras porque es una moneda que vamos a analizar aquí en vivo y en directo para ver cómo sería ese long eterno grupal desde ya les digo long eterno con las condiciones de este canal cuáles con los vuelticas con lo que le está sobrando ahí en los exchange yo hoy lo voy a abrir con 50 docos que tengo por ahí mal parqueados en un exchange que están ahí diciéndome y pues qué hacemos con eso segundo muy poco apalancado muy poco 3x máximo para irnos grupal en esto verdad cuál moneda ya les voy a decir porque la vamos a analizar en vivo y en directo en este canal para mirar a ver la razón cuál es listo díganme todos ustedes a ver aquí leo la encuesta porque la encuesta de hoy pregunta eso esp para ver en ópera cómo es vamos vamos vamos bicco no no no no eso en ópera suena mal no suena así como como disco rayab disco de la época de de de chelo el grande más o menos entonces la pregunta para ustedes el día de hoy fue esta le gustaría que toda la comunidad abriera un longue eterno en la misma cripto sí 90 por no 10% recuerden que esto no es un consejo de inversión sino es un intento grupal para mirar a ver qué happen en este mundo verdad entonces ojo con esto vamos a hablar de bitcoin primero y luego vamos a llegar a esa moneda que vamos a analizar ustedes saben que yo llevo en long eterno en este instante bitcoin eion y ahí voy invertido el 250,000 de los 3 pesos que tengo y tengo un sobreviviente por allá que ni lo miro para no asustar para no asustar entonces con gráfico semanal así no cambia ahora vamos a irnos al gráfico diario porque aquí es donde las cosas están very muy mucho interesantes eh vean y si lo pongo aquí un poquitin más cercano ojo con lo que está pasando en el gráfico semanal no la vela está cerrando con bueno cierra más tarde no hay absorción por encima de la de la media de 20 periodos no y como dijo el reggaetonero you know what mean sí eso es bien interesante verdad bien interesante an entonces me voy a ir al gráfico diario de bitcoin y por qué me voy a ir al gráfico diario de bitcoin pero es por esto que les estoy compartiendo hace varios días antes antes de que sucediera antes de que sucediera de que subieran el gráfico de 4 horas hace 3 días y es que mis amigos vean si yo a ustedes les hago el viejo estudio de siempre y es yo les pongo esto acá y usted que me dice qué me dice qué interpretación me me dan ahí de ese macd este es el gráfico diario de bitcoin a ver los leo para hacer esto participativo con usted vos sí señor su like gracias por los likes los de los dislikes hoy no quiero haters váyanse para otro canal que aquí no caben listo eh miren mis amigos qué me interpretan ustedes de eso que les pongo ahí en pantalla para hacer eso participativo y gracias a todos los que están conectados porque vamos a aprender hoy mucho vamos a tratar de ver como yo veo el mercado equivocado como siempre pero pero nos va bien eh saludos desde mario pergolini que me regala el like salvador lra dice faltó apretar la panza para que salga la voz salvador lara respetame pues papá el mentado mw dice carlos jorge carlos jorge se me fue creo que me pareció ver ahí a mi amigo se me escapa el nombre le falta fuerza a la caída dice n silver a ver para se va a voltear pronto valle verde y a subir eso va para arriba dice aprende inglés es no pero háblenme de esto no joda no me interpreten el resto no me hagan entonces que me voy para la casa ya me voy a dormir con debilidad en la bajada dice gabriel gabriel alarcón exacto verdad para baji pero perdiendo fuerza dice alguien por aquí está perdiendo la fuerza de caída dice wilmer es correcto y está bien la interpretación verdad y por cómo est cómo vemos que está perdiendo fuerza de caída bueno el que es la línea amarilla esta está como flecha para abajo yes true pero hay debilidad en el histograma en un patrón que viene hace muchos días verdad qu es debilidad que esos esas rayitas rojas esas barritas rojo oscuro se ponen rosadita sí el color que le gusta harp s rosadito y naranja es el color de harp entonces se pone rosadito verdad eso significa que empieza a haber un poco de debilidad en la caída ahora vamos a poner aquí este muñeco este muñeco y ustedes ven ojo porque esta interpretación es muy importante muy importante esto que les voy a mostrar vamos al macd olvidemos en este instante el rsi y efectivamente ustedes ven que hay caída verdad que ustedes me dicen que hay hay debilidad en el patrón de caída ojo porque si todavía tenemos fuerza para abajo tenemos patrón de caída pero wa a minute voy a ponerle una flecha a usted aquí aquí aquí de arriba para abajo y vamos a interpretar esto listo una vela de indecisión espérate y lo agrandamos aquí para que se vea bien y tal aquí así no más una vela de indecisión esta que usted ve ahí que tocó la ema 200 y rebotó una segunda vela de indecisión que tocó la ema de 200 y ahí quedó el precio en pleno patrón de bajada o sea frenó la caída patrón de bajada y tenemos una vela alcista en el gráfico diario en pleno patrón de bajada con fuerza para abajo tenemos otra vela de indecisión en otro patrón de bajada pero esa vela de indecisión de ayer o de antier va pegada a la de hoy a la cual todavía le faltan 9 horas y es otra vela que no arranca ni para arriba ni para abajo pero estamos en un patrón de caída entonces si no arranca ni para arriba ni para abajo es porque no tiene que arrancar para arriba en ese patrón no en ese patrón se supone que no debería arrancar para arriba sino que debería estar qué cayendo okay entonces vamos a recopilar lo que acabo de decir mis amigos yo no sé que pase más tarde porque el chichar r por allá en en el medio oriente está igualito no o sea para que tengan claro eso y pongan stop loss en todo no no se me confusio no se me confíen listo entonces estamos teniendo en el pleno patrón de caída estamos teniendo una subida what the heck usted sabe qué significa eso o qué significaría cuando se voltee la fuerza porque esto está haciendo un rangu aquí en la parte de arriba verdad hombre de eso yo les hablé hace tres días muestre para ver es que yo no me acuerdo con esa memoria mía a ver a ver déjenme ver aquí el 4 de octubre hoy es s uy aquí es donde no me gusta esto porque entonces no ve no voy a ver las las fechas listo a achicar un poco más listo entonces 4 de octubre del 2024 y qué les decía yo esto antes de que rompiera en 4 horas y tal y para allí y para acá ojo por aquí más o menos si bitcoin sube por aquí bitcoin tendría tiempo de echar un retroceso en el gráfico diario o un rango para seguir subiendo inclusive podría venir a hacer un doble apoyo en el gráfico a la media de 200 en el gráfico diario sin ningún problema sin ningún problema por qué bueno en este instante que estamos viendo vean donde estaba la vela ahí verdad y yo el rango se los pongo por arriba verdad vean donde estaba la vela la mitad ni siquiera se había acercado a la línea azul esa que es la ema 20 vamos a ver la realidad del día de hoy dónde está bitcoin a ver permita un momentico dónde está bitcoin o sea subió y está haciendo el rango que les pongo ahí en la ma20 cuidado porque ese rango es el que yo proyecto desde allá antes de que subiera verdad antes de que subiera y ese rango se está comiendo el tiempo del patrón de del patrón de caída ay ay ay corazón de madera mientras se mantenga por encima de la media de 200 de la ema 200 en el diario y cuando se voltee la fuerza bueno todo eso dispararía el precio así vea a así en el gráfico diario y eso con qué pegaría con un viejo conocido que les tengo a ustedes aquí en nuestro amigo el gráfico semanal cuál viejo conocido ojo con la semana que viene ojo con la semana que viene y voy a decir algo aquí completo y a ver me pongo en pantalla to comple sí si usted ve que pasan 3 cu días más y no cae de forma orgánica una una cosa es que caiga por una noticia y no cae bitcoin de forma orgánica por allá en los próximos 4 días y el tiempo va contando esto puede arrancar hoy no no espere 4 días ya o sea estamos en cuenta regresiva para que arranque un momento de estos si usted ve que no arranca se va a voltear el patrón de subida del gráfico diario y ese patrón de subida del gráfico diario qué va a pegar mi querido amigo con el patrón de subida del gráfico semanal y eso que traduce esto que usted ve aquí a ver se lo pongo eso que traduce esto que usted ve aquí el inicio del bull run se lo digo desde ya la volteada de ese patrón del gráfico diario mientras esté por ese precio significa el inicio del bullrun o del bullrun o del bull whatever que usted le llame o sea la subida el despegue el to moon el como usted le quiera llamar eso es cuando se voltee la fuerza mientras esté por aquí obviamente no si no se despeluca por vea un despeluque de bitcoin en este instante ocurriría solo por algo extraordinario pero orgánicamente uh tiene mucho de donde aguantar por eso les digo podría venir nuevamente a hacer esto que lo aguantaría la ema 200 y ahí no habría ningún tipo de duda entonces ojo porque el patrón de caída le está pasando a bitcoin que fue era lo que les decía hace 3 días podría ser eso verdad y eso para [ __ ] as en muchos pero es algo que tenemos contemplado aquí también como una posibilidad que no nos debería asustar no nos debería asustar nosotros en ese instante estamos jugados en otras palabras mis amigos en el gráfico diario esto ya desde mi punto de de vista va a ser así en el gráfico diario le tengo la flecha en el semanal en el diario también se la estoy poniendo ahora así como se la puse hace días en el gráfico de 4 horas usted va dentro yo noo qué escho querido para el que ayer me dijo que yo me burlaba del aserto argentino no papá yo nací en cómo es que se llama donde nací yo ah en ah caballito no quer caballito en recoleta che josé maría gutiérrez y poir rón ahí nací yo a la vuelta de las heras y poirredon si es una zona play una zona cheto pero qué hacemos nosotros no entonces ojo ojo porque esa flecha del gráfico diario ya la estoy empezando a poner qué haga no sé recoleta sí o no benjamín ahí ahí sí sí sí sí sí ahí cerca de la de la facultad de ingeniería o de arquitectura un edificio viejo tenebroso hay recoleta sí o no cristian ahí están mis amigos los argentinos entonces mis amigos esta es mi proyección de bitcoin gráfico semanal que es la grande no se olviden y exactamente la misma para etherium e tyon está teniendo exactamente el mismo patrón a eum ya no le falta nada para que termine ese patrón de caída del gráfico semanal perdón del gráfico diario nada le falta etherium para que termine ese patrón del gráfico diario ah que haya una recaída que llaman médicamente luciano pavaroti sabe lo que es eso que sí que luciano pavarotti ahí donde está es ginecólogo el único que trabaja donde los demás gozan entonces sí ese luciano que está por ahí me pareció ver la foto entonces eh etherium lo mismo ya etherium está casi listo para foto en el gráfico diario y obviamente en el gráfico semanal etherium es así etherium es así en el gráfico semanal igual que bitcoin okay m listo ahí están mis proyecciones de las de las cosas que yo llevo en long eterno ah y sobra decirle obviamente lo mismo ethereum di dígame si usted no está teniendo un patrón un patrón de su vida en el gráfico deun ay cuando se me doblegue esta fuercita del semanal será un cohe tiño cohe tiño mi querido amigo cohe tiño será sí y venga con su dislike no me importa i don't care sí claro por ahí lo veo mandando dislike no jodas no jodas chelito cicio entonces qué chelito oye me dice holder anónimo profe métele un cocotazo a quién a quién el ingeniero cripto saludos desde argentina qué pasó pablo groso pablo mar groso bueno ahora vamos a la encuesta porque vamos a abrir esa posición en long eterno esa posición en long eterno aquí es democracia yo ya ya hicimos una una votación de cuál posición de long eterno y ya escogimos entre tod es una moneda y esa moneda a mí a mí mi amigo que hace parte de esta comunidad que lo reconocen todos ustedes cheto sí cheto con cara de toca eh miren e ayer matías harp dejaba un comentario que me por si no lo leí en alto lo leí ahí lo vi y matías har decía que sol podría llegar a 600 y y yo me fui tal nos fuimos del stream y yo me quedé pensando y yo hoy dije y qué tal si abrimos en comunidad un long eterno en sol con los vueltos a 13x pero es que ustedes enloquecen y a 3x papá con los vueltos yo sé que todos tenemos ahí todos tenemos ahí unos vuelticas listo por qué vo voy a presentarles primero a mi patrocinador y vengo a analizar qué pasó fov dice greg hbo revelaría la identidad de satoche nakamoto qué me importa fulvio ha no jodas es puro cuento chino ya lo sabría ya sería público antes de ese de ese documental ahora es pura especulación ahí no le pare bolas entonces eso puro clickbait se acordará de mí voy a decirles por qué sol voy a decirles por qué sol pero antes de ir allá permítame compartirles aquí a mi patrocinador number one que se llama bitget bitget es un exchange o bitget es un exchange muy serio y muy responsable por donde yo opero ahí está la mayor cantidad de dinero que yo trabajo en el mercado sí ustedes lo han visto cómo me apoya usted en bitget usted va aquí a la descripción del video sí dije videoo mi querido amigo regale ah no me toca volver a moverme para allá porque ahora no me deja ver la descripción del video no jodas entonces usted ve que hay dice lazo y bitget usted solamente le tiene que ir a dar clic a ese enlace no me toca regresar allá aquel punto yo venía ah novar hoy pero no se puede usted viene a darle clic al enlace ahora salir en el medio no me tocó regresar aquí usted viene y le da click al enlace y usted por favor va y se suscribe y va a empezar a ganar va a empezar a gozar de muchísimos eventos y va a empezar a ganar muchísimos premios y además el 10% de descuento de todas las comisiones que usted normalmente paga vamos a la encuesta a ver si ahora lo puedo leer la encuesta ahora con ese cambio que dice ahí violento dice le gustaría que toda la comunidad abriera un long etero en la misma cripto sí 88 por no 12 por bueno este no es obligación para nada es decisión de cada uno de ustedes no es un consejo de inversión obviamente es un juego ahí de como comunidad tengo 724 votos el 90 por de 724 votos son más o menos como 600 votos o sea 600 votos que sí y 120 que no más o ayre ahora qu dice más o menos es la cuenta que llevo verdad entonces vamos al ruedo vamos a analizar sol y vamos a analizar por qué escogimos si democráticamente sol usted sabe que aquí la democracia vale matías está por ahí ya ahora quedó en medio tal miren vamos a buscar sol empezar a analizar sol en gráfico semanal listo en gráfico semanal de grande a pequeño para ver por qué estamos escogiendo sol si yo me voy aquí a sol usted a sol le ve exactamente lo mismo que a bitcoin verdad olvídese de la exactitud onda uno onda dos onda tres onda 4 honda 5 sol va a ser honda 5 como bitcoin partimos de esa base listo como va a ser onda 5co vamos a analizar que es lo mismo de bitcoin olvídese de la exactitud ahí porque solo hay que mirarla con más cuidado no entonces sol qué está haciendo en este instante sol está haciendo un trianguli trianguli está haciendo sol verdad listo ay olvídese de la exactitud sol qué está haciendo también está teniendo un patrón de retroceso en el gráfico semanal con absorción por la parte baja cómo está el rsi perdón el mcd en sol en el gráfico semanal cómo está el histograma exactamente igual en sol verdad eso parece un calcado un copiado exacto un copy page de bitcoin verdad con un patrón que está a punto de voltearse en el gráfico semanal y cuando se voltee la fuerza queé significará con sol que va a subir junto con bitcoin yo creo que ninguno de ustedes tiene tiene duda de que bitcoin va a subir verdad creo que no y el que la tenga pues bueno ahí estamos pensando totalmente diferente entonces en el gráfico semanal ya vemos que sol va a subir vamos a hacerle el mismo juego que a bitcoin ayer y vamos a mirar a ver alguna línea de tendencia de sol no la tiene porque sol viene de un alto más alto que un alto más alto que que el actual verdad listo chévere pero eso significa que sol como mínimo como mínimo podría llegar aquí a su máximo anterior aunque matías es más optimista y lo manda a 600 como mínimo sol en el gráfico semanal podría llegar a su máximo anterior que en cuánto está aquí lo ponemos 248 y actualmente está en 144 el doble casi el doble verdad no entonces podría ser un lcito interno bien very mucho interesante hay otros que podrían dar mayor rentabilidad pero no es a lo que le estoy jugando sino le estoy jugando al un movimiento que claramente desde mi análisis y proyección está plenamente identificado ay sol podría irse más arriba como dice har a los 600 verdad qué se hecho querido entonces vamos a ir a ver ahora el gráfico diario de sol gráfico diario de sol y vamos a volver aquí borro todo bórralo bórralo bórralo ya listo y vamos entonces qué está está teniendo sol en el gráfico diario lo mismo que bitcoin vean aquí no miren el rsi que por estos días el rsi no es no es ideal para esta entrada sol está teniendo lo mismo inició debilidad en el histograma tiene fuerza para abajo también sol igual que bitcoin pero sol en todo este patrón de caída hombre está exactamente igual que bitcoin subiendo mientras tenemos un patrón de caída y se está posicionando por encima de la ema 200 o sea yo a sol desde ya lo empiezo a dejar así ay que puede tener un retroceso a la ema 200 magnífico hágalo nuevamente sol y tal no me importa listo entonces yo ya tengo qué mis amigos yo ya tengo claro que sol va a subir al igual que bitcoin yo desde mi análisis y proyección si otro piensa lo mismo lo respeto así como ustedes deben respetar lo mío verdad por eso recuerden que esto no es una camisa de fuerza entonces va a subir en el semanal y en el diario y en el semanal ya es para el bull rom de sol o sea llegar a ese máximo podría quedarse pero recontra corto verdad listo ahora voy a irme al gráfico de 4 horas de sol ustedes están viendo u uy uy uyuu vea sol va a ser así así o dependiendo de la fuerza sol podría ser así ya así yo en este instante no doy más explicación y voy a irme porque se me ha subido mientras he estado hablando voy a irme a abrir mil lón eterno de sol con cuánto poquito tengo unos vueltos mis amigos ahí ahora si me da la posibilidad de engordar más la posición en ese retroceso que va a tener después de romper la ema 200 en el gráfico de 4 horas vamos a buscar sol aquí vea futuros perpetuos mis queridos amigos futuros perpetuos cuánto hay ahí vean que estoy hablando de los vueltos mis amigos 8 que estaban por ahí mal parqueados y yo ah qué [ __ ] pues vamos a abrir un long eterno en para ver cómo nos va entonces vamos a buscar sol y si me da la posibilidad en el camino recuerden lo que yo hago no yo empiezo a construir la posición sol usdt para que el que me pregunta cómo se abre un long eterno lo está viendo y está viendo qué analizo yo y todo llegué a sol llegué a sol listo perfecto entonces vamos a mirar sol el apalancamiento cómo está cruzado no me sirve entonces voy en aislado quien quiera utilizarlo en cruzado pues allá usted yo no tengo problema ni voy a discutir con absolutamente nada con nadie verdad a ver cambie papá oh está necio este muchacho ajá aislado ahora el apalancamiento a 3x dejen el hambre dejen el hambre para que sobrevivan 3x listo confirmar el apalancamiento listo confirmado entonces ahí tengo ni siquiera voy a buscar una mejor entrada en mar que lo meto packi abrir long abrir long ahora les voy a explicar eso que escucharon ustedes que se acaba de abrir un long eterno en sol si se dan cuenta y me van a seguir en esto yo no me sobre apalanque así esté con 8 regreso al análisis de sol sol en eh y si todos ustedes empiezan a meterle va pumpear rápido entonces sol tiene que hacer así en todo este trayecto yo podría meterle unos pesitos a3x yo en este instante ustedes están dando cuenta que estoy utilizando unos vueltos yo ahí no le estoy metiendo nada ustedes saben que en lo que voy yo he invertido ya verdad unos vueltos unos un cambio unos centavos yo ahí me meto sin stop los 8 los pierdo en caso ah pero a dónde tiene que ir sol para liquidarme vamos a chequear hasta dónde tendría que ir para liquidarme sol la caída de sol debería ser hasta los 97 para liquidarme posible claro todo es posible la vida verdad entonces por eso me meto ahí sin stop los ahí está sol subiendo y bitcoin va a subir y todo va a subir va a iniciar todo un doble valle verde como ustedes lo están viendo en solo ya ven entonces mis queridos amigos acabo de meterme en sol díganme ustedes qué acaban de hacer 730 votos 400 50 likes esto lo estoy haciendo porque muchos de ustedes me estaban pidiendo hace rato que abriéramos una pero entonces conseguí una moneda buena si se dan cuenta no estamos metiendo en mugre manu gracias por su super chat yo abrí un long eterno en nave dice manu okay dale manu a de las que va a subir listo entonces por favor a3x lo que vayan a hacer a3x para sobrevivir 3x lo están haciendo a 3x a conciencia díganme ustedes por favor díganme ustedes ya díganme ustedes a 3x no me hagan trampa por favor no se hagan trampa no a mí a ustedes ay porque luego viene un matracas y lo jode ay que es que y luego aparece betti ay es que usted no sé qu má a 3x ustedes ven que yo a 3x voy relajado verdad julis dice sola dentro ahora luna no jodas ulis yuri ingresado robaina ingresado eh risa dice yo entré en sol hace 3 días a 3x claudio adrián dice quema el sol pibe eh zakar juaco sía 3x s dice profe una duda en tal caso que btc no baje más podríamos sumarle más dinero es que yo a las posiciones de long eterno le sumo cuando estoy en pérdida no en ganancia mi amigo eh ahí está el el primero es que ahí es donde se joden ustedes mismos no jason jason se metió a 10x no jason pero bueno allá tú eh mirna dice sí a 3x a 3x da tiempo de reacción dice mi amigo bastián gomi lo van a [ __ ] a 75x ahí hace un retroceso y mañana le diré bastián gómez lo jodieron verdad a 6x es que ahí es donde ustedes la embarran o yo no sé si me están jodiendo ya eh no así no es ya tengo sol dice chelo el grande bastián gómez está loco eh reinaldo almaguer gracias por su super chat amigo mío olga molina dice a 3x sergio güémez dice profe 5x considerando que es sobre apalancado sí en este instante sí es que vean ahí donde está no se compra ahí donde está no se compra verdad por eso es que yo le estoy metiendo a 3x porque estoy en plena en plena en plena ema 200 entonces ahí no se compra ah pero el que quiere ir a 75 tiene un retroceso y lo garchan ah ya no se ven los lados de lo garchan no ya no se ven los toc así de lado lo garchan sí lo garchan casemiro ent sola 1x dice wi indígena bien entré a saga con 7 eh ahora es donde hay que usar esos vuelticas a uno siempre le queda unos vuelticas en los exchange y aprovechar entonces si a mí sol en todo este trayecto de subida y retroceso me da tiempo pues yo miro a ver si construyo ahí algo de 200 300 hay tiempito verdad vamos vamos vamos vamos sol no no no vo a decir que vamos a entrar porque lo entonces mis amigos ya saben no daniel pineda 10x no sean locos es que ustedes ahí es donde donde nos jodemos verdad si es un tema comunitario hagámoslo bien hagámoslo bien cristiano crero dice b a 3x ahí estamos acompañando con sola 50 exacto y vamos a ver como comunidad dónde llegamos con eso y además miramos a ver si cerramos todo todos al tiempo o qué eso querido ya ven a ver mis amigos yo hace rato acabé yo solamente quería mostrarles eso aquí ahora solo me queda leerlos [ __ ] con ustedes bienvenidos a domingo de iglesia criptográfica el tema en medio oriente continúa medio candela así que lo que ya lleven armado por favor stop los a precio de entrada vea yo todavía no he podido poner stop loss a precio de entrada en este long eterno pero yo creo que ya va en ganancias ya va en verde el long eterno de iium que tengo en bin x aquí está el long eterno de ya va en verde después de muchos días ya que estuvo como $800 800 en pérdidas recuerden que tengo otro patrocinador que se llama bin x bin x es un exchange que me patrocina desde hace 2 años mis amigos bin x x es elch más amigable con las personas que hablan español en este mundo y en el otro sí señor cómo me apoya usted en bin x usted por favor va aquí a la descripción del video y ahí donde dice enlace bin x solamente tiene que ir a darle clic al darle al enlace usted por favor va y se registre y va a empezar a gozar hasta estos regalan hasta locas preñadas en el parque sí ahí en el parque principal de su pueblo ahí regalan hasta locas preñadas por favor regístrese en bin x para que me apoyen que yo estoy aquí para apoyarlos todos los santos días por favor ahora ahora díganme ustedes eh qué más profe ya abrieron una profe es la que vamos a abrir pablo domínguez como comunidad esa de ahí para allá todos ustedes deben mirar a ver hagan el mismo análisis es que el análisis ya está hecho en el gráfico semanal lo que pasa es que el bombazo de qué días tumbó todo ceballos dice que vamos a 85000 nico one dice a ver nico one dice se me fue nico one no jodas se me fue nico one eh bueno hoy se mueve hoy el mercado se mueve hoy se mueve hoy se mueve verdad solana mi caballito ganador vea y hoy que es ese es el ese es el tril matías har hoy no está no se han dado cuenta que matías har los domingos no viene borracho a esta hora está matías har todavía no ha llegado a la casa debra dice profe se me fue debra rayando el sol o y de cómo es es más fácil llegar al sol que a tu corazón tengo que bajar el tono lo estoy cantando en do mayor tengo que bajarlo a la s músico y entonces poco de vaina bien full consuelo dice profe y cómo nos van a ayudar a los que no sabemos poner long eterno porque la idea está super buena consuelo pero es que lo acaba de ver en vivo y en directo es solamente iniciar un long aislado con muy poco dinero a 3x sino devuelva al video que me vio abrirlo en vivo y en directo consuelo gabriel garcía dice me quedarán 305x guardé 50 está por si baja ángel cuzco dice que entren todos para subir sol no no lo vamos a alcanzar a mover no sol tiene mucha capitalización de mercado eh pero pero sí tiene una muy buena proyección salió el sol en la comunidad cool st dice la canción para sol rayando el sol o e desesperación sí es más fácil llegar al sol que esperar bitcoin no no no esa no rayando el sol rayando s sí ahí llegó la canción ful la mandó a ver carlos j dice entiendo que semanalmente sig patrón de su vida aunque por otro lado veo que mensualmente hay una caída qué piensa de ello no yo mensualmente comp contrario a lo que usted dice yo no veo caída en el mensual yo no ya yo no porque usted me va a decir porque es que usted ve el macd eh el histograma hacia abajo vea papá vea este histograma hacia abajo y esto no cayó verdad entonces ojo porque ustedes a veces son muy literales leyendo leyendo los indicadores ya eso es como si yo te dijera no que cada vez que llega al rs en la parte de arriba acá de una vez vea eso se llama cabalgar por la parte de arriba del rs y por qué lo hace cuando está muy alcista hay indicadores que empiezan a verse diferente listo carlos jorge nico juan dice saludos profe profe querido ya le escribo de nuevo dale nico one y por qué qué pasó ambar dice se va 600 un rato con esa comunidad es zakari dice a la noche profe aparece el chinito para bajarlo a 60 bueno zakari que aparezca que aparezca el chinito el hijo loco del jeque árabe el que sea eso no lo podemos controlar nosotros verdad zakari ahora si usted cree que a la noche aparece el chinito métase en short y me cuenta cómo le fue mañana listo buenos dí amigos sol de salsa dice cool stff franco de vita dice profe yo abrí long desde los 137 va volando no francos javier mon dice buen día profe ya algunos les gusta exagerar con las x sí sí hablando\n"
     ]
    }
   ],
   "source": [
    "texto_ejemplo = df.text.iloc[0]\n",
    "print(texto_ejemplo)"
   ]
  },
  {
   "cell_type": "code",
   "execution_count": 38,
   "metadata": {},
   "outputs": [],
   "source": [
    "output = chain.invoke({'texto': texto_ejemplo})"
   ]
  },
  {
   "cell_type": "code",
   "execution_count": 39,
   "metadata": {},
   "outputs": [
    {
     "name": "stdout",
     "output_type": "stream",
     "text": [
      "```json\n",
      "{\n",
      "  \"resumen\": \"El contenido proporcionado parece ser una discusión en vivo sobre estrategias de inversión, específicamente enfocándose en el trading del activo Solana (SOL). Los participantes comparten ideas y dudas sobre cómo realizar inversiones a largo plazo y el manejo de riesgos asociados con fluctuaciones significativas en los precios.\",\n",
      "  \"puntos_importantes\": [\n",
      "    \"Bastian menciona que está aprendiendo sobre inversión a largo plazo, indicando una estrategia de 'hodl' para soportar caídas del 70%.\",\n",
      "    \"El tema central es la inversión en el activo Solana (SOL), discutiendo el impacto potencial de movimientos significativos en su precio.\",\n",
      "    \"Se aconseja realizar inversiones de prueba, como un 'long eterno', para aprender a manejar emociones durante las caídas del mercado.\",\n",
      "    \"La conversación también incluye consejos sobre cómo empezar con pequeñas cantidades de dinero y aumentar gradualmente la inversión conforme se gana experiencia.\",\n",
      "    \"Se discute el impacto psicológico de ver una reducción significativa en el valor de las inversiones, usando como ejemplo la caída del 70% en Solana.\",\n",
      "    \"Los participantes intercambian experiencias personales sobre el manejo de pérdidas y cómo esto afecta su confianza para realizar inversiones futuras.\",\n",
      "    \"Se destacan los riesgos asociados con la inversión en criptomonedas, resaltando la importancia de entender los movimientos del mercado y adaptar las estrategias en consecuencia.\"\n",
      "  ],\n",
      "  \"conclusion\": \"La discusión ofrece una visión integral sobre el aprendizaje y manejo emocional necesario para invertir a largo plazo en criptomonedas, subrayando la importancia de comenzar con inversiones pequeñas y aumentarlas conforme se adquiere experiencia. Destaca los desafíos psicológicos asociados con las fluctuaciones del mercado y enfatiza el valor de compartir experiencias y estrategias dentro de una comunidad.\",\n",
      "  \"activos_mencionados\": [\n",
      "    \"Solana (SOL)\"\n",
      "  ]\n",
      "}\n",
      "```\n"
     ]
    }
   ],
   "source": [
    "print(output.content)"
   ]
  },
  {
   "cell_type": "code",
   "execution_count": 29,
   "metadata": {},
   "outputs": [
    {
     "name": "stdout",
     "output_type": "stream",
     "text": [
      "resumen=\"El texto proporciona un resumen de una discusión en vivo sobre estrategias de inversión, centrándose principalmente en la implementación y observaciones del 'long eterno' o 'long aislado'. La conversación aborda técnicas para invertir con poco capital, el comportamiento histórico de los activos y consideraciones estratégicas.\" puntos_importantes=['La importancia de iniciar un long aislado con pequeñas cantidades de dinero se destaca como una estrategia para minimizar riesgos.', \"El 'long eterno' es una estrategia que busca aprovechar tendencias alcistas prolongadas, comenzando en niveles bajos y manteniendo la posición durante largos períodos.\", 'Los participantes discuten el comportamiento de activos específicos como Solana (SOL) y Bitcoin, analizando su potencial de crecimiento y capitalización de mercado.', 'Se recomienda no intentar alcanzar picos muy altos de precios inmediatamente, sino centrarse en objetivos más realistas a corto plazo para lograr ganancias.', 'Los participantes expresan diferentes opiniones sobre la confiabilidad de ciertos indicadores técnicos y su interpretación.', \"Se menciona el potencial del mercado cripto en general y se discuten estrategias específicas como entrar en 'short' anticipándose a posibles caídas.\"] conclusion='El diálogo sugiere que un enfoque cuidadoso y bien planificado al implementar longs aislados puede ser beneficioso para los inversores, incluso con recursos limitados. La diversificación de estrategias y la consideración de indicadores técnicos son clave para navegar el mercado cripto.' activos_mencionados=['Solana (SOL)', 'Bitcoin']\n"
     ]
    }
   ],
   "source": [
    "chain = prompt | llm | parser\n",
    "output = chain.invoke({'texto': texto_ejemplo})\n",
    "print(output)"
   ]
  },
  {
   "cell_type": "markdown",
   "metadata": {},
   "source": [
    "### Parsing with `.with_structured_output()` method\n",
    "- This method takes a schema as input which specifies the names, types, and descriptions of the desired output attributes.\n",
    "-  The schema can be specified as a TypedDict class, JSON Schema or a Pydantic class.\n"
   ]
  },
  {
   "cell_type": "code",
   "execution_count": 62,
   "metadata": {},
   "outputs": [],
   "source": [
    "model = 'llama3.2:3b'\n",
    "\n",
    "llm = ChatOllama(base_url=base_url, model=model)\n",
    "structured_llm = llm.with_structured_output(ResumenTranscripcion)"
   ]
  },
  {
   "cell_type": "code",
   "execution_count": 58,
   "metadata": {},
   "outputs": [],
   "source": [
    "prompt ='''Eres un experto de trading y análisis de mercado. Tu trabajo consiste en elaborar un informe con los tópicos más importantes del siguiente texto:\n",
    "    ------------\n",
    "    {texto}\n",
    "    ------------\n",
    "    Comience el resumen con una \"Introducción\" que ofrezca una visión general del tema seguido por los puntos más importantes (\"Bullet Points\"). Termina el resumen con una conclusión.\n",
    "    **Además, extrae los activos mencionados para invertir y crea una lista separada de los mismos.**\n",
    "    Respuesta:'''\n",
    "\n",
    "template = ChatPromptTemplate.from_template(prompt)"
   ]
  },
  {
   "cell_type": "code",
   "execution_count": 60,
   "metadata": {},
   "outputs": [
    {
     "data": {
      "text/plain": [
       "ChatPromptValue(messages=[HumanMessage(content='Eres un experto de trading y análisis de mercado. Tu trabajo consiste en elaborar un informe con los tópicos más importantes del siguiente texto:\\n    ------------\\n    bitcoin: long eterno comunitario, todos a la misma crypto | btc | cryptos | etf \\\\ eth \\\\ xrp. vamos vamos vamos bitcoin ópera vamos vamos a ganar sí hoy es en ópera no me importa sub baja tengo que respirar solo debo yo aguantar hola mis amigos cómo les va les saluda greg quiroga bienvenidos una vez más a domingo de iglesia cripto gráfica esto es usa crypto noticias gracias a todos los que se están conectando hoy domingo temprano en la madrugada mis amigos que están allá en la cama haciendo raskin ball sí con una mano el control y con la otra haciendo practicando el deporte y el raskin ball que llaman saludos a todos bienvenidos a esta emisión del día de hoy miren cosas importantes del día de hoy se le está pasando el patrón de caída bitcoin en el gráfico diario y no caen muy mucho importante está haciendo un rango por allá ibiña por allá ibiña un ranguiñ ahora me dicen los brasileros por qué me hables brasilero entonces sí un ranguiñ por allá arriba bitcoin muy importante porque se está pasando el tiempo y no cae verdad segundo hoy les tengo un reto a ustedes verdad por si alguien me pregunta que cuál es mi proyección oiga nueva imagen y tal cambiamos para sí sí eh mi proyección es esa la misma en el gráfico semanal para diciembre del 2024 marzo del 2025 a cuanto al precio que usted lo haga feliz pero podría ser el doble del de ahora como mínimo como mínimo como un múltiplo sí lo vi mario gersy tenemos que hablar miren mis amigos todos los que quieran comentar por favor los invito a registrarse suscribirse en el canal para que puedan comentar y desde ya les agradezco su like hoy les tengo un reto cuál reto ustedes me han dicho a mí 1854 veces que por favor que inventemos algo con una moneda todo en grupo hoy vamos a abrir un long eterno grupal para quien quiera asumir el reto no es un consejo de inversión yo les voy a decir cuál moneda escogí porque esto es una democracia de las que no existe sí sí sí sí sí no mentiras porque es una moneda que vamos a analizar aquí en vivo y en directo para ver cómo sería ese long eterno grupal desde ya les digo long eterno con las condiciones de este canal cuáles con los vuelticas con lo que le está sobrando ahí en los exchange yo hoy lo voy a abrir con 50 docos que tengo por ahí mal parqueados en un exchange que están ahí diciéndome y pues qué hacemos con eso segundo muy poco apalancado muy poco 3x máximo para irnos grupal en esto verdad cuál moneda ya les voy a decir porque la vamos a analizar en vivo y en directo en este canal para mirar a ver la razón cuál es listo díganme todos ustedes a ver aquí leo la encuesta porque la encuesta de hoy pregunta eso esp para ver en ópera cómo es vamos vamos vamos bicco no no no no eso en ópera suena mal no suena así como como disco rayab disco de la época de de de chelo el grande más o menos entonces la pregunta para ustedes el día de hoy fue esta le gustaría que toda la comunidad abriera un longue eterno en la misma cripto sí 90 por no 10% recuerden que esto no es un consejo de inversión sino es un intento grupal para mirar a ver qué happen en este mundo verdad entonces ojo con esto vamos a hablar de bitcoin primero y luego vamos a llegar a esa moneda que vamos a analizar ustedes saben que yo llevo en long eterno en este instante bitcoin eion y ahí voy invertido el 250,000 de los 3 pesos que tengo y tengo un sobreviviente por allá que ni lo miro para no asustar para no asustar entonces con gráfico semanal así no cambia ahora vamos a irnos al gráfico diario porque aquí es donde las cosas están very muy mucho interesantes eh vean y si lo pongo aquí un poquitin más cercano ojo con lo que está pasando en el gráfico semanal no la vela está cerrando con bueno cierra más tarde no hay absorción por encima de la de la media de 20 periodos no y como dijo el reggaetonero you know what mean sí eso es bien interesante verdad bien interesante an entonces me voy a ir al gráfico diario de bitcoin y por qué me voy a ir al gráfico diario de bitcoin pero es por esto que les estoy compartiendo hace varios días antes antes de que sucediera antes de que sucediera de que subieran el gráfico de 4 horas hace 3 días y es que mis amigos vean si yo a ustedes les hago el viejo estudio de siempre y es yo les pongo esto acá y usted que me dice qué me dice qué interpretación me me dan ahí de ese macd este es el gráfico diario de bitcoin a ver los leo para hacer esto participativo con usted vos sí señor su like gracias por los likes los de los dislikes hoy no quiero haters váyanse para otro canal que aquí no caben listo eh miren mis amigos qué me interpretan ustedes de eso que les pongo ahí en pantalla para hacer eso participativo y gracias a todos los que están conectados porque vamos a aprender hoy mucho vamos a tratar de ver como yo veo el mercado equivocado como siempre pero pero nos va bien eh saludos desde mario pergolini que me regala el like salvador lra dice faltó apretar la panza para que salga la voz salvador lara respetame pues papá el mentado mw dice carlos jorge carlos jorge se me fue creo que me pareció ver ahí a mi amigo se me escapa el nombre le falta fuerza a la caída dice n silver a ver para se va a voltear pronto valle verde y a subir eso va para arriba dice aprende inglés es no pero háblenme de esto no joda no me interpreten el resto no me hagan entonces que me voy para la casa ya me voy a dormir con debilidad en la bajada dice gabriel gabriel alarcón exacto verdad para baji pero perdiendo fuerza dice alguien por aquí está perdiendo la fuerza de caída dice wilmer es correcto y está bien la interpretación verdad y por cómo est cómo vemos que está perdiendo fuerza de caída bueno el que es la línea amarilla esta está como flecha para abajo yes true pero hay debilidad en el histograma en un patrón que viene hace muchos días verdad qu es debilidad que esos esas rayitas rojas esas barritas rojo oscuro se ponen rosadita sí el color que le gusta harp s rosadito y naranja es el color de harp entonces se pone rosadito verdad eso significa que empieza a haber un poco de debilidad en la caída ahora vamos a poner aquí este muñeco este muñeco y ustedes ven ojo porque esta interpretación es muy importante muy importante esto que les voy a mostrar vamos al macd olvidemos en este instante el rsi y efectivamente ustedes ven que hay caída verdad que ustedes me dicen que hay hay debilidad en el patrón de caída ojo porque si todavía tenemos fuerza para abajo tenemos patrón de caída pero wa a minute voy a ponerle una flecha a usted aquí aquí aquí de arriba para abajo y vamos a interpretar esto listo una vela de indecisión espérate y lo agrandamos aquí para que se vea bien y tal aquí así no más una vela de indecisión esta que usted ve ahí que tocó la ema 200 y rebotó una segunda vela de indecisión que tocó la ema de 200 y ahí quedó el precio en pleno patrón de bajada o sea frenó la caída patrón de bajada y tenemos una vela alcista en el gráfico diario en pleno patrón de bajada con fuerza para abajo tenemos otra vela de indecisión en otro patrón de bajada pero esa vela de indecisión de ayer o de antier va pegada a la de hoy a la cual todavía le faltan 9 horas y es otra vela que no arranca ni para arriba ni para abajo pero estamos en un patrón de caída entonces si no arranca ni para arriba ni para abajo es porque no tiene que arrancar para arriba en ese patrón no en ese patrón se supone que no debería arrancar para arriba sino que debería estar qué cayendo okay entonces vamos a recopilar lo que acabo de decir mis amigos yo no sé que pase más tarde porque el chichar r por allá en en el medio oriente está igualito no o sea para que tengan claro eso y pongan stop loss en todo no no se me confusio no se me confíen listo entonces estamos teniendo en el pleno patrón de caída estamos teniendo una subida what the heck usted sabe qué significa eso o qué significaría cuando se voltee la fuerza porque esto está haciendo un rangu aquí en la parte de arriba verdad hombre de eso yo les hablé hace tres días muestre para ver es que yo no me acuerdo con esa memoria mía a ver a ver déjenme ver aquí el 4 de octubre hoy es s uy aquí es donde no me gusta esto porque entonces no ve no voy a ver las las fechas listo a achicar un poco más listo entonces 4 de octubre del 2024 y qué les decía yo esto antes de que rompiera en 4 horas y tal y para allí y para acá ojo por aquí más o menos si bitcoin sube por aquí bitcoin tendría tiempo de echar un retroceso en el gráfico diario o un rango para seguir subiendo inclusive podría venir a hacer un doble apoyo en el gráfico a la media de 200 en el gráfico diario sin ningún problema sin ningún problema por qué bueno en este instante que estamos viendo vean donde estaba la vela ahí verdad y yo el rango se los pongo por arriba verdad vean donde estaba la vela la mitad ni siquiera se había acercado a la línea azul esa que es la ema 20 vamos a ver la realidad del día de hoy dónde está bitcoin a ver permita un momentico dónde está bitcoin o sea subió y está haciendo el rango que les pongo ahí en la ma20 cuidado porque ese rango es el que yo proyecto desde allá antes de que subiera verdad antes de que subiera y ese rango se está comiendo el tiempo del patrón de del patrón de caída ay ay ay corazón de madera mientras se mantenga por encima de la media de 200 de la ema 200 en el diario y cuando se voltee la fuerza bueno todo eso dispararía el precio así vea a así en el gráfico diario y eso con qué pegaría con un viejo conocido que les tengo a ustedes aquí en nuestro amigo el gráfico semanal cuál viejo conocido ojo con la semana que viene ojo con la semana que viene y voy a decir algo aquí completo y a ver me pongo en pantalla to comple sí si usted ve que pasan 3 cu días más y no cae de forma orgánica una una cosa es que caiga por una noticia y no cae bitcoin de forma orgánica por allá en los próximos 4 días y el tiempo va contando esto puede arrancar hoy no no espere 4 días ya o sea estamos en cuenta regresiva para que arranque un momento de estos si usted ve que no arranca se va a voltear el patrón de subida del gráfico diario y ese patrón de subida del gráfico diario qué va a pegar mi querido amigo con el patrón de subida del gráfico semanal y eso que traduce esto que usted ve aquí a ver se lo pongo eso que traduce esto que usted ve aquí el inicio del bull run se lo digo desde ya la volteada de ese patrón del gráfico diario mientras esté por ese precio significa el inicio del bullrun o del bullrun o del bull whatever que usted le llame o sea la subida el despegue el to moon el como usted le quiera llamar eso es cuando se voltee la fuerza mientras esté por aquí obviamente no si no se despeluca por vea un despeluque de bitcoin en este instante ocurriría solo por algo extraordinario pero orgánicamente uh tiene mucho de donde aguantar por eso les digo podría venir nuevamente a hacer esto que lo aguantaría la ema 200 y ahí no habría ningún tipo de duda entonces ojo porque el patrón de caída le está pasando a bitcoin que fue era lo que les decía hace 3 días podría ser eso verdad y eso para [ __ ] as en muchos pero es algo que tenemos contemplado aquí también como una posibilidad que no nos debería asustar no nos debería asustar nosotros en ese instante estamos jugados en otras palabras mis amigos en el gráfico diario esto ya desde mi punto de de vista va a ser así en el gráfico diario le tengo la flecha en el semanal en el diario también se la estoy poniendo ahora así como se la puse hace días en el gráfico de 4 horas usted va dentro yo noo qué escho querido para el que ayer me dijo que yo me burlaba del aserto argentino no papá yo nací en cómo es que se llama donde nací yo ah en ah caballito no quer caballito en recoleta che josé maría gutiérrez y poir rón ahí nací yo a la vuelta de las heras y poirredon si es una zona play una zona cheto pero qué hacemos nosotros no entonces ojo ojo porque esa flecha del gráfico diario ya la estoy empezando a poner qué haga no sé recoleta sí o no benjamín ahí ahí sí sí sí sí sí ahí cerca de la de la facultad de ingeniería o de arquitectura un edificio viejo tenebroso hay recoleta sí o no cristian ahí están mis amigos los argentinos entonces mis amigos esta es mi proyección de bitcoin gráfico semanal que es la grande no se olviden y exactamente la misma para etherium e tyon está teniendo exactamente el mismo patrón a eum ya no le falta nada para que termine ese patrón de caída del gráfico semanal perdón del gráfico diario nada le falta etherium para que termine ese patrón del gráfico diario ah que haya una recaída que llaman médicamente luciano pavaroti sabe lo que es eso que sí que luciano pavarotti ahí donde está es ginecólogo el único que trabaja donde los demás gozan entonces sí ese luciano que está por ahí me pareció ver la foto entonces eh etherium lo mismo ya etherium está casi listo para foto en el gráfico diario y obviamente en el gráfico semanal etherium es así etherium es así en el gráfico semanal igual que bitcoin okay m listo ahí están mis proyecciones de las de las cosas que yo llevo en long eterno ah y sobra decirle obviamente lo mismo ethereum di dígame si usted no está teniendo un patrón un patrón de su vida en el gráfico deun ay cuando se me doblegue esta fuercita del semanal será un cohe tiño cohe tiño mi querido amigo cohe tiño será sí y venga con su dislike no me importa i don\\'t care sí claro por ahí lo veo mandando dislike no jodas no jodas chelito cicio entonces qué chelito oye me dice holder anónimo profe métele un cocotazo a quién a quién el ingeniero cripto saludos desde argentina qué pasó pablo groso pablo mar groso bueno ahora vamos a la encuesta porque vamos a abrir esa posición en long eterno esa posición en long eterno aquí es democracia yo ya ya hicimos una una votación de cuál posición de long eterno y ya escogimos entre tod es una moneda y esa moneda a mí a mí mi amigo que hace parte de esta comunidad que lo reconocen todos ustedes cheto sí cheto con cara de toca eh miren e ayer matías harp dejaba un comentario que me por si no lo leí en alto lo leí ahí lo vi y matías har decía que sol podría llegar a 600 y y yo me fui tal nos fuimos del stream y yo me quedé pensando y yo hoy dije y qué tal si abrimos en comunidad un long eterno en sol con los vueltos a 13x pero es que ustedes enloquecen y a 3x papá con los vueltos yo sé que todos tenemos ahí todos tenemos ahí unos vuelticas listo por qué vo voy a presentarles primero a mi patrocinador y vengo a analizar qué pasó fov dice greg hbo revelaría la identidad de satoche nakamoto qué me importa fulvio ha no jodas es puro cuento chino ya lo sabría ya sería público antes de ese de ese documental ahora es pura especulación ahí no le pare bolas entonces eso puro clickbait se acordará de mí voy a decirles por qué sol voy a decirles por qué sol pero antes de ir allá permítame compartirles aquí a mi patrocinador number one que se llama bitget bitget es un exchange o bitget es un exchange muy serio y muy responsable por donde yo opero ahí está la mayor cantidad de dinero que yo trabajo en el mercado sí ustedes lo han visto cómo me apoya usted en bitget usted va aquí a la descripción del video sí dije videoo mi querido amigo regale ah no me toca volver a moverme para allá porque ahora no me deja ver la descripción del video no jodas entonces usted ve que hay dice lazo y bitget usted solamente le tiene que ir a dar clic a ese enlace no me toca regresar allá aquel punto yo venía ah novar hoy pero no se puede usted viene a darle clic al enlace ahora salir en el medio no me tocó regresar aquí usted viene y le da click al enlace y usted por favor va y se suscribe y va a empezar a ganar va a empezar a gozar de muchísimos eventos y va a empezar a ganar muchísimos premios y además el 10% de descuento de todas las comisiones que usted normalmente paga vamos a la encuesta a ver si ahora lo puedo leer la encuesta ahora con ese cambio que dice ahí violento dice le gustaría que toda la comunidad abriera un long etero en la misma cripto sí 88 por no 12 por bueno este no es obligación para nada es decisión de cada uno de ustedes no es un consejo de inversión obviamente es un juego ahí de como comunidad tengo 724 votos el 90 por de 724 votos son más o menos como 600 votos o sea 600 votos que sí y 120 que no más o ayre ahora qu dice más o menos es la cuenta que llevo verdad entonces vamos al ruedo vamos a analizar sol y vamos a analizar por qué escogimos si democráticamente sol usted sabe que aquí la democracia vale matías está por ahí ya ahora quedó en medio tal miren vamos a buscar sol empezar a analizar sol en gráfico semanal listo en gráfico semanal de grande a pequeño para ver por qué estamos escogiendo sol si yo me voy aquí a sol usted a sol le ve exactamente lo mismo que a bitcoin verdad olvídese de la exactitud onda uno onda dos onda tres onda 4 honda 5 sol va a ser honda 5 como bitcoin partimos de esa base listo como va a ser onda 5co vamos a analizar que es lo mismo de bitcoin olvídese de la exactitud ahí porque solo hay que mirarla con más cuidado no entonces sol qué está haciendo en este instante sol está haciendo un trianguli trianguli está haciendo sol verdad listo ay olvídese de la exactitud sol qué está haciendo también está teniendo un patrón de retroceso en el gráfico semanal con absorción por la parte baja cómo está el rsi perdón el mcd en sol en el gráfico semanal cómo está el histograma exactamente igual en sol verdad eso parece un calcado un copiado exacto un copy page de bitcoin verdad con un patrón que está a punto de voltearse en el gráfico semanal y cuando se voltee la fuerza queé significará con sol que va a subir junto con bitcoin yo creo que ninguno de ustedes tiene tiene duda de que bitcoin va a subir verdad creo que no y el que la tenga pues bueno ahí estamos pensando totalmente diferente entonces en el gráfico semanal ya vemos que sol va a subir vamos a hacerle el mismo juego que a bitcoin ayer y vamos a mirar a ver alguna línea de tendencia de sol no la tiene porque sol viene de un alto más alto que un alto más alto que que el actual verdad listo chévere pero eso significa que sol como mínimo como mínimo podría llegar aquí a su máximo anterior aunque matías es más optimista y lo manda a 600 como mínimo sol en el gráfico semanal podría llegar a su máximo anterior que en cuánto está aquí lo ponemos 248 y actualmente está en 144 el doble casi el doble verdad no entonces podría ser un lcito interno bien very mucho interesante hay otros que podrían dar mayor rentabilidad pero no es a lo que le estoy jugando sino le estoy jugando al un movimiento que claramente desde mi análisis y proyección está plenamente identificado ay sol podría irse más arriba como dice har a los 600 verdad qué se hecho querido entonces vamos a ir a ver ahora el gráfico diario de sol gráfico diario de sol y vamos a volver aquí borro todo bórralo bórralo bórralo ya listo y vamos entonces qué está está teniendo sol en el gráfico diario lo mismo que bitcoin vean aquí no miren el rsi que por estos días el rsi no es no es ideal para esta entrada sol está teniendo lo mismo inició debilidad en el histograma tiene fuerza para abajo también sol igual que bitcoin pero sol en todo este patrón de caída hombre está exactamente igual que bitcoin subiendo mientras tenemos un patrón de caída y se está posicionando por encima de la ema 200 o sea yo a sol desde ya lo empiezo a dejar así ay que puede tener un retroceso a la ema 200 magnífico hágalo nuevamente sol y tal no me importa listo entonces yo ya tengo qué mis amigos yo ya tengo claro que sol va a subir al igual que bitcoin yo desde mi análisis y proyección si otro piensa lo mismo lo respeto así como ustedes deben respetar lo mío verdad por eso recuerden que esto no es una camisa de fuerza entonces va a subir en el semanal y en el diario y en el semanal ya es para el bull rom de sol o sea llegar a ese máximo podría quedarse pero recontra corto verdad listo ahora voy a irme al gráfico de 4 horas de sol ustedes están viendo u uy uy uyuu vea sol va a ser así así o dependiendo de la fuerza sol podría ser así ya así yo en este instante no doy más explicación y voy a irme porque se me ha subido mientras he estado hablando voy a irme a abrir mil lón eterno de sol con cuánto poquito tengo unos vueltos mis amigos ahí ahora si me da la posibilidad de engordar más la posición en ese retroceso que va a tener después de romper la ema 200 en el gráfico de 4 horas vamos a buscar sol aquí vea futuros perpetuos mis queridos amigos futuros perpetuos cuánto hay ahí vean que estoy hablando de los vueltos mis amigos 8 que estaban por ahí mal parqueados y yo ah qué [ __ ] pues vamos a abrir un long eterno en para ver cómo nos va entonces vamos a buscar sol y si me da la posibilidad en el camino recuerden lo que yo hago no yo empiezo a construir la posición sol usdt para que el que me pregunta cómo se abre un long eterno lo está viendo y está viendo qué analizo yo y todo llegué a sol llegué a sol listo perfecto entonces vamos a mirar sol el apalancamiento cómo está cruzado no me sirve entonces voy en aislado quien quiera utilizarlo en cruzado pues allá usted yo no tengo problema ni voy a discutir con absolutamente nada con nadie verdad a ver cambie papá oh está necio este muchacho ajá aislado ahora el apalancamiento a 3x dejen el hambre dejen el hambre para que sobrevivan 3x listo confirmar el apalancamiento listo confirmado entonces ahí tengo ni siquiera voy a buscar una mejor entrada en mar que lo meto packi abrir long abrir long ahora les voy a explicar eso que escucharon ustedes que se acaba de abrir un long eterno en sol si se dan cuenta y me van a seguir en esto yo no me sobre apalanque así esté con 8 regreso al análisis de sol sol en eh y si todos ustedes empiezan a meterle va pumpear rápido entonces sol tiene que hacer así en todo este trayecto yo podría meterle unos pesitos a3x yo en este instante ustedes están dando cuenta que estoy utilizando unos vueltos yo ahí no le estoy metiendo nada ustedes saben que en lo que voy yo he invertido ya verdad unos vueltos unos un cambio unos centavos yo ahí me meto sin stop los 8 los pierdo en caso ah pero a dónde tiene que ir sol para liquidarme vamos a chequear hasta dónde tendría que ir para liquidarme sol la caída de sol debería ser hasta los 97 para liquidarme posible claro todo es posible la vida verdad entonces por eso me meto ahí sin stop los ahí está sol subiendo y bitcoin va a subir y todo va a subir va a iniciar todo un doble valle verde como ustedes lo están viendo en solo ya ven entonces mis queridos amigos acabo de meterme en sol díganme ustedes qué acaban de hacer 730 votos 400 50 likes esto lo estoy haciendo porque muchos de ustedes me estaban pidiendo hace rato que abriéramos una pero entonces conseguí una moneda buena si se dan cuenta no estamos metiendo en mugre manu gracias por su super chat yo abrí un long eterno en nave dice manu okay dale manu a de las que va a subir listo entonces por favor a3x lo que vayan a hacer a3x para sobrevivir 3x lo están haciendo a 3x a conciencia díganme ustedes por favor díganme ustedes ya díganme ustedes a 3x no me hagan trampa por favor no se hagan trampa no a mí a ustedes ay porque luego viene un matracas y lo jode ay que es que y luego aparece betti ay es que usted no sé qu má a 3x ustedes ven que yo a 3x voy relajado verdad julis dice sola dentro ahora luna no jodas ulis yuri ingresado robaina ingresado eh risa dice yo entré en sol hace 3 días a 3x claudio adrián dice quema el sol pibe eh zakar juaco sía 3x s dice profe una duda en tal caso que btc no baje más podríamos sumarle más dinero es que yo a las posiciones de long eterno le sumo cuando estoy en pérdida no en ganancia mi amigo eh ahí está el el primero es que ahí es donde se joden ustedes mismos no jason jason se metió a 10x no jason pero bueno allá tú eh mirna dice sí a 3x a 3x da tiempo de reacción dice mi amigo bastián gomi lo van a [ __ ] a 75x ahí hace un retroceso y mañana le diré bastián gómez lo jodieron verdad a 6x es que ahí es donde ustedes la embarran o yo no sé si me están jodiendo ya eh no así no es ya tengo sol dice chelo el grande bastián gómez está loco eh reinaldo almaguer gracias por su super chat amigo mío olga molina dice a 3x sergio güémez dice profe 5x considerando que es sobre apalancado sí en este instante sí es que vean ahí donde está no se compra ahí donde está no se compra verdad por eso es que yo le estoy metiendo a 3x porque estoy en plena en plena en plena ema 200 entonces ahí no se compra ah pero el que quiere ir a 75 tiene un retroceso y lo garchan ah ya no se ven los lados de lo garchan no ya no se ven los toc así de lado lo garchan sí lo garchan casemiro ent sola 1x dice wi indígena bien entré a saga con 7 eh ahora es donde hay que usar esos vuelticas a uno siempre le queda unos vuelticas en los exchange y aprovechar entonces si a mí sol en todo este trayecto de subida y retroceso me da tiempo pues yo miro a ver si construyo ahí algo de 200 300 hay tiempito verdad vamos vamos vamos vamos sol no no no vo a decir que vamos a entrar porque lo entonces mis amigos ya saben no daniel pineda 10x no sean locos es que ustedes ahí es donde donde nos jodemos verdad si es un tema comunitario hagámoslo bien hagámoslo bien cristiano crero dice b a 3x ahí estamos acompañando con sola 50 exacto y vamos a ver como comunidad dónde llegamos con eso y además miramos a ver si cerramos todo todos al tiempo o qué eso querido ya ven a ver mis amigos yo hace rato acabé yo solamente quería mostrarles eso aquí ahora solo me queda leerlos [ __ ] con ustedes bienvenidos a domingo de iglesia criptográfica el tema en medio oriente continúa medio candela así que lo que ya lleven armado por favor stop los a precio de entrada vea yo todavía no he podido poner stop loss a precio de entrada en este long eterno pero yo creo que ya va en ganancias ya va en verde el long eterno de iium que tengo en bin x aquí está el long eterno de ya va en verde después de muchos días ya que estuvo como $800 800 en pérdidas recuerden que tengo otro patrocinador que se llama bin x bin x es un exchange que me patrocina desde hace 2 años mis amigos bin x x es elch más amigable con las personas que hablan español en este mundo y en el otro sí señor cómo me apoya usted en bin x usted por favor va aquí a la descripción del video y ahí donde dice enlace bin x solamente tiene que ir a darle clic al darle al enlace usted por favor va y se registre y va a empezar a gozar hasta estos regalan hasta locas preñadas en el parque sí ahí en el parque principal de su pueblo ahí regalan hasta locas preñadas por favor regístrese en bin x para que me apoyen que yo estoy aquí para apoyarlos todos los santos días por favor ahora ahora díganme ustedes eh qué más profe ya abrieron una profe es la que vamos a abrir pablo domínguez como comunidad esa de ahí para allá todos ustedes deben mirar a ver hagan el mismo análisis es que el análisis ya está hecho en el gráfico semanal lo que pasa es que el bombazo de qué días tumbó todo ceballos dice que vamos a 85000 nico one dice a ver nico one dice se me fue nico one no jodas se me fue nico one eh bueno hoy se mueve hoy el mercado se mueve hoy se mueve hoy se mueve verdad solana mi caballito ganador vea y hoy que es ese es el ese es el tril matías har hoy no está no se han dado cuenta que matías har los domingos no viene borracho a esta hora está matías har todavía no ha llegado a la casa debra dice profe se me fue debra rayando el sol o y de cómo es es más fácil llegar al sol que a tu corazón tengo que bajar el tono lo estoy cantando en do mayor tengo que bajarlo a la s músico y entonces poco de vaina bien full consuelo dice profe y cómo nos van a ayudar a los que no sabemos poner long eterno porque la idea está super buena consuelo pero es que lo acaba de ver en vivo y en directo es solamente iniciar un long aislado con muy poco dinero a 3x sino devuelva al video que me vio abrirlo en vivo y en directo consuelo gabriel garcía dice me quedarán 305x guardé 50 está por si baja ángel cuzco dice que entren todos para subir sol no no lo vamos a alcanzar a mover no sol tiene mucha capitalización de mercado eh pero pero sí tiene una muy buena proyección salió el sol en la comunidad cool st dice la canción para sol rayando el sol o e desesperación sí es más fácil llegar al sol que esperar bitcoin no no no esa no rayando el sol rayando s sí ahí llegó la canción ful la mandó a ver carlos j dice entiendo que semanalmente sig patrón de su vida aunque por otro lado veo que mensualmente hay una caída qué piensa de ello no yo mensualmente comp contrario a lo que usted dice yo no veo caída en el mensual yo no ya yo no porque usted me va a decir porque es que usted ve el macd eh el histograma hacia abajo vea papá vea este histograma hacia abajo y esto no cayó verdad entonces ojo porque ustedes a veces son muy literales leyendo leyendo los indicadores ya eso es como si yo te dijera no que cada vez que llega al rs en la parte de arriba acá de una vez vea eso se llama cabalgar por la parte de arriba del rs y por qué lo hace cuando está muy alcista hay indicadores que empiezan a verse diferente listo carlos jorge nico juan dice saludos profe profe querido ya le escribo de nuevo dale nico one y por qué qué pasó ambar dice se va 600 un rato con esa comunidad es zakari dice a la noche profe aparece el chinito para bajarlo a 60 bueno zakari que aparezca que aparezca el chinito el hijo loco del jeque árabe el que sea eso no lo podemos controlar nosotros verdad zakari ahora si usted cree que a la noche aparece el chinito métase en short y me cuenta cómo le fue mañana listo buenos dí amigos sol de salsa dice cool stff franco de vita dice profe yo abrí long desde los 137 va volando no francos javier mon dice buen día profe ya algunos les gusta exagerar con las x sí sí hablando\\n    ------------\\n    Comience el resumen con una \"Introducción\" que ofrezca una visión general del tema seguido por los puntos más importantes (\"Bullet Points\"). Termina el resumen con una conclusión.\\n    **Además, extrae los activos mencionados para invertir y crea una lista separada de los mismos.**\\n    Respuesta:', additional_kwargs={}, response_metadata={})])"
      ]
     },
     "execution_count": 60,
     "metadata": {},
     "output_type": "execute_result"
    }
   ],
   "source": [
    "query =template.invoke({\"texto\":texto_ejemplo})\n",
    "query"
   ]
  },
  {
   "cell_type": "code",
   "execution_count": 63,
   "metadata": {},
   "outputs": [],
   "source": [
    "chain = template | structured_llm"
   ]
  },
  {
   "cell_type": "code",
   "execution_count": 64,
   "metadata": {},
   "outputs": [
    {
     "name": "stdout",
     "output_type": "stream",
     "text": [
      "None\n"
     ]
    }
   ],
   "source": [
    "output = chain.invoke({\"texto\":texto_ejemplo})\n",
    "print(output)"
   ]
  },
  {
   "cell_type": "markdown",
   "metadata": {},
   "source": [
    "### `JSON` Output Parser"
   ]
  },
  {
   "cell_type": "markdown",
   "metadata": {},
   "source": [
    "- Output parsers accept a string or BaseMessage as input and can return an arbitrary type.\n",
    "\n"
   ]
  },
  {
   "cell_type": "code",
   "execution_count": 68,
   "metadata": {},
   "outputs": [],
   "source": [
    "from langchain_core.output_parsers import JsonOutputParser"
   ]
  },
  {
   "cell_type": "code",
   "execution_count": 69,
   "metadata": {},
   "outputs": [
    {
     "name": "stdout",
     "output_type": "stream",
     "text": [
      "The output should be formatted as a JSON instance that conforms to the JSON schema below.\n",
      "\n",
      "As an example, for the schema {\"properties\": {\"foo\": {\"title\": \"Foo\", \"description\": \"a list of strings\", \"type\": \"array\", \"items\": {\"type\": \"string\"}}}, \"required\": [\"foo\"]}\n",
      "the object {\"foo\": [\"bar\", \"baz\"]} is a well-formatted instance of the schema. The object {\"properties\": {\"foo\": [\"bar\", \"baz\"]}} is not well-formatted.\n",
      "\n",
      "Here is the output schema:\n",
      "```\n",
      "{\"properties\": {\"resumen\": {\"description\": \"Introducción que ofrece una visión general del tema\", \"title\": \"Resumen\", \"type\": \"string\"}, \"puntos_importantes\": {\"description\": \"Lista de los puntos más importantes ('Bullet Points')\", \"items\": {\"type\": \"string\"}, \"title\": \"Puntos Importantes\", \"type\": \"array\"}, \"conclusion\": {\"description\": \"Conclusión del resumen\", \"title\": \"Conclusion\", \"type\": \"string\"}, \"activos_mencionados\": {\"anyOf\": [{\"items\": {\"type\": \"string\"}, \"type\": \"array\"}, {\"type\": \"null\"}], \"default\": null, \"description\": \"Lista de los activos mencionados para invertir\", \"title\": \"Activos Mencionados\"}}, \"required\": [\"resumen\", \"puntos_importantes\", \"conclusion\"]}\n",
      "```\n"
     ]
    }
   ],
   "source": [
    "parser = JsonOutputParser(pydantic_object=ResumenTranscripcion)\n",
    "print(parser.get_format_instructions())"
   ]
  },
  {
   "cell_type": "code",
   "execution_count": 75,
   "metadata": {},
   "outputs": [],
   "source": [
    "prompt = PromptTemplate(\n",
    "    template='''Eres un experto de trading y análisis de mercado. Tu trabajo consiste en elaborar un informe con los tópicos más importantes del siguiente texto:\n",
    "    ------------\n",
    "    {texto}\n",
    "    ------------\n",
    "    Comience el resumen con una \"Introducción\" que ofrezca una visión general del tema seguido por los puntos más importantes (\"Bullet Points\"). Termina el resumen con una conclusión.\n",
    "    **Además, extrae los activos mencionados para invertir y crea una lista separada de los mismos.**\n",
    "    Aqui estan tus intrucciones de formato de salida:\n",
    "    {format_instruction}\n",
    "    Respuesta:''',\n",
    "    input_variables=['texto'],\n",
    "    partial_variables={'format_instruction': parser.get_format_instructions()}\n",
    ")"
   ]
  },
  {
   "cell_type": "code",
   "execution_count": 76,
   "metadata": {},
   "outputs": [],
   "source": [
    "prompt_v2 = PromptTemplate(\n",
    "    template='''\n",
    "    Eres un experto de trading y análisis de mercado. Tu trabajo consiste en elaborar un informe con los tópicos más importantes del siguiente texto.\n",
    "    Comience el resumen con una \"Introducción\" que ofrezca una visión general del tema seguido por los puntos más importantes (\"Bullet Points\"). Termina el resumen con una conclusión.\n",
    "    **Además, extrae los activos mencionados para invertir y crea una lista separada de los mismos.**\n",
    "    Aqui estan tus intrucciones de formato de salida:\n",
    "    {format_instruction}\n",
    "    ------------\n",
    "    texto: {texto}\n",
    "    ------------\n",
    "    Respuesta:''',\n",
    "    input_variables=['texto'],\n",
    "    partial_variables={'format_instruction': parser.get_format_instructions()}\n",
    ")"
   ]
  },
  {
   "cell_type": "code",
   "execution_count": 77,
   "metadata": {},
   "outputs": [],
   "source": [
    "model = 'phi4:latest'#'llama3.2:3b'\n",
    "\n",
    "llm = ChatOllama(base_url=base_url, model=model)"
   ]
  },
  {
   "cell_type": "code",
   "execution_count": 78,
   "metadata": {},
   "outputs": [
    {
     "name": "stdout",
     "output_type": "stream",
     "text": [
      "```json\n",
      "{\n",
      "  \"resumen\": \"El discurso se centra en la discusión de inversiones financieras, específicamente el manejo y estrategias para operar con criptomonedas como Solana. Se resalta la importancia del análisis técnico, tales como el uso del histograma MACD, y se proporcionan consejos sobre cómo abordar las tendencias del mercado en momentos de alta volatilidad.\",\n",
      "  \"puntos_importantes\": [\n",
      "    \"Básicamente, hay una discusión sobre estrategias para invertir en criptomonedas a través del uso de operaciones aisladas y posiciones de 'long'.\",\n",
      "    \"Se resalta la importancia de usar herramientas como el histograma MACD para analizar tendencias en los mercados.\",\n",
      "    \"El discurso también aborda la volatilidad y cómo ciertos activos pueden experimentar fluctuaciones rápidas de precios, destacando la necesidad de estar preparado para tales situaciones.\",\n",
      "    \"Se menciona que invertir en criptomonedas puede ofrecer oportunidades significativas pero conlleva un alto riesgo debido a su naturaleza volátil.\",\n",
      "    \"Hay referencias a los mercados alcistas y cómo ciertos indicadores pueden interpretarse de manera diferente en diferentes contextos del mercado.\"\n",
      "  ],\n",
      "  \"conclusion\": \"En conclusión, el discurso proporciona consejos prácticos para la inversión en criptomonedas, enfatizando el uso de análisis técnico y estrategias adaptativas ante las fluctuaciones del mercado. La preparación adecuada y un entendimiento profundo de los indicadores son esenciales para navegar este ámbito financiero.\",\n",
      "  \"activos_mencionados\": [\n",
      "    \"Solana\",\n",
      "    \"Bitcoin\"\n",
      "  ]\n",
      "}\n",
      "```\n"
     ]
    }
   ],
   "source": [
    "\n",
    "chain = prompt | llm\n",
    "output = chain.invoke({\"texto\":texto_ejemplo})\n",
    "print(output.content)"
   ]
  },
  {
   "cell_type": "code",
   "execution_count": 79,
   "metadata": {},
   "outputs": [
    {
     "name": "stdout",
     "output_type": "stream",
     "text": [
      "{'resumen': 'El resumen proporciona una discusión detallada sobre estrategias de inversión, con un enfoque en el análisis técnico y la gestión del riesgo. Varios participantes comparten sus experiencias e ideas sobre cómo invertir efectivamente utilizando diferentes activos.', 'puntos_importantes': ['La importancia de iniciar una posición larga (long) aislada con un pequeño capital, sugiriendo usar 3x para mitigar riesgos.', 'Discusión en torno al análisis técnico y cómo interpretar indicadores como el MACD y el histograma, enfatizando la necesidad de no leer los indicadores de manera literal.', 'Mencionada una proyección positiva para un activo llamado Sol, resaltando su capitalización de mercado y potencial de crecimiento.', 'La comunidad intercambia tácticas sobre cuándo invertir o cortar posiciones, subrayando la importancia del seguimiento constante y adaptativo.', 'Se discute la incertidumbre en los movimientos del mercado debido a fuerzas externas impredecibles, sugiriendo estrategias para aprovechar las caídas potenciales.'], 'conclusion': 'El resumen destaca la complejidad de invertir con éxito en el mercado y subraya la importancia de un análisis cuidadoso, gestión del riesgo y adaptabilidad a las condiciones cambiantes. La comunidad comparte experiencias prácticas y estrategias para maximizar los rendimientos potenciales.', 'activos_mencionados': ['Sol', 'Bitcoin']}\n"
     ]
    }
   ],
   "source": [
    "chain = prompt | llm | parser\n",
    "output = chain.invoke({\"texto\":texto_ejemplo})\n",
    "print(output)"
   ]
  },
  {
   "cell_type": "markdown",
   "metadata": {},
   "source": [
    "### CSV Output Parser"
   ]
  },
  {
   "cell_type": "markdown",
   "metadata": {},
   "source": [
    "- This output parser can be used when you want to return a list of comma-separated items.\n",
    "\n"
   ]
  },
  {
   "cell_type": "code",
   "execution_count": 80,
   "metadata": {},
   "outputs": [
    {
     "name": "stdout",
     "output_type": "stream",
     "text": [
      "Your response should be a list of comma separated values, eg: `foo, bar, baz` or `foo,bar,baz`\n"
     ]
    }
   ],
   "source": [
    "# value1, values2, values3, so on\n",
    "\n",
    "from langchain_core.output_parsers import CommaSeparatedListOutputParser\n",
    "\n",
    "parser = CommaSeparatedListOutputParser()\n",
    "\n",
    "print(parser.get_format_instructions())"
   ]
  },
  {
   "cell_type": "code",
   "execution_count": 81,
   "metadata": {},
   "outputs": [],
   "source": [
    "format_instruction = parser.get_format_instructions()\n",
    "\n",
    "prompt = PromptTemplate(\n",
    "    template='''\n",
    "    Answer the user query with a list of values. Here is your formatting instruction.\n",
    "    {format_instruction}\n",
    "\n",
    "    Query: {query}\n",
    "    Answer:''',\n",
    "    input_variables=['query'],\n",
    "    partial_variables={'format_instruction': format_instruction}\n",
    ")   "
   ]
  },
  {
   "cell_type": "code",
   "execution_count": 82,
   "metadata": {},
   "outputs": [
    {
     "name": "stdout",
     "output_type": "stream",
     "text": [
      "['Natural Language Processing', 'Large Language Models', 'NLP Techniques', 'LLM Applications', 'AI in Linguistics', 'Machine Learning for Text Analysis', 'Conversational Agents', 'Semantic Analysis', 'Text Summarization', 'Sentiment Analysis', 'Speech Recognition', 'Language Translation', 'Chatbots', 'Natural Language Understanding', 'Dialogue Systems', 'Transformer Models', 'BERT', 'GPT', 'Contextual Embeddings', 'NLP Tools', 'LLM Frameworks', 'AI-driven Communication', 'Text Classification', 'Named Entity Recognition', 'Machine Learning Algorithms for NLP', 'Deep Learning in NLP', 'Language Model Training', 'Data Annotation for NLP', 'NLP Libraries and APIs', 'LLM Research', 'Natural Language Generation', 'Question Answering Systems', 'Semantic Parsing', 'Syntax Analysis', 'Computational Linguistics', 'Predictive Text Modeling']\n"
     ]
    }
   ],
   "source": [
    "chain = prompt | llm | parser\n",
    "\n",
    "output = chain.invoke({'query': 'generate my website seo keywords. I have content about the NLP and LLM.'})\n",
    "print(output)"
   ]
  },
  {
   "cell_type": "markdown",
   "metadata": {},
   "source": [
    "### Datatime Output Parser"
   ]
  },
  {
   "cell_type": "markdown",
   "metadata": {},
   "source": [
    "- Gives output in datetime format. Sometimes throws error if the LLM output is not in datetime format."
   ]
  },
  {
   "cell_type": "code",
   "execution_count": 83,
   "metadata": {},
   "outputs": [],
   "source": [
    "from langchain.output_parsers import DatetimeOutputParser"
   ]
  },
  {
   "cell_type": "code",
   "execution_count": 84,
   "metadata": {},
   "outputs": [
    {
     "name": "stdout",
     "output_type": "stream",
     "text": [
      "Write a datetime string that matches the following pattern: '%Y-%m-%dT%H:%M:%S.%fZ'.\n",
      "\n",
      "Examples: 0719-03-29T07:27:22.420670Z, 0412-10-14T02:43:44.992807Z, 1268-07-28T08:02:00.620018Z\n",
      "\n",
      "Return ONLY this string, no other words!\n"
     ]
    }
   ],
   "source": [
    "parser = DatetimeOutputParser()\n",
    "\n",
    "format_instruction = parser.get_format_instructions()\n",
    "print(format_instruction)"
   ]
  },
  {
   "cell_type": "code",
   "execution_count": 85,
   "metadata": {},
   "outputs": [],
   "source": [
    "prompt = PromptTemplate(\n",
    "    template='''\n",
    "    Answer the user query with a datetime. Here is your formatting instruction.\n",
    "    {format_instruction}\n",
    "\n",
    "    Query: {query}\n",
    "    Answer:''',\n",
    "    input_variables=['query'],\n",
    "    partial_variables={'format_instruction': format_instruction}\n",
    ")"
   ]
  },
  {
   "cell_type": "code",
   "execution_count": 86,
   "metadata": {},
   "outputs": [],
   "source": [
    "chain = prompt | llm | parser"
   ]
  },
  {
   "cell_type": "code",
   "execution_count": 90,
   "metadata": {},
   "outputs": [
    {
     "name": "stdout",
     "output_type": "stream",
     "text": [
      "1492-10-12 00:00:00\n"
     ]
    }
   ],
   "source": [
    "output = chain.invoke({'query': 'when the America got discovered?'})\n",
    "\n",
    "print(output)"
   ]
  }
 ],
 "metadata": {
  "kernelspec": {
   "display_name": ".venv",
   "language": "python",
   "name": "python3"
  },
  "language_info": {
   "codemirror_mode": {
    "name": "ipython",
    "version": 3
   },
   "file_extension": ".py",
   "mimetype": "text/x-python",
   "name": "python",
   "nbconvert_exporter": "python",
   "pygments_lexer": "ipython3",
   "version": "3.12.4"
  }
 },
 "nbformat": 4,
 "nbformat_minor": 2
}
