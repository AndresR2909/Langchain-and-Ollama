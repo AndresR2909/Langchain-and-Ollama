{
 "cells": [
  {
   "cell_type": "markdown",
   "metadata": {},
   "source": [
    "## Langchain Expression Language Basics"
   ]
  },
  {
   "cell_type": "markdown",
   "metadata": {},
   "source": [
    "-  LangChain Expression Language is that any two runnables can be \"chained\" together into sequences. \n",
    "- The output of the previous runnable's .invoke() call is passed as input to the next runnable.\n",
    "- This can be done using the pipe operator (|), or the more explicit .pipe() method, which does the same thing."
   ]
  },
  {
   "cell_type": "markdown",
   "metadata": {},
   "source": [
    "- Type of LCEL Chains\n",
    "    - SequentialChain\n",
    "    - Parallel Chain\n",
    "    - Router Chain\n",
    "    - Chain Runnables\n",
    "    - Custom Chain (Runnable Sequence)"
   ]
  },
  {
   "cell_type": "code",
   "execution_count": 1,
   "metadata": {},
   "outputs": [
    {
     "data": {
      "text/plain": [
       "True"
      ]
     },
     "execution_count": 1,
     "metadata": {},
     "output_type": "execute_result"
    }
   ],
   "source": [
    "from dotenv import load_dotenv\n",
    "\n",
    "load_dotenv('./../../.env')"
   ]
  },
  {
   "cell_type": "markdown",
   "metadata": {},
   "source": [
    "### Sequential LCEL Chain"
   ]
  },
  {
   "cell_type": "code",
   "execution_count": 2,
   "metadata": {},
   "outputs": [
    {
     "data": {
      "text/plain": [
       "ChatOllama(model='llama3.2:3b', base_url='http://localhost:11434')"
      ]
     },
     "execution_count": 2,
     "metadata": {},
     "output_type": "execute_result"
    }
   ],
   "source": [
    "from langchain_ollama import ChatOllama\n",
    "from langchain_core.prompts import (\n",
    "                                        SystemMessagePromptTemplate,\n",
    "                                        HumanMessagePromptTemplate,\n",
    "                                        ChatPromptTemplate\n",
    "                                        )\n",
    "\n",
    "base_url = \"http://localhost:11434\"\n",
    "model = 'llama3.2:3b'\n",
    "\n",
    "llm = ChatOllama(base_url=base_url, model=model)\n",
    "llm"
   ]
  },
  {
   "cell_type": "code",
   "execution_count": 3,
   "metadata": {},
   "outputs": [
    {
     "name": "stdout",
     "output_type": "stream",
     "text": [
      "Claro, aquí te presento 5 puntos clave sobre el Sistema Solar:\n",
      "\n",
      "1. **Definición**: El Sistema Solar es la colección de planetas, lunas, asteroides y cometas que orbitan alrededor del Sol.\n",
      "\n",
      "2. **Componentes principales**: \n",
      "   - El Sol (núcleo) \n",
      "   - 8 planetas (Mercurio, Venus, Tierra, Marte, Júpiter, Saturno, Urano y Neptuno)\n",
      "   - Lunas de estos planetas\n",
      "\n",
      "3. **Orbita**: Cada planeta sigue una órbita alrededor del Sol debido a la fuerza gravitatoria.\n",
      "\n",
      "4. **Estructura**: El Sistema Solar se divide en 2 zonas principales: \n",
      "   - La zona interna (Mercurio y Venus)\n",
      "   - La zona externa (Júpiter, Saturno, Urano y Neptuno)\n",
      "\n",
      "5. **Importancia**: Es fundamental para entender el lugar de nuestro planeta, la Tierra, en el universo y nuestra posición en el Sistema Solar.\n"
     ]
    }
   ],
   "source": [
    "system = SystemMessagePromptTemplate.from_template('Eres un profesor de {school}. Genera respuestas cortas.')\n",
    "\n",
    "question = HumanMessagePromptTemplate.from_template('dime acerca de {topics} en {points} puntos')\n",
    "\n",
    "\n",
    "messages = [system, question]\n",
    "template = ChatPromptTemplate(messages)\n",
    "\n",
    "question = template.invoke({'school': 'primaria', 'topics': 'sistema solar', 'points': 5})\n",
    "\n",
    "response = llm.invoke(question)\n",
    "print(response.content)    "
   ]
  },
  {
   "cell_type": "code",
   "execution_count": 4,
   "metadata": {},
   "outputs": [],
   "source": [
    "chain = template | llm"
   ]
  },
  {
   "cell_type": "code",
   "execution_count": 5,
   "metadata": {},
   "outputs": [
    {
     "name": "stdout",
     "output_type": "stream",
     "text": [
      "Aquí te presento 5 puntos clave sobre el Sistema Solar:\n",
      "\n",
      "1. **Definición**: El Sistema Solar es la colectividad de planetas, lunas y demás objetos que orbitan alrededor del Sol.\n",
      "\n",
      "2. **Orbita del Sol**: El Sol se encuentra en el centro del Sistema Solar y es la fuente de luz y calor para todos los planetas y objetos que lo rodean.\n",
      "\n",
      "3. **Planetas principales**: Los 8 planetas más grandes del Sistema Solar, en orden desde la más cercana al Sol, son Mercurio, Venus, Tierra, Marte, Júpiter, Saturno, Urano y Neptuno.\n",
      "\n",
      "4. **Satélites**: Cada planeta tiene sus propios satélites, como Luna (la luna de la Tierra), que orbitan alrededor de ellos.\n",
      "\n",
      "5. **Objetos restantes**: El Sistema Solar también incluye asteroides, cometas y otros objetos menores que orbitan el Sol o los planetas.\n"
     ]
    }
   ],
   "source": [
    "response = chain.invoke({'school': 'primaria', 'topics': 'sistema solar', 'points': 5})\n",
    "print(response.content)"
   ]
  },
  {
   "cell_type": "code",
   "execution_count": 6,
   "metadata": {},
   "outputs": [
    {
     "name": "stdout",
     "output_type": "stream",
     "text": [
      "Aquí te presento los 5 puntos clave sobre el Sistema Solar:\n",
      "\n",
      "1. **Definición**: El Sistema Solar es la colección de planetas, lunas, asteroides, cometas y otros objetos que orbitan alrededor del Sol.\n",
      "\n",
      "2. **Origen**: Se cree que el Sistema Solar se formó hace aproximadamente 4.600 millones de años a partir de una nube de gas y polvo.\n",
      "\n",
      "3. **Componentes principales**: El Sistema Solar comprende: el Sol (el centro), los planetas Mercurio, Venus, Tierra, Marte, Júpiter, Saturno, Urano y Neptuno, así como sus respectivas lunas.\n",
      "\n",
      "4. **Escala**: La distancia entre el Sol y cada planeta varía desde aproximadamente 58 millones de kilómetros (Mercurio) hasta 1,4 billones de kilómetros (Neptuno).\n",
      "\n",
      "5. **Evolución**: El Sistema Solar ha cambiado con el tiempo debido a la accionar de fuerzas como la gravedad y las colisiones entre objetos en orbita.\n"
     ]
    }
   ],
   "source": [
    "response = chain.invoke({'school': 'posgrado', 'topics': 'sistema solar', 'points': 5})\n",
    "print(response.content)"
   ]
  },
  {
   "cell_type": "code",
   "execution_count": 7,
   "metadata": {},
   "outputs": [
    {
     "data": {
      "text/plain": [
       "AIMessage(content='Aquí te presento los 5 puntos clave sobre el Sistema Solar:\\n\\n1. **Definición**: El Sistema Solar es la colección de planetas, lunas, asteroides, cometas y otros objetos que orbitan alrededor del Sol.\\n\\n2. **Origen**: Se cree que el Sistema Solar se formó hace aproximadamente 4.600 millones de años a partir de una nube de gas y polvo.\\n\\n3. **Componentes principales**: El Sistema Solar comprende: el Sol (el centro), los planetas Mercurio, Venus, Tierra, Marte, Júpiter, Saturno, Urano y Neptuno, así como sus respectivas lunas.\\n\\n4. **Escala**: La distancia entre el Sol y cada planeta varía desde aproximadamente 58 millones de kilómetros (Mercurio) hasta 1,4 billones de kilómetros (Neptuno).\\n\\n5. **Evolución**: El Sistema Solar ha cambiado con el tiempo debido a la accionar de fuerzas como la gravedad y las colisiones entre objetos en orbita.', additional_kwargs={}, response_metadata={'model': 'llama3.2:3b', 'created_at': '2025-01-13T22:25:37.669251Z', 'message': {'role': 'assistant', 'content': ''}, 'done_reason': 'stop', 'done': True, 'total_duration': 4685795917, 'load_duration': 15321459, 'prompt_eval_count': 53, 'prompt_eval_duration': 73000000, 'eval_count': 236, 'eval_duration': 4596000000}, id='run-868f07b5-8c18-4091-a17a-f82656dd7e7f-0', usage_metadata={'input_tokens': 53, 'output_tokens': 236, 'total_tokens': 289})"
      ]
     },
     "execution_count": 7,
     "metadata": {},
     "output_type": "execute_result"
    }
   ],
   "source": [
    "response"
   ]
  },
  {
   "cell_type": "code",
   "execution_count": 9,
   "metadata": {},
   "outputs": [],
   "source": [
    "from langchain_core.output_parsers import StrOutputParser"
   ]
  },
  {
   "cell_type": "code",
   "execution_count": 10,
   "metadata": {},
   "outputs": [
    {
     "name": "stdout",
     "output_type": "stream",
     "text": [
      "Claro, aquí te presento 5 puntos clave sobre el Sistema Solar:\n",
      "\n",
      "1. **Definición**: El Sistema Solar es la colección de planetas, lunas, asteroides, cometas y otras regiones del espacio que orbitan alrededor del Sol.\n",
      "\n",
      "2. **Componentes**: Los componentes principales son: \n",
      "   - Mercurio\n",
      "   - Venus\n",
      "   - Tierra\n",
      "   - Marte\n",
      "   - Júpiter\n",
      "   - Saturno\n",
      "   - Urano\n",
      "   - Neptuno\n",
      "\n",
      "3. **Estructura**: El Sistema Solar se puede dividir en 3 regiones principales:\n",
      "   - **Zona interna**: Mercurio, Venus y Tierra.\n",
      "   - **Zona del Sol**: La Tierra y los asteroides.\n",
      "   - **Zona externa**: Los planetas gasosos (Júpiter, Saturno) y Neptuno.\n",
      "\n",
      "4. **Formación**: Se cree que el Sistema Solar se formó hace unos 4,600 millones de años a partir de una nube de gas y polvo que colapsó bajo su propia gravedad.\n",
      "\n",
      "5. **Evolución**: El Sistema Solar sigue evolucionando debido a la interacción gravitatoria entre sus componentes y los impactos externos como meteoritos y otros asteroideos.\n"
     ]
    }
   ],
   "source": [
    "chain = template | llm | StrOutputParser()\n",
    "response = chain.invoke({'school': 'posgrado', 'topics': 'sistema solar', 'points': 5})\n",
    "print(response)"
   ]
  },
  {
   "cell_type": "markdown",
   "metadata": {},
   "source": [
    "### Chaining Runnables (Chain Multiple Runnables)"
   ]
  },
  {
   "cell_type": "markdown",
   "metadata": {},
   "source": [
    "- We can even combine this chain with more runnables to create another chain.\n",
    "- Let's see how easy our generated output is?"
   ]
  },
  {
   "cell_type": "code",
   "execution_count": 11,
   "metadata": {},
   "outputs": [
    {
     "data": {
      "text/plain": [
       "ChatPromptTemplate(input_variables=['points', 'school', 'topics'], input_types={}, partial_variables={}, messages=[SystemMessagePromptTemplate(prompt=PromptTemplate(input_variables=['school'], input_types={}, partial_variables={}, template='Eres un profesor de {school}. Genera respuestas cortas.'), additional_kwargs={}), HumanMessagePromptTemplate(prompt=PromptTemplate(input_variables=['points', 'topics'], input_types={}, partial_variables={}, template='dime acerca de {topics} en {points} puntos'), additional_kwargs={})])\n",
       "| ChatOllama(model='llama3.2:3b', base_url='http://localhost:11434')\n",
       "| StrOutputParser()"
      ]
     },
     "execution_count": 11,
     "metadata": {},
     "output_type": "execute_result"
    }
   ],
   "source": [
    "chain"
   ]
  },
  {
   "cell_type": "code",
   "execution_count": 12,
   "metadata": {},
   "outputs": [
    {
     "name": "stdout",
     "output_type": "stream",
     "text": [
      "Entender el Sistema Solar puede ser un desafío, especialmente para aquellos que no tienen una base de conocimiento científico previa, pero con información y recursos adecuados, es posible lograr una comprensión clara.\n"
     ]
    }
   ],
   "source": [
    "analysis_prompt = ChatPromptTemplate.from_template('''Analiza el siguiente texto: {response}\n",
    "                                                   Dime que tan dificil es entenderlo.\n",
    "                                                   Responde en una sola oracion.\n",
    "                                                   ''')\n",
    "\n",
    "fact_check_chain = analysis_prompt | llm | StrOutputParser()\n",
    "output = fact_check_chain.invoke({'response': response})\n",
    "print(output)"
   ]
  },
  {
   "cell_type": "code",
   "execution_count": 13,
   "metadata": {},
   "outputs": [
    {
     "name": "stdout",
     "output_type": "stream",
     "text": [
      "Entender los puntos clave sobre el Sistema Solar no es particularmente difícil.\n"
     ]
    }
   ],
   "source": [
    "composed_chain = {\"response\": chain} | analysis_prompt | llm | StrOutputParser()\n",
    "\n",
    "output = composed_chain.invoke({'school': 'basica primaria', 'topics': 'sistema solar', 'points': 5})\n",
    "print(output)"
   ]
  },
  {
   "cell_type": "markdown",
   "metadata": {},
   "source": [
    "### Parallel LCEL Chain\n",
    "- Parallel chains are used to run multiple runnables in parallel.\n",
    "- The final return value is a dict with the results of each value under its appropriate key."
   ]
  },
  {
   "cell_type": "code",
   "execution_count": 14,
   "metadata": {},
   "outputs": [
    {
     "name": "stdout",
     "output_type": "stream",
     "text": [
      "Claro, aquí te presento dos puntos clave sobre el sistema solar:\n",
      "\n",
      "1. **Composición del sistema solar**: El sistema solar está compuesto por 8 planetas (Mercurio, Venus, Tierra, Marte, Júpiter, Saturno, Urano y Neptuno), más luna, asteroides, cometas y otros objetos celestes.\n",
      "\n",
      "2. **Orbita de los planetas**: Los planetas orbitan alrededor del Sol, el centro del sistema solar, siguiendo trayectorias ellipticas que pueden variar en cuanto a la distancia y velocidad.\n"
     ]
    }
   ],
   "source": [
    "system = SystemMessagePromptTemplate.from_template('Eres un profesor de {school}. Genera respuestas cortas.')\n",
    "\n",
    "question = HumanMessagePromptTemplate.from_template('dime acerca de {topics} en {points} puntos')\n",
    "\n",
    "\n",
    "messages = [system, question]\n",
    "template = ChatPromptTemplate(messages)\n",
    "fact_chain = template | llm | StrOutputParser()\n",
    "\n",
    "output = fact_chain.invoke({'school': 'primary', 'topics': 'solar system', 'points': 2})\n",
    "print(output)"
   ]
  },
  {
   "cell_type": "code",
   "execution_count": 16,
   "metadata": {},
   "outputs": [
    {
     "name": "stdout",
     "output_type": "stream",
     "text": [
      "En el cielo, una danza grande,\n",
      "La Luna brilla con su luna serena y tranquila, \n",
      "Mercurio salta cerca del Sol brillante, \n",
      "Júpiter es un gigante del espacio.\n"
     ]
    }
   ],
   "source": [
    "question = HumanMessagePromptTemplate.from_template('Escribe un poema acerca de {topics} en {sentences} lineas')\n",
    "\n",
    "\n",
    "messages = [system, question]\n",
    "template = ChatPromptTemplate(messages)\n",
    "poem_chain = template | llm | StrOutputParser()\n",
    "\n",
    "output = poem_chain.invoke({'school': 'primary', 'topics': 'solar system', 'sentences': 4})\n",
    "print(output)"
   ]
  },
  {
   "cell_type": "code",
   "execution_count": 17,
   "metadata": {},
   "outputs": [],
   "source": [
    "from langchain_core.runnables import RunnableParallel"
   ]
  },
  {
   "cell_type": "code",
   "execution_count": 18,
   "metadata": {},
   "outputs": [],
   "source": [
    "chain = RunnableParallel(fact = fact_chain, poem = poem_chain)"
   ]
  },
  {
   "cell_type": "code",
   "execution_count": 19,
   "metadata": {},
   "outputs": [
    {
     "name": "stdout",
     "output_type": "stream",
     "text": [
      "¡Claro! Aquí te presento dos puntos sobre el Sistema Solar:\n",
      "\n",
      "1. **El Sistema Solar consta de 8 planetas principales**: Mercurio, Venus, Tierra, Marte, Júpiter, Saturno, Urano y Neptuno.\n",
      "2. **La Luna orbita alrededor de la Tierra**, siendo un satélite natural del planeta y una parte integral del Sistema Solar.\n",
      "\n",
      "\n",
      "\n",
      "En el cosmos vasto, revoluciona la Tierra,\n",
      "Con luna y estrellas, una danza sin fin.\n"
     ]
    }
   ],
   "source": [
    "output = chain.invoke({'school': 'primary', 'topics': 'solar system', 'points': 2, 'sentences': 2})\n",
    "print(output['fact'])\n",
    "print('\\n\\n')\n",
    "print(output['poem'])"
   ]
  },
  {
   "cell_type": "markdown",
   "metadata": {},
   "source": [
    "### Chain Router\n",
    "- The router chain is used to route the output of a previous runnable to the next runnable based on the output of the previous runnable."
   ]
  },
  {
   "cell_type": "code",
   "execution_count": 20,
   "metadata": {},
   "outputs": [
    {
     "data": {
      "text/plain": [
       "'Positive'"
      ]
     },
     "execution_count": 20,
     "metadata": {},
     "output_type": "execute_result"
    }
   ],
   "source": [
    "prompt = \"\"\"Given the user review below, classify it as either being about `Positive` or `Negative`.\n",
    "            Do not respond with more than one word.\n",
    "\n",
    "            Review: {review}\n",
    "            Classification:\"\"\"\n",
    "\n",
    "template = ChatPromptTemplate.from_template(prompt)\n",
    "\n",
    "chain = template | llm | StrOutputParser()\n",
    "\n",
    "review = \"Thank you so much for providing such a great plateform for learning. I am really happy with the service.\"\n",
    "# review = \"I am not happy with the service. It is not good.\"\n",
    "chain.invoke({'review': review})"
   ]
  },
  {
   "cell_type": "code",
   "execution_count": 21,
   "metadata": {},
   "outputs": [],
   "source": [
    "positive_prompt = \"\"\"\n",
    "                You are expert in writing reply for positive reviews.\n",
    "                You need to encourage the user to share their experience on social media.\n",
    "                Review: {review}\n",
    "                Answer:\"\"\"\n",
    "\n",
    "positive_template = ChatPromptTemplate.from_template(positive_prompt)\n",
    "positive_chain = positive_template | llm | StrOutputParser()"
   ]
  },
  {
   "cell_type": "code",
   "execution_count": 22,
   "metadata": {},
   "outputs": [],
   "source": [
    "negative_prompt = \"\"\"\n",
    "                You are expert in writing reply for negative reviews.\n",
    "                You need first to apologize for the inconvenience caused to the user.\n",
    "                You need to encourage the user to share their concern on following Email:'udemy@kgptalkie.com'.\n",
    "                Review: {review}\n",
    "                Answer:\"\"\"\n",
    "\n",
    "\n",
    "negative_template = ChatPromptTemplate.from_template(negative_prompt)\n",
    "negative_chain = negative_template | llm | StrOutputParser()"
   ]
  },
  {
   "cell_type": "code",
   "execution_count": 23,
   "metadata": {},
   "outputs": [],
   "source": [
    "def rout(info):\n",
    "    if 'positive' in info['sentiment'].lower():\n",
    "        return positive_chain\n",
    "    else:\n",
    "        return negative_chain"
   ]
  },
  {
   "cell_type": "code",
   "execution_count": 24,
   "metadata": {},
   "outputs": [
    {
     "data": {
      "text/plain": [
       "ChatPromptTemplate(input_variables=['review'], input_types={}, partial_variables={}, messages=[HumanMessagePromptTemplate(prompt=PromptTemplate(input_variables=['review'], input_types={}, partial_variables={}, template=\"\\n                You are expert in writing reply for negative reviews.\\n                You need first to apologize for the inconvenience caused to the user.\\n                You need to encourage the user to share their concern on following Email:'udemy@kgptalkie.com'.\\n                Review: {review}\\n                Answer:\"), additional_kwargs={})])\n",
       "| ChatOllama(model='llama3.2:3b', base_url='http://localhost:11434')\n",
       "| StrOutputParser()"
      ]
     },
     "execution_count": 24,
     "metadata": {},
     "output_type": "execute_result"
    }
   ],
   "source": [
    "rout({'sentiment': 'negetive'})"
   ]
  },
  {
   "cell_type": "code",
   "execution_count": 25,
   "metadata": {},
   "outputs": [],
   "source": [
    "from langchain_core.runnables import RunnableLambda"
   ]
  },
  {
   "cell_type": "code",
   "execution_count": 26,
   "metadata": {},
   "outputs": [],
   "source": [
    "full_chain = {\"sentiment\": chain, 'review': lambda x: x['review']} | RunnableLambda(rout)"
   ]
  },
  {
   "cell_type": "code",
   "execution_count": 27,
   "metadata": {},
   "outputs": [
    {
     "data": {
      "text/plain": [
       "{\n",
       "  sentiment: ChatPromptTemplate(input_variables=['review'], input_types={}, partial_variables={}, messages=[HumanMessagePromptTemplate(prompt=PromptTemplate(input_variables=['review'], input_types={}, partial_variables={}, template='Given the user review below, classify it as either being about `Positive` or `Negative`.\\n            Do not respond with more than one word.\\n\\n            Review: {review}\\n            Classification:'), additional_kwargs={})])\n",
       "             | ChatOllama(model='llama3.2:3b', base_url='http://localhost:11434')\n",
       "             | StrOutputParser(),\n",
       "  review: RunnableLambda(lambda x: x['review'])\n",
       "}\n",
       "| RunnableLambda(rout)"
      ]
     },
     "execution_count": 27,
     "metadata": {},
     "output_type": "execute_result"
    }
   ],
   "source": [
    "full_chain"
   ]
  },
  {
   "cell_type": "code",
   "execution_count": 28,
   "metadata": {},
   "outputs": [
    {
     "name": "stdout",
     "output_type": "stream",
     "text": [
      "Dear valued customer,\n",
      "\n",
      "I am writing to apologize sincerely for the inconvenience you have experienced with our service. We are truly sorry that we have fallen short of your expectations and regret that you are not satisfied with our performance.\n",
      "\n",
      "At [Course/Platform Name], we take all feedback seriously and would like to learn more about what went wrong. Your satisfaction is our top priority, and I want to assure you that we are committed to making it right.\n",
      "\n",
      "If you would be willing, could you please share your concerns with us in more detail? Your input will help us identify areas for improvement and ensure that we deliver a better experience for all our users in the future.\n",
      "\n",
      "To facilitate this process, please send any additional comments or feedback regarding your experience with our service to [udemy@kgptalkie.com](mailto:udemy@kgptalkie.com). Your anonymity will be respected, and I assure you that all communications will remain confidential.\n",
      "\n",
      "Thank you for taking the time to share your concerns. We look forward to the opportunity to serve you better in the future and appreciate your patience and understanding.\n",
      "\n",
      "Best regards,\n",
      "[Your Name]\n",
      "Customer Support Team\n"
     ]
    }
   ],
   "source": [
    "# review = \"Thank you so much for providing such a great plateform for learning. I am really happy with the service.\"\n",
    "review = \"I am not happy with the service. It is not good.\"\n",
    "\n",
    "output = full_chain.invoke({'review': review})\n",
    "print(output)"
   ]
  },
  {
   "cell_type": "markdown",
   "metadata": {},
   "source": [
    "### Make Custom Chain Runnables with RunnablePassthrough and RunnableLambda\n",
    "- This is useful for formatting or when you need functionality not provided by other LangChain components, and custom functions used as Runnables are called RunnableLambdas.\n",
    "\n"
   ]
  },
  {
   "cell_type": "code",
   "execution_count": 29,
   "metadata": {},
   "outputs": [],
   "source": [
    "from langchain_core.runnables import RunnablePassthrough, RunnableLambda"
   ]
  },
  {
   "cell_type": "code",
   "execution_count": 33,
   "metadata": {},
   "outputs": [],
   "source": [
    "def char_counts(text):\n",
    "    return len(text)\n",
    "\n",
    "def word_counts(text):\n",
    "    return len(text.split())\n",
    "\n",
    "prompt = ChatPromptTemplate.from_template(\"Explica estas entradas en 5 oraciones: {input1} y {input2}\")"
   ]
  },
  {
   "cell_type": "code",
   "execution_count": 34,
   "metadata": {},
   "outputs": [
    {
     "data": {
      "text/plain": [
       "ChatPromptTemplate(input_variables=['input1', 'input2'], input_types={}, partial_variables={}, messages=[HumanMessagePromptTemplate(prompt=PromptTemplate(input_variables=['input1', 'input2'], input_types={}, partial_variables={}, template='Explica estas entradas en 5 oraciones: {input1} y {input2}'), additional_kwargs={})])"
      ]
     },
     "execution_count": 34,
     "metadata": {},
     "output_type": "execute_result"
    }
   ],
   "source": [
    "prompt"
   ]
  },
  {
   "cell_type": "code",
   "execution_count": 35,
   "metadata": {},
   "outputs": [
    {
     "name": "stdout",
     "output_type": "stream",
     "text": [
      "En esta entrada, se establece la relación entre dos entidades celestes: la Tierra (planeta) y el Sol (estrella). La Tierra es un planeta que orbita alrededor del Sol. En cambio, el Sol es una estrella, cuya energía es lo que hace posible la existencia de la Tierra. Esta distinción es importante para entender la estructura y funcionamiento del sistema solar. Ambas entidades son fundamentales en nuestro universo.\n"
     ]
    }
   ],
   "source": [
    "chain = prompt | llm | StrOutputParser()\n",
    "\n",
    "output = chain.invoke({'input1': 'Earth is planet', 'input2': 'Sun is star'})\n",
    "\n",
    "print(output)"
   ]
  },
  {
   "cell_type": "code",
   "execution_count": 36,
   "metadata": {},
   "outputs": [
    {
     "name": "stdout",
     "output_type": "stream",
     "text": [
      "{'char_counts': 566, 'word_counts': 101, 'output': 'La primera entrada, \"Earth es planeta\", indica que la Tierra es un objeto celeste que orbita alrededor del Sol. En astronomía, un planeta es una masa celestial que orbita alrededor de otra masa celestial más grande, como el Sol. La Tierra cumple con este criterio y por eso se considera un planeta. El segundo punto dice \"Sun es estrella\", lo cual es cierto ya que el Sol es una masa celestial calentada principalmente por la fusión nuclear en su núcleo. En astronomía, una estrella es un objeto celeste que emite luz y calor debido a la fusión nuclear en su núcleo.'}\n"
     ]
    }
   ],
   "source": [
    "chain = prompt | llm | StrOutputParser() | {'char_counts': RunnableLambda(char_counts), \n",
    "                                            'word_counts': RunnableLambda(word_counts), \n",
    "                                            'output': RunnablePassthrough()}\n",
    "\n",
    "output = chain.invoke({'input1': 'Earth is planet', 'input2': 'Sun is star'})\n",
    "\n",
    "print(output)"
   ]
  },
  {
   "cell_type": "markdown",
   "metadata": {},
   "source": [
    "### Custom Chain using `@chain` decorator"
   ]
  },
  {
   "cell_type": "code",
   "execution_count": 37,
   "metadata": {},
   "outputs": [],
   "source": [
    "from langchain_core.runnables import chain"
   ]
  },
  {
   "cell_type": "code",
   "execution_count": 38,
   "metadata": {},
   "outputs": [
    {
     "name": "stdout",
     "output_type": "stream",
     "text": [
      "Aquí te presento dos puntos clave sobre el sistema solar:\n",
      "\n",
      "1. **El Sol es la estrella central**: Es la fuente de luz y calor para todo el sistema solar.\n",
      "2. **Los planetas orbitan alrededor del Sol**: Cada planeta tiene su propia órbita, trayectoria que sigue alrededor del Sol debido a su gravedad.\n",
      "\n",
      "\n",
      "\n",
      "En el espacio, un sistema grandioso,\n",
      "Sol, luna y planetas, una danza celestial, sin fin y mágico.\n"
     ]
    }
   ],
   "source": [
    "@chain\n",
    "def custom_chain(params):\n",
    "    return {\n",
    "        'fact': fact_chain.invoke(params),\n",
    "        'poem': poem_chain.invoke(params),\n",
    "    }\n",
    "\n",
    "\n",
    "params = {'school': 'primary', 'topics': 'solar system', 'points': 2, 'sentences': 2}\n",
    "output = custom_chain.invoke(params)\n",
    "print(output['fact'])\n",
    "print('\\n\\n')\n",
    "print(output['poem'])"
   ]
  }
 ],
 "metadata": {
  "kernelspec": {
   "display_name": ".venv",
   "language": "python",
   "name": "python3"
  },
  "language_info": {
   "codemirror_mode": {
    "name": "ipython",
    "version": 3
   },
   "file_extension": ".py",
   "mimetype": "text/x-python",
   "name": "python",
   "nbconvert_exporter": "python",
   "pygments_lexer": "ipython3",
   "version": "3.12.4"
  }
 },
 "nbformat": 4,
 "nbformat_minor": 2
}
