{
 "cells": [
  {
   "cell_type": "code",
   "execution_count": 1,
   "metadata": {},
   "outputs": [
    {
     "name": "stdout",
     "output_type": "stream",
     "text": [
      "Note: you may need to restart the kernel to use updated packages.\n"
     ]
    }
   ],
   "source": [
    "pip install langchain langchain-ollama python-dotenv -q"
   ]
  },
  {
   "cell_type": "code",
   "execution_count": 1,
   "metadata": {},
   "outputs": [
    {
     "name": "stdout",
     "output_type": "stream",
     "text": [
      "Langchain Getting Started.ipynb\n"
     ]
    }
   ],
   "source": [
    "ls"
   ]
  },
  {
   "cell_type": "code",
   "execution_count": 2,
   "metadata": {},
   "outputs": [
    {
     "data": {
      "text/plain": [
       "True"
      ]
     },
     "execution_count": 2,
     "metadata": {},
     "output_type": "execute_result"
    }
   ],
   "source": [
    "from dotenv import load_dotenv\n",
    "\n",
    "load_dotenv('../../.env')"
   ]
  },
  {
   "cell_type": "code",
   "execution_count": 7,
   "metadata": {},
   "outputs": [
    {
     "data": {
      "text/plain": [
       "'https://api.smith.langchain.com'"
      ]
     },
     "execution_count": 7,
     "metadata": {},
     "output_type": "execute_result"
    }
   ],
   "source": [
    "import os\n",
    "#import getpass\n",
    "#getpass.getpass()\n",
    "os.environ['LANGCHAIN_ENDPOINT']"
   ]
  },
  {
   "cell_type": "code",
   "execution_count": 8,
   "metadata": {},
   "outputs": [
    {
     "name": "stdout",
     "output_type": "stream",
     "text": [
      "¡Hola! ¿En qué puedo ayudarte hoy en la materia de matemáticas? ¿Tienes alguna pregunta o necesitas ayuda con un concepto en particular? Estoy aquí para ayudarte.\n"
     ]
    }
   ],
   "source": [
    "from langchain_ollama import ChatOllama\n",
    "\n",
    "base_url = \"http://localhost:11434\"\n",
    "# model = 'llama3.2:1b'\n",
    "\n",
    "model = 'profe:latest'\n",
    "\n",
    "llm = ChatOllama(\n",
    "    base_url=base_url,\n",
    "    model = model,\n",
    "    temperature = 0.5,\n",
    "    num_predict = 256\n",
    ")\n",
    "\n",
    "response = llm.invoke('hola')\n",
    "\n",
    "\n",
    "print(response.content)"
   ]
  },
  {
   "cell_type": "code",
   "execution_count": 9,
   "metadata": {},
   "outputs": [
    {
     "name": "stdout",
     "output_type": "stream",
     "text": [
      "Goku es un personaje ficticio que proviene de la serie de anime y manga \"Dragon Ball\", creada por Akira Toriyama.\n",
      "\n",
      "En la serie, Goku es el protagonista principal, un joven guerrero con habilidades sobrenaturales que busca convertirse en el más fuerte del planeta. Es conocido por su capacidad para realizar movimientos extremadamente rápidos y poderosos, como el Kamehameha, un ataque de energía que puede destruir ciudades.\n",
      "\n",
      "Goku es también caracterizado por su espíritu valiente, su amistad con sus amigos y aliados, y su deseo constante de mejorar y convertirse en el mejor guerrero posible. A lo largo de la serie, Goku enfrenta a numerosos enemigos poderosos y superhéroes, y siempre logra encontrar formas innovadoras de vencerlos.\n",
      "\n",
      "Aunque Goku es un personaje ficticio, ha ganado una gran popularidad en todo el mundo, especialmente entre los fanáticos de la cultura japonesa. Su legendaria valentía y habilidades sobrenaturales lo han convertido en un símbolo icónico de la serie \"Dragon Ball\".\n"
     ]
    }
   ],
   "source": [
    "response = llm.invoke('quien es goku?')\n",
    "\n",
    "\n",
    "print(response.content)"
   ]
  },
  {
   "cell_type": "code",
   "execution_count": 10,
   "metadata": {},
   "outputs": [
    {
     "name": "stdout",
     "output_type": "stream",
     "text": [
      "Goku es un personaje ficticio de la serie de manga y anime \"Dragon Ball\", creado por Akira Toriyama. Es un guerrero de Saiyán, una raza de seres con habilidades sobrehumanas.\n",
      "\n",
      "En el universo de Dragon Ball, Goku es conocido por su increíble fuerza física, velocidad y agilidad. Es un héroe que lucha para proteger a sus amigos y familiares, y siempre está dispuesto a defender lo que es justo.\n",
      "\n",
      "Goku ha sido interpretado en varias series de anime y películas, incluyendo la serie original \"Dragon Ball\", \"Dragon Ball Z\" y \"Dragon Ball Super\". Es uno de los personajes más populares y reconocidos del universo de manga y anime.\n",
      "\n",
      "En cuanto a su relación con las matemáticas, Goku es conocido por su capacidad para realizar cálculos rápidos y precisos en momentos críticos. En la serie, a menudo utiliza sus habilidades matemáticas para resolver problemas complejos y superar obstáculos.\n",
      "\n",
      "¿Quieres saber más sobre cómo se relaciona Goku con las matemáticas?\n"
     ]
    }
   ],
   "source": [
    "llm = ChatOllama(\n",
    "    base_url=base_url,\n",
    "    model = model,\n",
    "    temperature = 0.0,\n",
    "    num_predict = 512\n",
    ")\n",
    "\n",
    "response = llm.invoke('¿quien es goku?')\n",
    "\n",
    "\n",
    "print(response.content)\n"
   ]
  },
  {
   "cell_type": "code",
   "execution_count": 11,
   "metadata": {},
   "outputs": [
    {
     "data": {
      "text/plain": [
       "{'model': 'profe:latest',\n",
       " 'created_at': '2025-01-07T20:28:34.202583Z',\n",
       " 'message': {'role': 'assistant', 'content': ''},\n",
       " 'done_reason': 'stop',\n",
       " 'done': True,\n",
       " 'total_duration': 4751713584,\n",
       " 'load_duration': 15912084,\n",
       " 'prompt_eval_count': 135,\n",
       " 'prompt_eval_duration': 71000000,\n",
       " 'eval_count': 242,\n",
       " 'eval_duration': 4663000000}"
      ]
     },
     "execution_count": 11,
     "metadata": {},
     "output_type": "execute_result"
    }
   ],
   "source": [
    "response.response_metadata"
   ]
  },
  {
   "cell_type": "code",
   "execution_count": 20,
   "metadata": {},
   "outputs": [
    {
     "name": "stdout",
     "output_type": "stream",
     "text": [
      "Goku es un personaje ficticio de la serie de manga y anime \"Dragon Ball\", creado por Akira Toriyama. Es un guerrero de Saiyán, una raza de seres con habilidades sobrehumanas.\n",
      "\n",
      "En el universo de Dragon Ball, Goku es conocido por su increíble fuerza física, velocidad y agilidad. Es un héroe que lucha para proteger a sus amigos y familiares, y siempre está dispuesto a defender lo que es justo.\n",
      "\n",
      "Goku ha sido interpretado en varias series de anime y películas, incluyendo la serie original \"Dragon Ball\", \"Dragon Ball Z\" y \"Dragon Ball Super\". Es uno de los personajes más populares y reconocidos del universo de manga y anime.\n",
      "\n",
      "En cuanto a su relación con las matemáticas, Goku es conocido por su capacidad para realizar cálculos rápidos y precisos en momentos críticos. En la serie, a menudo utiliza sus habilidades matemáticas para resolver problemas complejos y superar obstáculos.\n",
      "\n",
      "¿Quieres saber más sobre cómo se relaciona Goku con las matemáticas?\n"
     ]
    }
   ],
   "source": [
    "from IPython.display import clear_output\n",
    "\n",
    "response = \"\"\n",
    "for chunk in llm.stream('¿quien es goku?'):\n",
    "    clear_output(wait=True)\n",
    "    response += chunk.content\n",
    "    print(response)\n"
   ]
  },
  {
   "cell_type": "code",
   "execution_count": 21,
   "metadata": {},
   "outputs": [
    {
     "name": "stdout",
     "output_type": "stream",
     "text": [
      "Goku es un personaje ficticio de la serie de manga y anime \"Dragon Ball\", creado por Akira Toriyama. Es un guerrero de Saiyán, una raza de seres con habilidades sobrehumanas.\n",
      "\n",
      "En el universo de Dragon Ball, Goku es conocido por su increíble fuerza física, velocidad y agilidad. Es un héroe que lucha para proteger a sus amigos y familiares, y siempre está dispuesto a defender lo que es justo.\n",
      "\n",
      "Goku ha sido interpretado en varias series de anime y películas, incluyendo la serie original \"Dragon Ball\", \"Dragon Ball Z\" y \"Dragon Ball Super\". Es uno de los personajes más populares y reconocidos del universo de manga y anime.\n",
      "\n",
      "En cuanto a su relación con las matemáticas, Goku es conocido por su capacidad para realizar cálculos rápidos y precisos en momentos críticos. En la serie, a menudo utiliza sus habilidades matemáticas para resolver problemas complejos y superar obstáculos.\n",
      "\n",
      "¿Quieres saber más sobre cómo se relaciona Goku con las matemáticas?\n"
     ]
    }
   ],
   "source": [
    "print(response)"
   ]
  }
 ],
 "metadata": {
  "kernelspec": {
   "display_name": ".venv",
   "language": "python",
   "name": "python3"
  },
  "language_info": {
   "codemirror_mode": {
    "name": "ipython",
    "version": 3
   },
   "file_extension": ".py",
   "mimetype": "text/x-python",
   "name": "python",
   "nbconvert_exporter": "python",
   "pygments_lexer": "ipython3",
   "version": "3.12.4"
  }
 },
 "nbformat": 4,
 "nbformat_minor": 2
}
